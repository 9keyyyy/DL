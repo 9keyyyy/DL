{
 "cells": [
  {
   "cell_type": "code",
   "execution_count": 1,
   "id": "7c616335",
   "metadata": {
    "_cell_guid": "b1076dfc-b9ad-4769-8c92-a6c4dae69d19",
    "_uuid": "8f2839f25d086af736a60e9eeb907d3b93b6e0e5",
    "execution": {
     "iopub.execute_input": "2021-10-17T04:18:42.964770Z",
     "iopub.status.busy": "2021-10-17T04:18:42.962980Z",
     "iopub.status.idle": "2021-10-17T04:18:44.454086Z",
     "shell.execute_reply": "2021-10-17T04:18:44.454864Z",
     "shell.execute_reply.started": "2021-10-17T04:17:53.583815Z"
    },
    "papermill": {
     "duration": 1.513509,
     "end_time": "2021-10-17T04:18:44.455191",
     "exception": false,
     "start_time": "2021-10-17T04:18:42.941682",
     "status": "completed"
    },
    "tags": []
   },
   "outputs": [
    {
     "name": "stdout",
     "output_type": "stream",
     "text": [
      "/kaggle/input/2021-ai-w7-p1/mnist_test.csv\n",
      "/kaggle/input/2021-ai-w7-p1/mnist_train.csv\n",
      "/kaggle/input/2021-ai-w7-p1/submission.csv\n"
     ]
    }
   ],
   "source": [
    "# This Python 3 environment comes with many helpful analytics libraries installed\n",
    "# It is defined by the kaggle/python Docker image: https://github.com/kaggle/docker-python\n",
    "# For example, here's several helpful packages to load\n",
    "\n",
    "import numpy as np # linear algebra\n",
    "import pandas as pd # data processing, CSV file I/O (e.g. pd.read_csv)\n",
    "import torch\n",
    "import torch.optim as optim\n",
    "torch.manual_seed(1)\n",
    "\n",
    "import random\n",
    "random.seed(1)\n",
    "# Input data files are available in the read-only \"../input/\" directory\n",
    "# For example, running this (by clicking run or pressing Shift+Enter) will list all files under the input directory\n",
    "\n",
    "import os\n",
    "for dirname, _, filenames in os.walk('/kaggle/input'):\n",
    "    for filename in filenames:\n",
    "        print(os.path.join(dirname, filename))\n",
    "\n",
    "# You can write up to 20GB to the current directory (/kaggle/working/) that gets preserved as output when you create a version using \"Save & Run All\" \n",
    "# You can also write temporary files to /kaggle/temp/, but they won't be saved outside of the current session"
   ]
  },
  {
   "cell_type": "code",
   "execution_count": 2,
   "id": "f22f590b",
   "metadata": {
    "execution": {
     "iopub.execute_input": "2021-10-17T04:18:44.487082Z",
     "iopub.status.busy": "2021-10-17T04:18:44.486252Z",
     "iopub.status.idle": "2021-10-17T04:18:53.457486Z",
     "shell.execute_reply": "2021-10-17T04:18:53.456937Z",
     "shell.execute_reply.started": "2021-10-17T04:17:53.738741Z"
    },
    "papermill": {
     "duration": 8.988676,
     "end_time": "2021-10-17T04:18:53.457635",
     "exception": false,
     "start_time": "2021-10-17T04:18:44.468959",
     "status": "completed"
    },
    "tags": []
   },
   "outputs": [],
   "source": [
    "X = pd.read_csv('/kaggle/input/2021-ai-w7-p1/mnist_train.csv')\n",
    "y = X['784']\n",
    "X = X.drop(['Unnamed: 0', '784'], axis = 1)\n",
    "test = pd.read_csv('/kaggle/input/2021-ai-w7-p1/mnist_test.csv').drop(['Unnamed: 0'], axis = 1)\n",
    "sample = pd.read_csv('/kaggle/input/2021-ai-w7-p1/submission.csv')"
   ]
  },
  {
   "cell_type": "code",
   "execution_count": 3,
   "id": "d5e6e546",
   "metadata": {
    "execution": {
     "iopub.execute_input": "2021-10-17T04:18:53.526263Z",
     "iopub.status.busy": "2021-10-17T04:18:53.525454Z",
     "iopub.status.idle": "2021-10-17T04:18:53.529873Z",
     "shell.execute_reply": "2021-10-17T04:18:53.529432Z",
     "shell.execute_reply.started": "2021-10-17T04:17:59.977712Z"
    },
    "papermill": {
     "duration": 0.059557,
     "end_time": "2021-10-17T04:18:53.529980",
     "exception": false,
     "start_time": "2021-10-17T04:18:53.470423",
     "status": "completed"
    },
    "tags": []
   },
   "outputs": [],
   "source": [
    "device = 'cuda' if torch.cuda.is_available() else 'cpu'\n",
    "\n",
    "if device == 'cuda':\n",
    "    torch.cuda.manual_seed_all(1)"
   ]
  },
  {
   "cell_type": "code",
   "execution_count": 4,
   "id": "f7466d4a",
   "metadata": {
    "execution": {
     "iopub.execute_input": "2021-10-17T04:18:53.558691Z",
     "iopub.status.busy": "2021-10-17T04:18:53.558157Z",
     "iopub.status.idle": "2021-10-17T04:18:54.795885Z",
     "shell.execute_reply": "2021-10-17T04:18:54.795386Z",
     "shell.execute_reply.started": "2021-10-17T04:17:59.985485Z"
    },
    "papermill": {
     "duration": 1.253703,
     "end_time": "2021-10-17T04:18:54.796014",
     "exception": false,
     "start_time": "2021-10-17T04:18:53.542311",
     "status": "completed"
    },
    "tags": []
   },
   "outputs": [],
   "source": [
    "from sklearn.preprocessing import MinMaxScaler\n",
    "sc = MinMaxScaler()\n",
    "X_sc = sc.fit_transform(X)\n",
    "test_sc = sc.transform(test)"
   ]
  },
  {
   "cell_type": "code",
   "execution_count": 5,
   "id": "71d6140e",
   "metadata": {
    "execution": {
     "iopub.execute_input": "2021-10-17T04:18:54.826624Z",
     "iopub.status.busy": "2021-10-17T04:18:54.826073Z",
     "iopub.status.idle": "2021-10-17T04:18:57.659712Z",
     "shell.execute_reply": "2021-10-17T04:18:57.659114Z",
     "shell.execute_reply.started": "2021-10-17T04:18:00.440501Z"
    },
    "papermill": {
     "duration": 2.851278,
     "end_time": "2021-10-17T04:18:57.659851",
     "exception": false,
     "start_time": "2021-10-17T04:18:54.808573",
     "status": "completed"
    },
    "tags": []
   },
   "outputs": [],
   "source": [
    "# X = torch.FloatTensor(X.to_numpy()).to(device)\n",
    "# test = torch.FloatTensor(test.to_numpy()).to(device)\n",
    "y = torch.LongTensor(y.to_numpy()).to(device)"
   ]
  },
  {
   "cell_type": "code",
   "execution_count": 6,
   "id": "85e47abf",
   "metadata": {
    "execution": {
     "iopub.execute_input": "2021-10-17T04:18:57.692279Z",
     "iopub.status.busy": "2021-10-17T04:18:57.691294Z",
     "iopub.status.idle": "2021-10-17T04:18:57.896319Z",
     "shell.execute_reply": "2021-10-17T04:18:57.895819Z",
     "shell.execute_reply.started": "2021-10-17T04:18:00.449383Z"
    },
    "papermill": {
     "duration": 0.22285,
     "end_time": "2021-10-17T04:18:57.896571",
     "exception": false,
     "start_time": "2021-10-17T04:18:57.673721",
     "status": "completed"
    },
    "tags": []
   },
   "outputs": [],
   "source": [
    "X_sc = torch.FloatTensor(X_sc).to(device)\n",
    "test_sc = torch.FloatTensor(test_sc).to(device)"
   ]
  },
  {
   "cell_type": "code",
   "execution_count": 7,
   "id": "9e227e45",
   "metadata": {
    "execution": {
     "iopub.execute_input": "2021-10-17T04:18:57.930159Z",
     "iopub.status.busy": "2021-10-17T04:18:57.929273Z",
     "iopub.status.idle": "2021-10-17T04:18:57.931178Z",
     "shell.execute_reply": "2021-10-17T04:18:57.931658Z",
     "shell.execute_reply.started": "2021-10-17T04:18:00.647946Z"
    },
    "papermill": {
     "duration": 0.020384,
     "end_time": "2021-10-17T04:18:57.931776",
     "exception": false,
     "start_time": "2021-10-17T04:18:57.911392",
     "status": "completed"
    },
    "tags": []
   },
   "outputs": [],
   "source": [
    "# from sklearn.model_selection import train_test_split\n",
    "# X_train, X_test, y_train, y_test = train_test_split(X_sc, y, test_size=0.33, random_state=42)"
   ]
  },
  {
   "cell_type": "code",
   "execution_count": 8,
   "id": "a0565dce",
   "metadata": {
    "execution": {
     "iopub.execute_input": "2021-10-17T04:18:57.968319Z",
     "iopub.status.busy": "2021-10-17T04:18:57.964887Z",
     "iopub.status.idle": "2021-10-17T04:18:57.993910Z",
     "shell.execute_reply": "2021-10-17T04:18:57.994670Z",
     "shell.execute_reply.started": "2021-10-17T04:18:00.653659Z"
    },
    "papermill": {
     "duration": 0.05016,
     "end_time": "2021-10-17T04:18:57.994811",
     "exception": false,
     "start_time": "2021-10-17T04:18:57.944651",
     "status": "completed"
    },
    "tags": []
   },
   "outputs": [],
   "source": [
    "linear1 = torch.nn.Linear(784, 256)\n",
    "linear2 = torch.nn.Linear(256, 256)\n",
    "linear3 = torch.nn.Linear(256, 256)\n",
    "linear4 = torch.nn.Linear(256, 10)\n",
    "linear5 = torch.nn.Linear(512, 10)\n",
    "relu = torch.nn.ReLU()\n",
    "dropout = torch.nn.Dropout(p=0.4)\n",
    "\n",
    "torch.nn.init.xavier_normal_(linear1.weight)\n",
    "torch.nn.init.xavier_normal_(linear2.weight)\n",
    "torch.nn.init.xavier_normal_(linear3.weight)\n",
    "torch.nn.init.xavier_normal_(linear4.weight)\n",
    "# torch.nn.init.xavier_uniform_(linear5.weight)\n",
    "\n",
    "model = torch.nn.Sequential(linear1, relu, dropout,\n",
    "                            linear2, relu, dropout,\n",
    "                            linear3, relu, dropout,\n",
    "                            linear4).to(device)"
   ]
  },
  {
   "cell_type": "code",
   "execution_count": 9,
   "id": "66ae7d48",
   "metadata": {
    "execution": {
     "iopub.execute_input": "2021-10-17T04:18:58.026086Z",
     "iopub.status.busy": "2021-10-17T04:18:58.024414Z",
     "iopub.status.idle": "2021-10-17T04:18:58.026812Z",
     "shell.execute_reply": "2021-10-17T04:18:58.027288Z",
     "shell.execute_reply.started": "2021-10-17T04:18:00.674217Z"
    },
    "papermill": {
     "duration": 0.019505,
     "end_time": "2021-10-17T04:18:58.027406",
     "exception": false,
     "start_time": "2021-10-17T04:18:58.007901",
     "status": "completed"
    },
    "tags": []
   },
   "outputs": [],
   "source": [
    "# from torch.utils.data import TensorDataset\n",
    "# dataset = TensorDataset(X_sc, y)\n",
    "# dataloader = torch.utils.data.DataLoader(dataset,shuffle=True,batch_size=500, drop_last = True)"
   ]
  },
  {
   "cell_type": "code",
   "execution_count": 10,
   "id": "1eb24710",
   "metadata": {
    "execution": {
     "iopub.execute_input": "2021-10-17T04:18:58.060943Z",
     "iopub.status.busy": "2021-10-17T04:18:58.060390Z",
     "iopub.status.idle": "2021-10-17T04:19:11.006107Z",
     "shell.execute_reply": "2021-10-17T04:19:11.005292Z",
     "shell.execute_reply.started": "2021-10-17T04:18:00.680046Z"
    },
    "papermill": {
     "duration": 12.96477,
     "end_time": "2021-10-17T04:19:11.006298",
     "exception": false,
     "start_time": "2021-10-17T04:18:58.041528",
     "status": "completed"
    },
    "tags": []
   },
   "outputs": [
    {
     "name": "stdout",
     "output_type": "stream",
     "text": [
      "0 2.4053337574005127\n",
      "50 0.27694734930992126\n",
      "100 0.14853698015213013\n",
      "150 0.09709536284208298\n",
      "200 0.07076843827962875\n",
      "250 0.049580469727516174\n",
      "300 0.03899148106575012\n",
      "350 0.030989961698651314\n",
      "400 0.024271314963698387\n",
      "450 0.019564973190426826\n",
      "500 0.01728806085884571\n"
     ]
    }
   ],
   "source": [
    "loss = torch.nn.CrossEntropyLoss()\n",
    "optimizer = optim.Adam(model.parameters(), lr = 1e-3)\n",
    "\n",
    "for epoch in range(501):\n",
    "    hypothesis = model(X_sc)\n",
    "    cost = loss(hypothesis, y)\n",
    "    optimizer.zero_grad()\n",
    "    cost.backward()\n",
    "    optimizer.step()\n",
    "    if epoch%50==0:\n",
    "        print(epoch, cost.item())"
   ]
  },
  {
   "cell_type": "code",
   "execution_count": 11,
   "id": "a7cc8b19",
   "metadata": {
    "execution": {
     "iopub.execute_input": "2021-10-17T04:19:11.042132Z",
     "iopub.status.busy": "2021-10-17T04:19:11.041408Z",
     "iopub.status.idle": "2021-10-17T04:19:11.043969Z",
     "shell.execute_reply": "2021-10-17T04:19:11.043524Z",
     "shell.execute_reply.started": "2021-10-17T04:18:12.803258Z"
    },
    "papermill": {
     "duration": 0.021539,
     "end_time": "2021-10-17T04:19:11.044088",
     "exception": false,
     "start_time": "2021-10-17T04:19:11.022549",
     "status": "completed"
    },
    "tags": []
   },
   "outputs": [],
   "source": [
    "# model.train()\n",
    "# loss = torch.nn.CrossEntropyLoss()\n",
    "# optimizer = optim.Adam(model.parameters(), lr = 1e-4)\n",
    "\n",
    "# for epoch in range(121):\n",
    "#     for x_train, y_train in dataloader:\n",
    "#         hypothesis = model(x_train)\n",
    "#         cost = loss(hypothesis, y_train)\n",
    "#         optimizer.zero_grad()\n",
    "#         cost.backward()\n",
    "#         optimizer.step()\n",
    "#     if epoch%10==0:\n",
    "#             print(epoch, cost.item())"
   ]
  },
  {
   "cell_type": "code",
   "execution_count": 12,
   "id": "28ec0fcb",
   "metadata": {
    "execution": {
     "iopub.execute_input": "2021-10-17T04:19:11.079533Z",
     "iopub.status.busy": "2021-10-17T04:19:11.079006Z",
     "iopub.status.idle": "2021-10-17T04:19:11.091832Z",
     "shell.execute_reply": "2021-10-17T04:19:11.091387Z",
     "shell.execute_reply.started": "2021-10-17T04:18:12.808305Z"
    },
    "papermill": {
     "duration": 0.032565,
     "end_time": "2021-10-17T04:19:11.091943",
     "exception": false,
     "start_time": "2021-10-17T04:19:11.059378",
     "status": "completed"
    },
    "tags": []
   },
   "outputs": [
    {
     "name": "stdout",
     "output_type": "stream",
     "text": [
      "0.9999166666666667\n"
     ]
    }
   ],
   "source": [
    "model.eval()\n",
    "with torch.no_grad():\n",
    "    predict = torch.nn.functional.softmax(model(X_sc), dim=1)\n",
    "    predict = torch.argmax(predict, dim=1)\n",
    "    correct = y == predict.float()\n",
    "    accuracy = correct.sum().item()/len(correct)\n",
    "    print(accuracy)\n",
    "#0.9999666666666667"
   ]
  },
  {
   "cell_type": "code",
   "execution_count": 13,
   "id": "dc6c9c5b",
   "metadata": {
    "execution": {
     "iopub.execute_input": "2021-10-17T04:19:11.127792Z",
     "iopub.status.busy": "2021-10-17T04:19:11.127279Z",
     "iopub.status.idle": "2021-10-17T04:19:11.132482Z",
     "shell.execute_reply": "2021-10-17T04:19:11.133158Z",
     "shell.execute_reply.started": "2021-10-17T04:18:12.826451Z"
    },
    "papermill": {
     "duration": 0.025361,
     "end_time": "2021-10-17T04:19:11.133321",
     "exception": false,
     "start_time": "2021-10-17T04:19:11.107960",
     "status": "completed"
    },
    "tags": []
   },
   "outputs": [
    {
     "name": "stdout",
     "output_type": "stream",
     "text": [
      "<built-in method type of Tensor object at 0x7fb70564e5f0>\n"
     ]
    }
   ],
   "source": [
    "model.eval()\n",
    "with torch.no_grad():\n",
    "    predict = torch.nn.functional.softmax(model(test_sc), dim=1)\n",
    "    predict = torch.argmax(predict, dim=1)\n",
    "    print(predict.type)"
   ]
  },
  {
   "cell_type": "code",
   "execution_count": 14,
   "id": "0e4f9e21",
   "metadata": {
    "execution": {
     "iopub.execute_input": "2021-10-17T04:19:11.168882Z",
     "iopub.status.busy": "2021-10-17T04:19:11.168127Z",
     "iopub.status.idle": "2021-10-17T04:19:11.174262Z",
     "shell.execute_reply": "2021-10-17T04:19:11.174671Z",
     "shell.execute_reply.started": "2021-10-17T04:16:57.169846Z"
    },
    "papermill": {
     "duration": 0.025125,
     "end_time": "2021-10-17T04:19:11.174785",
     "exception": false,
     "start_time": "2021-10-17T04:19:11.149660",
     "status": "completed"
    },
    "tags": []
   },
   "outputs": [
    {
     "data": {
      "text/plain": [
       "array([7, 2, 1, ..., 4, 5, 6])"
      ]
     },
     "execution_count": 14,
     "metadata": {},
     "output_type": "execute_result"
    }
   ],
   "source": [
    "predict = predict.cpu().numpy()\n",
    "predict"
   ]
  },
  {
   "cell_type": "code",
   "execution_count": 15,
   "id": "16031102",
   "metadata": {
    "execution": {
     "iopub.execute_input": "2021-10-17T04:19:11.211589Z",
     "iopub.status.busy": "2021-10-17T04:19:11.210337Z",
     "iopub.status.idle": "2021-10-17T04:19:11.219412Z",
     "shell.execute_reply": "2021-10-17T04:19:11.219870Z",
     "shell.execute_reply.started": "2021-10-17T04:16:57.520559Z"
    },
    "papermill": {
     "duration": 0.029285,
     "end_time": "2021-10-17T04:19:11.219984",
     "exception": false,
     "start_time": "2021-10-17T04:19:11.190699",
     "status": "completed"
    },
    "tags": []
   },
   "outputs": [
    {
     "data": {
      "text/html": [
       "<div>\n",
       "<style scoped>\n",
       "    .dataframe tbody tr th:only-of-type {\n",
       "        vertical-align: middle;\n",
       "    }\n",
       "\n",
       "    .dataframe tbody tr th {\n",
       "        vertical-align: top;\n",
       "    }\n",
       "\n",
       "    .dataframe thead th {\n",
       "        text-align: right;\n",
       "    }\n",
       "</style>\n",
       "<table border=\"1\" class=\"dataframe\">\n",
       "  <thead>\n",
       "    <tr style=\"text-align: right;\">\n",
       "      <th></th>\n",
       "      <th>id</th>\n",
       "      <th>Label</th>\n",
       "    </tr>\n",
       "  </thead>\n",
       "  <tbody>\n",
       "    <tr>\n",
       "      <th>0</th>\n",
       "      <td>0</td>\n",
       "      <td>7</td>\n",
       "    </tr>\n",
       "    <tr>\n",
       "      <th>1</th>\n",
       "      <td>1</td>\n",
       "      <td>2</td>\n",
       "    </tr>\n",
       "    <tr>\n",
       "      <th>2</th>\n",
       "      <td>2</td>\n",
       "      <td>1</td>\n",
       "    </tr>\n",
       "    <tr>\n",
       "      <th>3</th>\n",
       "      <td>3</td>\n",
       "      <td>0</td>\n",
       "    </tr>\n",
       "    <tr>\n",
       "      <th>4</th>\n",
       "      <td>4</td>\n",
       "      <td>4</td>\n",
       "    </tr>\n",
       "  </tbody>\n",
       "</table>\n",
       "</div>"
      ],
      "text/plain": [
       "   id  Label\n",
       "0   0      7\n",
       "1   1      2\n",
       "2   2      1\n",
       "3   3      0\n",
       "4   4      4"
      ]
     },
     "execution_count": 15,
     "metadata": {},
     "output_type": "execute_result"
    }
   ],
   "source": [
    "sample['Label'] = predict\n",
    "sample.head()"
   ]
  },
  {
   "cell_type": "code",
   "execution_count": 16,
   "id": "33e5e91e",
   "metadata": {
    "execution": {
     "iopub.execute_input": "2021-10-17T04:19:11.255338Z",
     "iopub.status.busy": "2021-10-17T04:19:11.254524Z",
     "iopub.status.idle": "2021-10-17T04:19:11.275891Z",
     "shell.execute_reply": "2021-10-17T04:19:11.275458Z",
     "shell.execute_reply.started": "2021-10-17T04:16:58.654606Z"
    },
    "papermill": {
     "duration": 0.039589,
     "end_time": "2021-10-17T04:19:11.275989",
     "exception": false,
     "start_time": "2021-10-17T04:19:11.236400",
     "status": "completed"
    },
    "tags": []
   },
   "outputs": [],
   "source": [
    "sample.to_csv(\"submit_none.csv\", index=False)"
   ]
  },
  {
   "cell_type": "code",
   "execution_count": null,
   "id": "25d74cd2",
   "metadata": {
    "papermill": {
     "duration": 0.016442,
     "end_time": "2021-10-17T04:19:11.308927",
     "exception": false,
     "start_time": "2021-10-17T04:19:11.292485",
     "status": "completed"
    },
    "tags": []
   },
   "outputs": [],
   "source": []
  }
 ],
 "metadata": {
  "kernelspec": {
   "display_name": "Python 3",
   "language": "python",
   "name": "python3"
  },
  "language_info": {
   "codemirror_mode": {
    "name": "ipython",
    "version": 3
   },
   "file_extension": ".py",
   "mimetype": "text/x-python",
   "name": "python",
   "nbconvert_exporter": "python",
   "pygments_lexer": "ipython3",
   "version": "3.7.10"
  },
  "papermill": {
   "default_parameters": {},
   "duration": 36.945117,
   "end_time": "2021-10-17T04:19:12.334440",
   "environment_variables": {},
   "exception": null,
   "input_path": "__notebook__.ipynb",
   "output_path": "__notebook__.ipynb",
   "parameters": {},
   "start_time": "2021-10-17T04:18:35.389323",
   "version": "2.3.3"
  }
 },
 "nbformat": 4,
 "nbformat_minor": 5
}

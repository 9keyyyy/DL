{
 "cells": [
  {
   "cell_type": "code",
   "execution_count": 1,
   "id": "615b1429",
   "metadata": {
    "_cell_guid": "b1076dfc-b9ad-4769-8c92-a6c4dae69d19",
    "_uuid": "8f2839f25d086af736a60e9eeb907d3b93b6e0e5",
    "execution": {
     "iopub.execute_input": "2021-10-07T14:23:15.848059Z",
     "iopub.status.busy": "2021-10-07T14:23:15.847324Z",
     "iopub.status.idle": "2021-10-07T14:23:20.254236Z",
     "shell.execute_reply": "2021-10-07T14:23:20.254850Z",
     "shell.execute_reply.started": "2021-10-07T14:12:47.319548Z"
    },
    "papermill": {
     "duration": 4.498973,
     "end_time": "2021-10-07T14:23:20.255155",
     "exception": false,
     "start_time": "2021-10-07T14:23:15.756182",
     "status": "completed"
    },
    "tags": []
   },
   "outputs": [
    {
     "name": "stdout",
     "output_type": "stream",
     "text": [
      "/kaggle/input/2021-ai-w6-p1/sample_submission.csv\n",
      "/kaggle/input/2021-ai-w6-p1/pca_test.csv\n",
      "/kaggle/input/2021-ai-w6-p1/pca_train.csv\n",
      "/kaggle/input/2021-ai-w6-p1/train_label.csv\n"
     ]
    }
   ],
   "source": [
    "# This Python 3 environment comes with many helpful analytics libraries installed\n",
    "# It is defined by the kaggle/python Docker image: https://github.com/kaggle/docker-python\n",
    "# For example, here's several helpful packages to load\n",
    "\n",
    "import numpy as np # linear algebra\n",
    "import pandas as pd # data processing, CSV file I/O (e.g. pd.read_csv)\n",
    "import torch\n",
    "import torch.optim as optim\n",
    "torch.manual_seed(1)\n",
    "# Input data files are available in the read-only \"../input/\" directory\n",
    "# For example, running this (by clicking run or pressing Shift+Enter) will list all files under the input directory\n",
    "\n",
    "import os\n",
    "for dirname, _, filenames in os.walk('/kaggle/input'):\n",
    "    for filename in filenames:\n",
    "        print(os.path.join(dirname, filename))\n",
    "\n",
    "# You can write up to 20GB to the current directory (/kaggle/working/) that gets preserved as output when you create a version using \"Save & Run All\" \n",
    "# You can also write temporary files to /kaggle/temp/, but they won't be saved outside of the current session"
   ]
  },
  {
   "cell_type": "code",
   "execution_count": 2,
   "id": "390e68b0",
   "metadata": {
    "execution": {
     "iopub.execute_input": "2021-10-07T14:23:20.283524Z",
     "iopub.status.busy": "2021-10-07T14:23:20.282966Z",
     "iopub.status.idle": "2021-10-07T14:23:25.012996Z",
     "shell.execute_reply": "2021-10-07T14:23:25.012455Z",
     "shell.execute_reply.started": "2021-10-07T14:18:51.337696Z"
    },
    "papermill": {
     "duration": 4.745464,
     "end_time": "2021-10-07T14:23:25.013131",
     "exception": false,
     "start_time": "2021-10-07T14:23:20.267667",
     "status": "completed"
    },
    "tags": []
   },
   "outputs": [],
   "source": [
    "X = pd.read_csv(\"/kaggle/input/2021-ai-w6-p1/pca_train.csv\")\n",
    "test = pd.read_csv(\"/kaggle/input/2021-ai-w6-p1/pca_test.csv\")\n",
    "y = pd.read_csv(\"/kaggle/input/2021-ai-w6-p1/train_label.csv\").drop([\"id\"], axis = 1)"
   ]
  },
  {
   "cell_type": "code",
   "execution_count": 3,
   "id": "ad550d83",
   "metadata": {
    "execution": {
     "iopub.execute_input": "2021-10-07T14:23:25.078729Z",
     "iopub.status.busy": "2021-10-07T14:23:25.078026Z",
     "iopub.status.idle": "2021-10-07T14:23:25.080269Z",
     "shell.execute_reply": "2021-10-07T14:23:25.080663Z",
     "shell.execute_reply.started": "2021-10-07T14:18:53.916698Z"
    },
    "papermill": {
     "duration": 0.054761,
     "end_time": "2021-10-07T14:23:25.080813",
     "exception": false,
     "start_time": "2021-10-07T14:23:25.026052",
     "status": "completed"
    },
    "tags": []
   },
   "outputs": [],
   "source": [
    "device = 'cuda' if torch.cuda.is_available() else 'cpu'"
   ]
  },
  {
   "cell_type": "code",
   "execution_count": 4,
   "id": "b986e4d0",
   "metadata": {
    "execution": {
     "iopub.execute_input": "2021-10-07T14:23:25.114532Z",
     "iopub.status.busy": "2021-10-07T14:23:25.114028Z",
     "iopub.status.idle": "2021-10-07T14:23:30.602532Z",
     "shell.execute_reply": "2021-10-07T14:23:30.603640Z",
     "shell.execute_reply.started": "2021-10-07T14:18:53.860356Z"
    },
    "papermill": {
     "duration": 5.511548,
     "end_time": "2021-10-07T14:23:30.603868",
     "exception": false,
     "start_time": "2021-10-07T14:23:25.092320",
     "status": "completed"
    },
    "tags": []
   },
   "outputs": [],
   "source": [
    "X = torch.FloatTensor(X.to_numpy()).to(device)\n",
    "test = torch.FloatTensor(test.to_numpy()).to(device)\n",
    "y = torch.LongTensor(y.to_numpy()).squeeze(1).to(device)"
   ]
  },
  {
   "cell_type": "code",
   "execution_count": 5,
   "id": "8b42eae1",
   "metadata": {
    "execution": {
     "iopub.execute_input": "2021-10-07T14:23:30.655971Z",
     "iopub.status.busy": "2021-10-07T14:23:30.653759Z",
     "iopub.status.idle": "2021-10-07T14:23:30.664950Z",
     "shell.execute_reply": "2021-10-07T14:23:30.664471Z",
     "shell.execute_reply.started": "2021-10-07T14:18:53.897736Z"
    },
    "papermill": {
     "duration": 0.0388,
     "end_time": "2021-10-07T14:23:30.665066",
     "exception": false,
     "start_time": "2021-10-07T14:23:30.626266",
     "status": "completed"
    },
    "tags": []
   },
   "outputs": [],
   "source": [
    "## 모델 설계\n",
    "linear1 = torch.nn.Linear(256, 10, bias=True).to(device)\n",
    "linear2 = torch.nn.Linear(10, 10, bias=True).to(device)\n",
    "linear3 = torch.nn.Linear(10, 198, bias=True).to(device)"
   ]
  },
  {
   "cell_type": "code",
   "execution_count": 6,
   "id": "8d608485",
   "metadata": {
    "execution": {
     "iopub.execute_input": "2021-10-07T14:23:30.691989Z",
     "iopub.status.busy": "2021-10-07T14:23:30.691449Z",
     "iopub.status.idle": "2021-10-07T14:23:30.695090Z",
     "shell.execute_reply": "2021-10-07T14:23:30.694643Z",
     "shell.execute_reply.started": "2021-10-07T14:18:53.908789Z"
    },
    "papermill": {
     "duration": 0.018547,
     "end_time": "2021-10-07T14:23:30.695200",
     "exception": false,
     "start_time": "2021-10-07T14:23:30.676653",
     "status": "completed"
    },
    "tags": []
   },
   "outputs": [],
   "source": [
    "model = torch.nn.Sequential(linear1, linear2, linear3)"
   ]
  },
  {
   "cell_type": "code",
   "execution_count": 7,
   "id": "2a567271",
   "metadata": {
    "execution": {
     "iopub.execute_input": "2021-10-07T14:23:30.725196Z",
     "iopub.status.busy": "2021-10-07T14:23:30.724631Z",
     "iopub.status.idle": "2021-10-07T14:24:25.757000Z",
     "shell.execute_reply": "2021-10-07T14:24:25.758448Z",
     "shell.execute_reply.started": "2021-10-07T14:18:53.943621Z"
    },
    "papermill": {
     "duration": 55.052246,
     "end_time": "2021-10-07T14:24:25.758826",
     "exception": false,
     "start_time": "2021-10-07T14:23:30.706580",
     "status": "completed"
    },
    "tags": []
   },
   "outputs": [
    {
     "name": "stdout",
     "output_type": "stream",
     "text": [
      "0 5.406797885894775\n",
      "1000 2.796003818511963\n",
      "2000 2.358250856399536\n",
      "3000 2.140415906906128\n",
      "4000 1.9798815250396729\n",
      "5000 1.870087742805481\n",
      "6000 1.7880890369415283\n",
      "7000 1.722005009651184\n",
      "8000 1.6666585206985474\n",
      "9000 1.6201112270355225\n",
      "10000 1.5806831121444702\n",
      "11000 1.547636866569519\n",
      "12000 1.5201767683029175\n",
      "13000 1.4971165657043457\n",
      "14000 1.4772915840148926\n",
      "15000 1.459898591041565\n",
      "16000 1.4446022510528564\n",
      "17000 1.4311703443527222\n",
      "18000 1.419219970703125\n",
      "19000 1.4084396362304688\n"
     ]
    }
   ],
   "source": [
    "nb_class = 198\n",
    "nb_data = len(y)\n",
    "\n",
    "loss = torch.nn.CrossEntropyLoss()\n",
    "optimizer = torch.optim.SGD(model.parameters(), lr=1e-2)\n",
    "\n",
    "for stop in range(20000):\n",
    "    # 그래디언트 초기화\n",
    "    optimizer.zero_grad()\n",
    "    hypothesis = model(X)\n",
    "    cost = loss(hypothesis, y)\n",
    "    \n",
    "    # Backward 계산 \n",
    "    cost.backward()\n",
    "    # 가중치 갱신\n",
    "    optimizer.step()\n",
    "\n",
    "    if stop % 1000 == 0:\n",
    "        print(stop, cost.item())\n"
   ]
  },
  {
   "cell_type": "code",
   "execution_count": 8,
   "id": "078db012",
   "metadata": {
    "execution": {
     "iopub.execute_input": "2021-10-07T14:24:25.907617Z",
     "iopub.status.busy": "2021-10-07T14:24:25.906849Z",
     "iopub.status.idle": "2021-10-07T14:24:25.931144Z",
     "shell.execute_reply": "2021-10-07T14:24:25.930229Z",
     "shell.execute_reply.started": "2021-10-07T14:19:48.926647Z"
    },
    "papermill": {
     "duration": 0.086966,
     "end_time": "2021-10-07T14:24:25.931302",
     "exception": false,
     "start_time": "2021-10-07T14:24:25.844336",
     "status": "completed"
    },
    "tags": []
   },
   "outputs": [
    {
     "name": "stdout",
     "output_type": "stream",
     "text": [
      "tensor([False, False,  True,  ...,  True,  True,  True], device='cuda:0')\n",
      "66.48%\n"
     ]
    },
    {
     "name": "stderr",
     "output_type": "stream",
     "text": [
      "/opt/conda/lib/python3.7/site-packages/ipykernel_launcher.py:1: UserWarning: Implicit dimension choice for softmax has been deprecated. Change the call to include dim=X as an argument.\n",
      "  \"\"\"Entry point for launching an IPython kernel.\n"
     ]
    }
   ],
   "source": [
    "hypothesis = torch.nn.functional.softmax(model(X))\n",
    "predict = torch.argmax(hypothesis, dim=1) # argmax : 가장 큰 값의 인덱스 리턴\n",
    "\n",
    "correct_prediction = predict.float() == y\n",
    "print(correct_prediction)\n",
    "accuracy = correct_prediction.sum().item()/len(correct_prediction)\n",
    "print('{:2.2f}%'.format(accuracy*100))"
   ]
  },
  {
   "cell_type": "code",
   "execution_count": 9,
   "id": "ec759060",
   "metadata": {
    "execution": {
     "iopub.execute_input": "2021-10-07T14:24:26.051035Z",
     "iopub.status.busy": "2021-10-07T14:24:26.050276Z",
     "iopub.status.idle": "2021-10-07T14:24:26.060665Z",
     "shell.execute_reply": "2021-10-07T14:24:26.057343Z",
     "shell.execute_reply.started": "2021-10-07T14:20:34.182897Z"
    },
    "papermill": {
     "duration": 0.074459,
     "end_time": "2021-10-07T14:24:26.060823",
     "exception": false,
     "start_time": "2021-10-07T14:24:25.986364",
     "status": "completed"
    },
    "tags": []
   },
   "outputs": [
    {
     "name": "stderr",
     "output_type": "stream",
     "text": [
      "/opt/conda/lib/python3.7/site-packages/ipykernel_launcher.py:1: UserWarning: Implicit dimension choice for softmax has been deprecated. Change the call to include dim=X as an argument.\n",
      "  \"\"\"Entry point for launching an IPython kernel.\n"
     ]
    }
   ],
   "source": [
    "hypothesis =  torch.nn.functional.softmax(model(test))\n",
    "predict = torch.argmax(hypothesis, dim=1) \n"
   ]
  },
  {
   "cell_type": "code",
   "execution_count": 10,
   "id": "26ab82e5",
   "metadata": {
    "execution": {
     "iopub.execute_input": "2021-10-07T14:24:26.187392Z",
     "iopub.status.busy": "2021-10-07T14:24:26.186652Z",
     "iopub.status.idle": "2021-10-07T14:24:26.200686Z",
     "shell.execute_reply": "2021-10-07T14:24:26.199124Z",
     "shell.execute_reply.started": "2021-10-07T14:20:37.039933Z"
    },
    "papermill": {
     "duration": 0.087998,
     "end_time": "2021-10-07T14:24:26.206450",
     "exception": false,
     "start_time": "2021-10-07T14:24:26.118452",
     "status": "completed"
    },
    "tags": []
   },
   "outputs": [
    {
     "data": {
      "text/plain": [
       "tensor([113,  91,  68,  ...,  23,  68, 117], device='cuda:0')"
      ]
     },
     "execution_count": 10,
     "metadata": {},
     "output_type": "execute_result"
    }
   ],
   "source": [
    "predict"
   ]
  },
  {
   "cell_type": "code",
   "execution_count": 11,
   "id": "e737a188",
   "metadata": {
    "execution": {
     "iopub.execute_input": "2021-10-07T14:24:26.269097Z",
     "iopub.status.busy": "2021-10-07T14:24:26.268237Z",
     "iopub.status.idle": "2021-10-07T14:24:26.287389Z",
     "shell.execute_reply": "2021-10-07T14:24:26.288529Z",
     "shell.execute_reply.started": "2021-10-07T14:20:37.517209Z"
    },
    "papermill": {
     "duration": 0.053525,
     "end_time": "2021-10-07T14:24:26.288693",
     "exception": false,
     "start_time": "2021-10-07T14:24:26.235168",
     "status": "completed"
    },
    "tags": []
   },
   "outputs": [],
   "source": [
    "sample = pd.read_csv(\"/kaggle/input/2021-ai-w6-p1/sample_submission.csv\")"
   ]
  },
  {
   "cell_type": "code",
   "execution_count": 12,
   "id": "fedf6a61",
   "metadata": {
    "execution": {
     "iopub.execute_input": "2021-10-07T14:24:26.353189Z",
     "iopub.status.busy": "2021-10-07T14:24:26.352360Z",
     "iopub.status.idle": "2021-10-07T14:24:26.355637Z",
     "shell.execute_reply": "2021-10-07T14:24:26.353879Z",
     "shell.execute_reply.started": "2021-10-07T14:20:37.807720Z"
    },
    "papermill": {
     "duration": 0.038692,
     "end_time": "2021-10-07T14:24:26.355791",
     "exception": false,
     "start_time": "2021-10-07T14:24:26.317099",
     "status": "completed"
    },
    "tags": []
   },
   "outputs": [
    {
     "data": {
      "text/plain": [
       "torch.Size([13629, 256])"
      ]
     },
     "execution_count": 12,
     "metadata": {},
     "output_type": "execute_result"
    }
   ],
   "source": [
    "test.shape"
   ]
  },
  {
   "cell_type": "code",
   "execution_count": 13,
   "id": "ec85935d",
   "metadata": {
    "execution": {
     "iopub.execute_input": "2021-10-07T14:24:26.414254Z",
     "iopub.status.busy": "2021-10-07T14:24:26.413537Z",
     "iopub.status.idle": "2021-10-07T14:24:26.415982Z",
     "shell.execute_reply": "2021-10-07T14:24:26.415538Z",
     "shell.execute_reply.started": "2021-10-07T14:21:21.925196Z"
    },
    "papermill": {
     "duration": 0.031411,
     "end_time": "2021-10-07T14:24:26.416081",
     "exception": false,
     "start_time": "2021-10-07T14:24:26.384670",
     "status": "completed"
    },
    "tags": []
   },
   "outputs": [],
   "source": [
    "sample['label'] = predict.cpu().detach().numpy()"
   ]
  },
  {
   "cell_type": "code",
   "execution_count": 14,
   "id": "798c0d35",
   "metadata": {
    "execution": {
     "iopub.execute_input": "2021-10-07T14:24:26.455858Z",
     "iopub.status.busy": "2021-10-07T14:24:26.455127Z",
     "iopub.status.idle": "2021-10-07T14:24:26.466509Z",
     "shell.execute_reply": "2021-10-07T14:24:26.466087Z",
     "shell.execute_reply.started": "2021-10-07T14:21:23.612899Z"
    },
    "papermill": {
     "duration": 0.033033,
     "end_time": "2021-10-07T14:24:26.466608",
     "exception": false,
     "start_time": "2021-10-07T14:24:26.433575",
     "status": "completed"
    },
    "tags": []
   },
   "outputs": [
    {
     "data": {
      "text/html": [
       "<div>\n",
       "<style scoped>\n",
       "    .dataframe tbody tr th:only-of-type {\n",
       "        vertical-align: middle;\n",
       "    }\n",
       "\n",
       "    .dataframe tbody tr th {\n",
       "        vertical-align: top;\n",
       "    }\n",
       "\n",
       "    .dataframe thead th {\n",
       "        text-align: right;\n",
       "    }\n",
       "</style>\n",
       "<table border=\"1\" class=\"dataframe\">\n",
       "  <thead>\n",
       "    <tr style=\"text-align: right;\">\n",
       "      <th></th>\n",
       "      <th>id</th>\n",
       "      <th>label</th>\n",
       "    </tr>\n",
       "  </thead>\n",
       "  <tbody>\n",
       "    <tr>\n",
       "      <th>0</th>\n",
       "      <td>0</td>\n",
       "      <td>113</td>\n",
       "    </tr>\n",
       "    <tr>\n",
       "      <th>1</th>\n",
       "      <td>1</td>\n",
       "      <td>91</td>\n",
       "    </tr>\n",
       "    <tr>\n",
       "      <th>2</th>\n",
       "      <td>2</td>\n",
       "      <td>68</td>\n",
       "    </tr>\n",
       "    <tr>\n",
       "      <th>3</th>\n",
       "      <td>3</td>\n",
       "      <td>28</td>\n",
       "    </tr>\n",
       "    <tr>\n",
       "      <th>4</th>\n",
       "      <td>4</td>\n",
       "      <td>121</td>\n",
       "    </tr>\n",
       "  </tbody>\n",
       "</table>\n",
       "</div>"
      ],
      "text/plain": [
       "   id  label\n",
       "0   0    113\n",
       "1   1     91\n",
       "2   2     68\n",
       "3   3     28\n",
       "4   4    121"
      ]
     },
     "execution_count": 14,
     "metadata": {},
     "output_type": "execute_result"
    }
   ],
   "source": [
    "sample.head()"
   ]
  },
  {
   "cell_type": "code",
   "execution_count": 15,
   "id": "e80a007b",
   "metadata": {
    "execution": {
     "iopub.execute_input": "2021-10-07T14:24:26.506783Z",
     "iopub.status.busy": "2021-10-07T14:24:26.505950Z",
     "iopub.status.idle": "2021-10-07T14:24:26.531429Z",
     "shell.execute_reply": "2021-10-07T14:24:26.530993Z",
     "shell.execute_reply.started": "2021-10-06T08:58:29.347455Z"
    },
    "papermill": {
     "duration": 0.046762,
     "end_time": "2021-10-07T14:24:26.531529",
     "exception": false,
     "start_time": "2021-10-07T14:24:26.484767",
     "status": "completed"
    },
    "tags": []
   },
   "outputs": [],
   "source": [
    "sample.to_csv(\"submit.csv\", index = False)"
   ]
  },
  {
   "cell_type": "code",
   "execution_count": null,
   "id": "6f4b8bc6",
   "metadata": {
    "papermill": {
     "duration": 0.017905,
     "end_time": "2021-10-07T14:24:26.567666",
     "exception": false,
     "start_time": "2021-10-07T14:24:26.549761",
     "status": "completed"
    },
    "tags": []
   },
   "outputs": [],
   "source": []
  }
 ],
 "metadata": {
  "kernelspec": {
   "display_name": "Python 3",
   "language": "python",
   "name": "python3"
  },
  "language_info": {
   "codemirror_mode": {
    "name": "ipython",
    "version": 3
   },
   "file_extension": ".py",
   "mimetype": "text/x-python",
   "name": "python",
   "nbconvert_exporter": "python",
   "pygments_lexer": "ipython3",
   "version": "3.7.10"
  },
  "papermill": {
   "default_parameters": {},
   "duration": 78.636623,
   "end_time": "2021-10-07T14:24:27.987051",
   "environment_variables": {},
   "exception": null,
   "input_path": "__notebook__.ipynb",
   "output_path": "__notebook__.ipynb",
   "parameters": {},
   "start_time": "2021-10-07T14:23:09.350428",
   "version": "2.3.3"
  }
 },
 "nbformat": 4,
 "nbformat_minor": 5
}

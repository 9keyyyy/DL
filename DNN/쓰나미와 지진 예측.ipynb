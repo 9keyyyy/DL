{
 "cells": [
  {
   "cell_type": "code",
   "execution_count": 1,
   "id": "69a22b4c",
   "metadata": {
    "_cell_guid": "b1076dfc-b9ad-4769-8c92-a6c4dae69d19",
    "_uuid": "8f2839f25d086af736a60e9eeb907d3b93b6e0e5",
    "execution": {
     "iopub.execute_input": "2021-11-25T09:01:10.132026Z",
     "iopub.status.busy": "2021-11-25T09:01:10.127126Z",
     "iopub.status.idle": "2021-11-25T09:01:10.139620Z",
     "shell.execute_reply": "2021-11-25T09:01:10.140449Z",
     "shell.execute_reply.started": "2021-11-25T09:00:42.583779Z"
    },
    "papermill": {
     "duration": 0.049609,
     "end_time": "2021-11-25T09:01:10.140755",
     "exception": false,
     "start_time": "2021-11-25T09:01:10.091146",
     "status": "completed"
    },
    "tags": []
   },
   "outputs": [
    {
     "name": "stdout",
     "output_type": "stream",
     "text": [
      "/kaggle/input/sejong-ai-2021-19011824/Submission.csv\n",
      "/kaggle/input/sejong-ai-2021-19011824/train.csv\n",
      "/kaggle/input/sejong-ai-2021-19011824/test.csv\n"
     ]
    }
   ],
   "source": [
    "# This Python 3 environment comes with many helpful analytics libraries installed\n",
    "# It is defined by the kaggle/python Docker image: https://github.com/kaggle/docker-python\n",
    "# For example, here's several helpful packages to load\n",
    "\n",
    "import numpy as np # linear algebra\n",
    "import pandas as pd # data processing, CSV file I/O (e.g. pd.read_csv)\n",
    "\n",
    "# Input data files are available in the read-only \"../input/\" directory\n",
    "# For example, running this (by clicking run or pressing Shift+Enter) will list all files under the input directory\n",
    "\n",
    "import os\n",
    "for dirname, _, filenames in os.walk('/kaggle/input'):\n",
    "    for filename in filenames:\n",
    "        print(os.path.join(dirname, filename))\n",
    "\n",
    "# You can write up to 20GB to the current directory (/kaggle/working/) that gets preserved as output when you create a version using \"Save & Run All\" \n",
    "# You can also write temporary files to /kaggle/temp/, but they won't be saved outside of the current session"
   ]
  },
  {
   "cell_type": "code",
   "execution_count": 2,
   "id": "007b354c",
   "metadata": {
    "execution": {
     "iopub.execute_input": "2021-11-25T09:01:10.173728Z",
     "iopub.status.busy": "2021-11-25T09:01:10.173144Z",
     "iopub.status.idle": "2021-11-25T09:01:10.222088Z",
     "shell.execute_reply": "2021-11-25T09:01:10.221554Z",
     "shell.execute_reply.started": "2021-11-25T09:00:42.595745Z"
    },
    "papermill": {
     "duration": 0.065979,
     "end_time": "2021-11-25T09:01:10.222202",
     "exception": false,
     "start_time": "2021-11-25T09:01:10.156223",
     "status": "completed"
    },
    "tags": []
   },
   "outputs": [],
   "source": [
    "train=pd.read_csv(\"/kaggle/input/sejong-ai-2021-19011824/train.csv\")\n",
    "test=pd.read_csv(\"/kaggle/input/sejong-ai-2021-19011824/test.csv\")\n",
    "submit=pd.read_csv(\"/kaggle/input/sejong-ai-2021-19011824/Submission.csv\")"
   ]
  },
  {
   "cell_type": "code",
   "execution_count": 3,
   "id": "0f0442f9",
   "metadata": {
    "execution": {
     "iopub.execute_input": "2021-11-25T09:01:10.265679Z",
     "iopub.status.busy": "2021-11-25T09:01:10.255317Z",
     "iopub.status.idle": "2021-11-25T09:01:10.268266Z",
     "shell.execute_reply": "2021-11-25T09:01:10.268838Z",
     "shell.execute_reply.started": "2021-11-25T09:00:42.620726Z"
    },
    "papermill": {
     "duration": 0.030387,
     "end_time": "2021-11-25T09:01:10.268986",
     "exception": false,
     "start_time": "2021-11-25T09:01:10.238599",
     "status": "completed"
    },
    "tags": []
   },
   "outputs": [],
   "source": [
    "test=test.drop([\"Unnamed: 0\"],axis=1)\n",
    "x=train.drop([\"Unnamed: 0\",\"Tsu\",\"Eq\"],axis=1)"
   ]
  },
  {
   "cell_type": "code",
   "execution_count": 4,
   "id": "b46c7209",
   "metadata": {
    "execution": {
     "iopub.execute_input": "2021-11-25T09:01:10.321884Z",
     "iopub.status.busy": "2021-11-25T09:01:10.310194Z",
     "iopub.status.idle": "2021-11-25T09:01:10.325510Z",
     "shell.execute_reply": "2021-11-25T09:01:10.324727Z",
     "shell.execute_reply.started": "2021-11-25T09:00:42.630024Z"
    },
    "papermill": {
     "duration": 0.043432,
     "end_time": "2021-11-25T09:01:10.325636",
     "exception": false,
     "start_time": "2021-11-25T09:01:10.282204",
     "status": "completed"
    },
    "tags": []
   },
   "outputs": [],
   "source": [
    "label=[]\n",
    "tsu=train[\"Tsu\"]\n",
    "Eq=train[\"Eq\"]\n",
    "\n",
    "for i in range(len(train)):\n",
    "  if tsu[i]==1 and Eq[i]==1:\n",
    "    label.append(3)\n",
    "  elif tsu[i]==1 and Eq[i]==0:\n",
    "    label.append(2)\n",
    "  elif tsu[i]==0 and Eq[i]==1:\n",
    "    label.append(1)\n",
    "  else:\n",
    "    label.append(0)\n",
    "\n",
    "label=pd.DataFrame(label)\n",
    "y=label[0]"
   ]
  },
  {
   "cell_type": "code",
   "execution_count": 5,
   "id": "323f434c",
   "metadata": {
    "execution": {
     "iopub.execute_input": "2021-11-25T09:01:10.376897Z",
     "iopub.status.busy": "2021-11-25T09:01:10.375764Z",
     "iopub.status.idle": "2021-11-25T09:01:11.257859Z",
     "shell.execute_reply": "2021-11-25T09:01:11.257327Z",
     "shell.execute_reply.started": "2021-11-25T09:00:42.654741Z"
    },
    "papermill": {
     "duration": 0.918325,
     "end_time": "2021-11-25T09:01:11.257996",
     "exception": false,
     "start_time": "2021-11-25T09:01:10.339671",
     "status": "completed"
    },
    "tags": []
   },
   "outputs": [],
   "source": [
    "con_list=[\"Name\",\"Location\",\"Country\",\"Type\",\"Agent\"]\n",
    "\n",
    "from sklearn import preprocessing\n",
    "\n",
    "lable_encoder=pd.concat([x,test])\n",
    "\n",
    "for i in con_list:\n",
    "  le = preprocessing.LabelEncoder()\n",
    "  lable_encoder[i]=lable_encoder[i].astype(\"str\")\n",
    "  x[i]=x[i].astype(\"str\")\n",
    "  test[i]=test[i].astype(\"str\")\n",
    "  le.fit(lable_encoder[i])\n",
    "  x[i]=le.transform(x[i])\n",
    "  test[i]=le.transform(test[i])\n",
    "  "
   ]
  },
  {
   "cell_type": "code",
   "execution_count": 6,
   "id": "7b911442",
   "metadata": {
    "execution": {
     "iopub.execute_input": "2021-11-25T09:01:11.293460Z",
     "iopub.status.busy": "2021-11-25T09:01:11.292351Z",
     "iopub.status.idle": "2021-11-25T09:01:11.472152Z",
     "shell.execute_reply": "2021-11-25T09:01:11.472739Z",
     "shell.execute_reply.started": "2021-11-25T09:00:42.678212Z"
    },
    "papermill": {
     "duration": 0.200904,
     "end_time": "2021-11-25T09:01:11.472990",
     "exception": false,
     "start_time": "2021-11-25T09:01:11.272086",
     "status": "completed"
    },
    "tags": []
   },
   "outputs": [],
   "source": [
    "from sklearn.impute import SimpleImputer\n",
    "imp_mean = SimpleImputer(missing_values=np.nan, strategy='most_frequent')\n",
    "x['Mo']=imp_mean.fit_transform(x['Mo'].to_numpy().reshape(-1, 1))\n",
    "test['Mo']=imp_mean.transform(test['Mo'].to_numpy().reshape(-1, 1))\n",
    "\n",
    "x['Dy']=imp_mean.fit_transform(x['Dy'].to_numpy().reshape(-1, 1))\n",
    "test['Dy']=imp_mean.transform(test['Dy'].to_numpy().reshape(-1, 1))\n"
   ]
  },
  {
   "cell_type": "code",
   "execution_count": 7,
   "id": "2ee54708",
   "metadata": {
    "execution": {
     "iopub.execute_input": "2021-11-25T09:01:11.507534Z",
     "iopub.status.busy": "2021-11-25T09:01:11.506365Z",
     "iopub.status.idle": "2021-11-25T09:01:11.516166Z",
     "shell.execute_reply": "2021-11-25T09:01:11.515706Z",
     "shell.execute_reply.started": "2021-11-25T09:00:42.691918Z"
    },
    "papermill": {
     "duration": 0.029751,
     "end_time": "2021-11-25T09:01:11.516346",
     "exception": false,
     "start_time": "2021-11-25T09:01:11.486595",
     "status": "completed"
    },
    "tags": []
   },
   "outputs": [],
   "source": [
    "from sklearn.preprocessing import RobustScaler,StandardScaler,MinMaxScaler\n",
    "\n",
    "transformer =StandardScaler().fit(x)\n",
    "x=transformer.transform(x)\n",
    "test=transformer.transform(test)\n"
   ]
  },
  {
   "cell_type": "code",
   "execution_count": 8,
   "id": "2ac75811",
   "metadata": {
    "execution": {
     "iopub.execute_input": "2021-11-25T09:01:11.548478Z",
     "iopub.status.busy": "2021-11-25T09:01:11.547442Z",
     "iopub.status.idle": "2021-11-25T09:01:11.553020Z",
     "shell.execute_reply": "2021-11-25T09:01:11.552418Z",
     "shell.execute_reply.started": "2021-11-25T09:00:42.705493Z"
    },
    "papermill": {
     "duration": 0.02334,
     "end_time": "2021-11-25T09:01:11.553164",
     "exception": false,
     "start_time": "2021-11-25T09:01:11.529824",
     "status": "completed"
    },
    "tags": []
   },
   "outputs": [],
   "source": [
    "from sklearn.impute import SimpleImputer\n",
    "imp_mean = SimpleImputer(missing_values=np.nan, strategy='constant',fill_value=0)\n",
    "imp_mean.fit(x)\n",
    "x=imp_mean.transform(x)\n",
    "test=imp_mean.transform(test)"
   ]
  },
  {
   "cell_type": "code",
   "execution_count": 9,
   "id": "1829fb22",
   "metadata": {
    "execution": {
     "iopub.execute_input": "2021-11-25T09:01:11.582190Z",
     "iopub.status.busy": "2021-11-25T09:01:11.581011Z",
     "iopub.status.idle": "2021-11-25T09:01:13.339630Z",
     "shell.execute_reply": "2021-11-25T09:01:13.338966Z",
     "shell.execute_reply.started": "2021-11-25T09:00:42.765176Z"
    },
    "papermill": {
     "duration": 1.773771,
     "end_time": "2021-11-25T09:01:13.339851",
     "exception": false,
     "start_time": "2021-11-25T09:01:11.566080",
     "status": "completed"
    },
    "tags": []
   },
   "outputs": [],
   "source": [
    "import torch\n",
    "seed=0\n",
    "torch.manual_seed(seed)\n",
    "\n",
    "device='cuda' if torch.cuda.is_available() else 'CPU'\n",
    "\n",
    "if device=='cuda':\n",
    "  torch.cuda.manual_seed_all(seed)\n",
    "\n",
    "x=np.array(x)\n",
    "y=np.array(y)\n",
    "test=np.array(test)\n",
    "\n",
    "x=torch.FloatTensor(x)\n",
    "y=torch.LongTensor(y)\n",
    "test=torch.FloatTensor(test)"
   ]
  },
  {
   "cell_type": "code",
   "execution_count": 10,
   "id": "e7638d31",
   "metadata": {
    "execution": {
     "iopub.execute_input": "2021-11-25T09:01:13.382526Z",
     "iopub.status.busy": "2021-11-25T09:01:13.381817Z",
     "iopub.status.idle": "2021-11-25T09:01:13.397626Z",
     "shell.execute_reply": "2021-11-25T09:01:13.397005Z",
     "shell.execute_reply.started": "2021-11-25T09:00:42.776241Z"
    },
    "papermill": {
     "duration": 0.04337,
     "end_time": "2021-11-25T09:01:13.397764",
     "exception": false,
     "start_time": "2021-11-25T09:01:13.354394",
     "status": "completed"
    },
    "tags": []
   },
   "outputs": [],
   "source": [
    "linear1=torch.nn.Linear(32,128)\n",
    "linear2=torch.nn.Linear(128,128)\n",
    "linear3=torch.nn.Linear(128,64)\n",
    "linear4=torch.nn.Linear(64,4)\n",
    "\n",
    "torch.nn.init.xavier_uniform_(linear1.weight)\n",
    "torch.nn.init.xavier_uniform_(linear2.weight)\n",
    "torch.nn.init.xavier_uniform_(linear3.weight)\n",
    "torch.nn.init.xavier_uniform_(linear4.weight)\n",
    "\n",
    "relu=torch.nn.ReLU()\n",
    "\n",
    "dropout=torch.nn.Dropout(p=0.1)"
   ]
  },
  {
   "cell_type": "code",
   "execution_count": 11,
   "id": "84e0ff40",
   "metadata": {
    "execution": {
     "iopub.execute_input": "2021-11-25T09:01:13.430821Z",
     "iopub.status.busy": "2021-11-25T09:01:13.429737Z",
     "iopub.status.idle": "2021-11-25T09:01:13.436664Z",
     "shell.execute_reply": "2021-11-25T09:01:13.436083Z",
     "shell.execute_reply.started": "2021-11-25T09:00:42.787059Z"
    },
    "papermill": {
     "duration": 0.024307,
     "end_time": "2021-11-25T09:01:13.436803",
     "exception": false,
     "start_time": "2021-11-25T09:01:13.412496",
     "status": "completed"
    },
    "tags": []
   },
   "outputs": [],
   "source": [
    "model=torch.nn.Sequential(linear1,relu,dropout,linear2,relu,dropout,linear3,relu,dropout,linear4)\n",
    "optimizer = torch.optim.Adam(params= model.parameters(), lr=0.001)\n",
    "loss=torch.nn.CrossEntropyLoss()"
   ]
  },
  {
   "cell_type": "code",
   "execution_count": 12,
   "id": "f9ce1b25",
   "metadata": {
    "execution": {
     "iopub.execute_input": "2021-11-25T09:01:13.469522Z",
     "iopub.status.busy": "2021-11-25T09:01:13.468475Z",
     "iopub.status.idle": "2021-11-25T09:01:18.474579Z",
     "shell.execute_reply": "2021-11-25T09:01:18.473724Z",
     "shell.execute_reply.started": "2021-11-25T09:00:42.794417Z"
    },
    "papermill": {
     "duration": 5.023406,
     "end_time": "2021-11-25T09:01:18.474746",
     "exception": false,
     "start_time": "2021-11-25T09:01:13.451340",
     "status": "completed"
    },
    "tags": []
   },
   "outputs": [
    {
     "name": "stdout",
     "output_type": "stream",
     "text": [
      "0 1.4662742614746094\n",
      "100 0.2680996358394623\n",
      "200 0.05807718262076378\n",
      "300 0.026537302881479263\n",
      "400 0.013720749877393246\n",
      "500 0.007555725984275341\n",
      "600 0.006013635080307722\n",
      "700 0.006526468321681023\n",
      "800 0.0013413975248113275\n",
      "900 0.002128224354237318\n"
     ]
    }
   ],
   "source": [
    "model.train()\n",
    "for stop in range(1000):\n",
    "  optimizer.zero_grad()\n",
    "  h=model(x)\n",
    "  cost=loss(h,y)\n",
    "  cost.backward()\n",
    "  optimizer.step()\n",
    "  if stop%100==0:\n",
    "    print(stop,cost.item())"
   ]
  },
  {
   "cell_type": "code",
   "execution_count": 13,
   "id": "378640c0",
   "metadata": {
    "execution": {
     "iopub.execute_input": "2021-11-25T09:01:18.516714Z",
     "iopub.status.busy": "2021-11-25T09:01:18.515751Z",
     "iopub.status.idle": "2021-11-25T09:01:18.526139Z",
     "shell.execute_reply": "2021-11-25T09:01:18.525518Z",
     "shell.execute_reply.started": "2021-11-25T09:00:46.341589Z"
    },
    "papermill": {
     "duration": 0.033666,
     "end_time": "2021-11-25T09:01:18.526272",
     "exception": false,
     "start_time": "2021-11-25T09:01:18.492606",
     "status": "completed"
    },
    "tags": []
   },
   "outputs": [],
   "source": [
    "pred=list()\n",
    "with torch.no_grad():\n",
    "  \n",
    "  model.eval()\n",
    "  test_y=model(test)\n",
    "  a,b=torch.max(test_y,dim=1)\n",
    "  pred.extend(b.tolist())"
   ]
  },
  {
   "cell_type": "code",
   "execution_count": 14,
   "id": "fb8373b0",
   "metadata": {
    "execution": {
     "iopub.execute_input": "2021-11-25T09:01:18.567244Z",
     "iopub.status.busy": "2021-11-25T09:01:18.566146Z",
     "iopub.status.idle": "2021-11-25T09:01:18.573225Z",
     "shell.execute_reply": "2021-11-25T09:01:18.572626Z",
     "shell.execute_reply.started": "2021-11-25T09:00:46.351017Z"
    },
    "papermill": {
     "duration": 0.029872,
     "end_time": "2021-11-25T09:01:18.573421",
     "exception": false,
     "start_time": "2021-11-25T09:01:18.543549",
     "status": "completed"
    },
    "tags": []
   },
   "outputs": [],
   "source": [
    "submit[\"label\"]=pred\n",
    "submit.to_csv(\"submit.csv\",index=False)"
   ]
  },
  {
   "cell_type": "code",
   "execution_count": null,
   "id": "2d2f5fb4",
   "metadata": {
    "papermill": {
     "duration": 0.017706,
     "end_time": "2021-11-25T09:01:18.609069",
     "exception": false,
     "start_time": "2021-11-25T09:01:18.591363",
     "status": "completed"
    },
    "tags": []
   },
   "outputs": [],
   "source": []
  }
 ],
 "metadata": {
  "kernelspec": {
   "display_name": "Python 3",
   "language": "python",
   "name": "python3"
  },
  "language_info": {
   "codemirror_mode": {
    "name": "ipython",
    "version": 3
   },
   "file_extension": ".py",
   "mimetype": "text/x-python",
   "name": "python",
   "nbconvert_exporter": "python",
   "pygments_lexer": "ipython3",
   "version": "3.7.10"
  },
  "papermill": {
   "default_parameters": {},
   "duration": 18.485767,
   "end_time": "2021-11-25T09:01:19.741486",
   "environment_variables": {},
   "exception": null,
   "input_path": "__notebook__.ipynb",
   "output_path": "__notebook__.ipynb",
   "parameters": {},
   "start_time": "2021-11-25T09:01:01.255719",
   "version": "2.3.3"
  }
 },
 "nbformat": 4,
 "nbformat_minor": 5
}

{
 "cells": [
  {
   "cell_type": "code",
   "execution_count": 1,
   "id": "43914be4",
   "metadata": {
    "execution": {
     "iopub.execute_input": "2021-10-08T06:15:26.555651Z",
     "iopub.status.busy": "2021-10-08T06:15:26.544482Z",
     "iopub.status.idle": "2021-10-08T06:15:27.653088Z",
     "shell.execute_reply": "2021-10-08T06:15:27.653918Z",
     "shell.execute_reply.started": "2021-10-08T06:13:44.760764Z"
    },
    "papermill": {
     "duration": 1.127939,
     "end_time": "2021-10-08T06:15:27.654305",
     "exception": false,
     "start_time": "2021-10-08T06:15:26.526366",
     "status": "completed"
    },
    "tags": []
   },
   "outputs": [
    {
     "name": "stdout",
     "output_type": "stream",
     "text": [
      "/kaggle/input/2021-ai-w6-p2/X_test.csv\n",
      "/kaggle/input/2021-ai-w6-p2/train.csv\n",
      "/kaggle/input/2021-ai-w6-p2/sample_submit.csv\n"
     ]
    }
   ],
   "source": [
    "## This Python 3 environment comes with many helpful analytics libraries installed\n",
    "# It is defined by the kaggle/python Docker image: https://github.com/kaggle/docker-python\n",
    "# For example, here's several helpful packages to load\n",
    "\n",
    "import numpy as np # linear algebra\n",
    "import pandas as pd # data processing, CSV file I/O (e.g. pd.read_csv)\n",
    "import torch\n",
    "import torch.optim as optim\n",
    "torch.manual_seed(1)\n",
    "# Input data files are available in the read-only \"../input/\" directory\n",
    "# For example, running this (by clicking run or pressing Shift+Enter) will list all files under the input directory\n",
    "\n",
    "import os\n",
    "for dirname, _, filenames in os.walk('/kaggle/input'):\n",
    "    for filename in filenames:\n",
    "        print(os.path.join(dirname, filename))\n",
    "\n",
    "# You can write up to 20GB to the current directory (/kaggle/working/) that gets preserved as output when you create a version using \"Save & Run All\" \n",
    "# You can also write temporary files to /kaggle/temp/, but they won't be saved outside of the current session"
   ]
  },
  {
   "cell_type": "code",
   "execution_count": 2,
   "id": "3bb29263",
   "metadata": {
    "execution": {
     "iopub.execute_input": "2021-10-08T06:15:27.686258Z",
     "iopub.status.busy": "2021-10-08T06:15:27.685548Z",
     "iopub.status.idle": "2021-10-08T06:15:27.756487Z",
     "shell.execute_reply": "2021-10-08T06:15:27.756984Z",
     "shell.execute_reply.started": "2021-10-08T06:13:44.929428Z"
    },
    "papermill": {
     "duration": 0.088204,
     "end_time": "2021-10-08T06:15:27.757179",
     "exception": false,
     "start_time": "2021-10-08T06:15:27.668975",
     "status": "completed"
    },
    "tags": []
   },
   "outputs": [],
   "source": [
    "X = pd.read_csv(\"/kaggle/input/2021-ai-w6-p2/train.csv\")\n",
    "test = pd.read_csv(\"/kaggle/input/2021-ai-w6-p2/X_test.csv\").drop([\"ID\", \"Day\"], axis = 1)\n",
    "y = X[\"TARGET\"]\n",
    "X = X.drop([\"Day\", \"TARGET\"], axis = 1)"
   ]
  },
  {
   "cell_type": "code",
   "execution_count": 3,
   "id": "6eb129c7",
   "metadata": {
    "execution": {
     "iopub.execute_input": "2021-10-08T06:15:27.785873Z",
     "iopub.status.busy": "2021-10-08T06:15:27.785223Z",
     "iopub.status.idle": "2021-10-08T06:15:28.824174Z",
     "shell.execute_reply": "2021-10-08T06:15:28.824731Z",
     "shell.execute_reply.started": "2021-10-08T06:13:45.077741Z"
    },
    "papermill": {
     "duration": 1.055218,
     "end_time": "2021-10-08T06:15:28.824928",
     "exception": false,
     "start_time": "2021-10-08T06:15:27.769710",
     "status": "completed"
    },
    "tags": []
   },
   "outputs": [],
   "source": [
    "from sklearn.preprocessing import StandardScaler\n",
    "sc = StandardScaler()\n",
    "X = sc.fit_transform(X)\n",
    "test = sc.transform(test)"
   ]
  },
  {
   "cell_type": "code",
   "execution_count": 4,
   "id": "8271416e",
   "metadata": {
    "execution": {
     "iopub.execute_input": "2021-10-08T06:15:28.857578Z",
     "iopub.status.busy": "2021-10-08T06:15:28.855329Z",
     "iopub.status.idle": "2021-10-08T06:15:28.860808Z",
     "shell.execute_reply": "2021-10-08T06:15:28.860227Z",
     "shell.execute_reply.started": "2021-10-08T06:13:45.238853Z"
    },
    "papermill": {
     "duration": 0.022434,
     "end_time": "2021-10-08T06:15:28.860959",
     "exception": false,
     "start_time": "2021-10-08T06:15:28.838525",
     "status": "completed"
    },
    "tags": []
   },
   "outputs": [],
   "source": [
    "device = 'cuda' if torch.cuda.is_available() else 'cpu'"
   ]
  },
  {
   "cell_type": "code",
   "execution_count": 5,
   "id": "f7010e08",
   "metadata": {
    "execution": {
     "iopub.execute_input": "2021-10-08T06:15:28.890219Z",
     "iopub.status.busy": "2021-10-08T06:15:28.889505Z",
     "iopub.status.idle": "2021-10-08T06:15:28.919253Z",
     "shell.execute_reply": "2021-10-08T06:15:28.919829Z",
     "shell.execute_reply.started": "2021-10-08T06:13:45.391424Z"
    },
    "papermill": {
     "duration": 0.04656,
     "end_time": "2021-10-08T06:15:28.920035",
     "exception": false,
     "start_time": "2021-10-08T06:15:28.873475",
     "status": "completed"
    },
    "tags": []
   },
   "outputs": [],
   "source": [
    "X = torch.FloatTensor(X).to(device)\n",
    "test = torch.FloatTensor(test).to(device)\n",
    "y = torch.FloatTensor(y.to_numpy()).reshape(-1, 1).to(device)"
   ]
  },
  {
   "cell_type": "code",
   "execution_count": 6,
   "id": "4a2c1510",
   "metadata": {
    "execution": {
     "iopub.execute_input": "2021-10-08T06:15:28.952383Z",
     "iopub.status.busy": "2021-10-08T06:15:28.947227Z",
     "iopub.status.idle": "2021-10-08T06:15:28.954890Z",
     "shell.execute_reply": "2021-10-08T06:15:28.955383Z",
     "shell.execute_reply.started": "2021-10-08T06:13:45.546992Z"
    },
    "papermill": {
     "duration": 0.023068,
     "end_time": "2021-10-08T06:15:28.955583",
     "exception": false,
     "start_time": "2021-10-08T06:15:28.932515",
     "status": "completed"
    },
    "tags": []
   },
   "outputs": [
    {
     "data": {
      "text/plain": [
       "torch.Size([9999, 1])"
      ]
     },
     "execution_count": 6,
     "metadata": {},
     "output_type": "execute_result"
    }
   ],
   "source": [
    "y.shape"
   ]
  },
  {
   "cell_type": "code",
   "execution_count": 7,
   "id": "be610b52",
   "metadata": {
    "execution": {
     "iopub.execute_input": "2021-10-08T06:15:28.989856Z",
     "iopub.status.busy": "2021-10-08T06:15:28.985479Z",
     "iopub.status.idle": "2021-10-08T06:15:29.003303Z",
     "shell.execute_reply": "2021-10-08T06:15:29.002607Z",
     "shell.execute_reply.started": "2021-10-08T06:13:45.734771Z"
    },
    "papermill": {
     "duration": 0.03508,
     "end_time": "2021-10-08T06:15:29.003448",
     "exception": false,
     "start_time": "2021-10-08T06:15:28.968368",
     "status": "completed"
    },
    "tags": []
   },
   "outputs": [],
   "source": [
    "linear1 = torch.nn.Linear(7, 10, bias = True).to(device)\n",
    "linear2 = torch.nn.Linear(10, 10, bias = True).to(device)\n",
    "linear3 = torch.nn.Linear(10, 10, bias = True).to(device)\n",
    "linear4 = torch.nn.Linear(10, 1, bias = True).to(device)\n",
    "sigmoid = torch.nn.Sigmoid()\n",
    "model = torch.nn.Sequential(linear1, sigmoid,linear2, sigmoid,linear3,sigmoid, linear4)\n"
   ]
  },
  {
   "cell_type": "code",
   "execution_count": 8,
   "id": "2c158267",
   "metadata": {
    "execution": {
     "iopub.execute_input": "2021-10-08T06:15:29.039242Z",
     "iopub.status.busy": "2021-10-08T06:15:29.038299Z",
     "iopub.status.idle": "2021-10-08T06:16:54.085828Z",
     "shell.execute_reply": "2021-10-08T06:16:54.086493Z"
    },
    "papermill": {
     "duration": 85.068387,
     "end_time": "2021-10-08T06:16:54.086758",
     "exception": false,
     "start_time": "2021-10-08T06:15:29.018371",
     "status": "completed"
    },
    "tags": []
   },
   "outputs": [
    {
     "name": "stdout",
     "output_type": "stream",
     "text": [
      "0 1022.8781127929688\n",
      "1000 9.235820770263672\n",
      "2000 4.677814483642578\n",
      "3000 3.4402990341186523\n",
      "4000 2.7870142459869385\n",
      "5000 2.352090835571289\n",
      "6000 2.042922019958496\n",
      "7000 1.8294864892959595\n",
      "8000 1.6859264373779297\n",
      "9000 1.5861531496047974\n",
      "10000 1.5123088359832764\n",
      "11000 1.4546889066696167\n",
      "12000 1.4082728624343872\n",
      "13000 1.3702293634414673\n",
      "14000 1.3387694358825684\n",
      "15000 1.3124724626541138\n",
      "16000 1.2900155782699585\n",
      "17000 1.270470142364502\n",
      "18000 1.2532552480697632\n",
      "19000 1.2379740476608276\n",
      "20000 1.2244908809661865\n",
      "21000 1.212693691253662\n",
      "22000 1.2026435136795044\n",
      "23000 1.1944491863250732\n",
      "24000 1.188151240348816\n",
      "25000 1.1833728551864624\n",
      "26000 1.1794371604919434\n",
      "27000 1.1756680011749268\n",
      "28000 1.171379566192627\n",
      "29000 1.166346788406372\n",
      "30000 1.1605019569396973\n"
     ]
    }
   ],
   "source": [
    "loss = torch.nn.MSELoss()\n",
    "optimizer = torch.optim.SGD(model.parameters(),lr=1e-2)\n",
    "\n",
    "for stop in range(30001):\n",
    "    optimizer.zero_grad()\n",
    "    hypothesis = model(X)\n",
    "    cost = loss(hypothesis, y)\n",
    "    cost.backward()\n",
    "    optimizer.step()\n",
    "    \n",
    "    if stop%1000==0:\n",
    "        print(stop, cost.item())"
   ]
  },
  {
   "cell_type": "code",
   "execution_count": 9,
   "id": "81fd6db3",
   "metadata": {
    "execution": {
     "iopub.execute_input": "2021-10-08T06:16:54.139078Z",
     "iopub.status.busy": "2021-10-08T06:16:54.137312Z",
     "iopub.status.idle": "2021-10-08T06:16:54.143937Z",
     "shell.execute_reply": "2021-10-08T06:16:54.143368Z",
     "shell.execute_reply.started": "2021-10-08T06:13:33.763738Z"
    },
    "papermill": {
     "duration": 0.033298,
     "end_time": "2021-10-08T06:16:54.144091",
     "exception": false,
     "start_time": "2021-10-08T06:16:54.110793",
     "status": "completed"
    },
    "tags": []
   },
   "outputs": [],
   "source": [
    "predict = model(test)"
   ]
  },
  {
   "cell_type": "code",
   "execution_count": 10,
   "id": "89243450",
   "metadata": {
    "execution": {
     "iopub.execute_input": "2021-10-08T06:16:54.195567Z",
     "iopub.status.busy": "2021-10-08T06:16:54.194803Z",
     "iopub.status.idle": "2021-10-08T06:16:54.197387Z",
     "shell.execute_reply": "2021-10-08T06:16:54.197914Z",
     "shell.execute_reply.started": "2021-10-08T06:13:33.919538Z"
    },
    "papermill": {
     "duration": 0.031606,
     "end_time": "2021-10-08T06:16:54.198091",
     "exception": false,
     "start_time": "2021-10-08T06:16:54.166485",
     "status": "completed"
    },
    "tags": []
   },
   "outputs": [],
   "source": [
    "predict = predict.detach().numpy()"
   ]
  },
  {
   "cell_type": "code",
   "execution_count": 11,
   "id": "f337f009",
   "metadata": {
    "execution": {
     "iopub.execute_input": "2021-10-08T06:16:54.246793Z",
     "iopub.status.busy": "2021-10-08T06:16:54.246055Z",
     "iopub.status.idle": "2021-10-08T06:16:54.265198Z",
     "shell.execute_reply": "2021-10-08T06:16:54.265741Z",
     "shell.execute_reply.started": "2021-10-08T06:13:34.129007Z"
    },
    "papermill": {
     "duration": 0.044841,
     "end_time": "2021-10-08T06:16:54.265922",
     "exception": false,
     "start_time": "2021-10-08T06:16:54.221081",
     "status": "completed"
    },
    "tags": []
   },
   "outputs": [],
   "source": [
    "submit = pd.read_csv(\"/kaggle/input/2021-ai-w6-p2/sample_submit.csv\")\n",
    "submit[\"TARGET\"] = predict"
   ]
  },
  {
   "cell_type": "code",
   "execution_count": 12,
   "id": "0bba0b8c",
   "metadata": {
    "execution": {
     "iopub.execute_input": "2021-10-08T06:16:54.318032Z",
     "iopub.status.busy": "2021-10-08T06:16:54.317316Z",
     "iopub.status.idle": "2021-10-08T06:16:54.328653Z",
     "shell.execute_reply": "2021-10-08T06:16:54.329163Z",
     "shell.execute_reply.started": "2021-10-08T06:13:34.354326Z"
    },
    "papermill": {
     "duration": 0.039907,
     "end_time": "2021-10-08T06:16:54.329347",
     "exception": false,
     "start_time": "2021-10-08T06:16:54.289440",
     "status": "completed"
    },
    "tags": []
   },
   "outputs": [
    {
     "data": {
      "text/html": [
       "<div>\n",
       "<style scoped>\n",
       "    .dataframe tbody tr th:only-of-type {\n",
       "        vertical-align: middle;\n",
       "    }\n",
       "\n",
       "    .dataframe tbody tr th {\n",
       "        vertical-align: top;\n",
       "    }\n",
       "\n",
       "    .dataframe thead th {\n",
       "        text-align: right;\n",
       "    }\n",
       "</style>\n",
       "<table border=\"1\" class=\"dataframe\">\n",
       "  <thead>\n",
       "    <tr style=\"text-align: right;\">\n",
       "      <th></th>\n",
       "      <th>ID</th>\n",
       "      <th>TARGET</th>\n",
       "    </tr>\n",
       "  </thead>\n",
       "  <tbody>\n",
       "    <tr>\n",
       "      <th>0</th>\n",
       "      <td>0</td>\n",
       "      <td>10.269402</td>\n",
       "    </tr>\n",
       "    <tr>\n",
       "      <th>1</th>\n",
       "      <td>1</td>\n",
       "      <td>18.880264</td>\n",
       "    </tr>\n",
       "    <tr>\n",
       "      <th>2</th>\n",
       "      <td>2</td>\n",
       "      <td>27.009249</td>\n",
       "    </tr>\n",
       "    <tr>\n",
       "      <th>3</th>\n",
       "      <td>3</td>\n",
       "      <td>34.423557</td>\n",
       "    </tr>\n",
       "    <tr>\n",
       "      <th>4</th>\n",
       "      <td>4</td>\n",
       "      <td>40.915970</td>\n",
       "    </tr>\n",
       "    <tr>\n",
       "      <th>5</th>\n",
       "      <td>5</td>\n",
       "      <td>46.971523</td>\n",
       "    </tr>\n",
       "    <tr>\n",
       "      <th>6</th>\n",
       "      <td>6</td>\n",
       "      <td>45.411144</td>\n",
       "    </tr>\n",
       "    <tr>\n",
       "      <th>7</th>\n",
       "      <td>7</td>\n",
       "      <td>55.787849</td>\n",
       "    </tr>\n",
       "    <tr>\n",
       "      <th>8</th>\n",
       "      <td>8</td>\n",
       "      <td>50.159004</td>\n",
       "    </tr>\n",
       "    <tr>\n",
       "      <th>9</th>\n",
       "      <td>9</td>\n",
       "      <td>49.435860</td>\n",
       "    </tr>\n",
       "    <tr>\n",
       "      <th>10</th>\n",
       "      <td>10</td>\n",
       "      <td>43.375389</td>\n",
       "    </tr>\n",
       "    <tr>\n",
       "      <th>11</th>\n",
       "      <td>11</td>\n",
       "      <td>42.983280</td>\n",
       "    </tr>\n",
       "    <tr>\n",
       "      <th>12</th>\n",
       "      <td>12</td>\n",
       "      <td>41.206684</td>\n",
       "    </tr>\n",
       "    <tr>\n",
       "      <th>13</th>\n",
       "      <td>13</td>\n",
       "      <td>34.495132</td>\n",
       "    </tr>\n",
       "    <tr>\n",
       "      <th>14</th>\n",
       "      <td>14</td>\n",
       "      <td>28.052668</td>\n",
       "    </tr>\n",
       "    <tr>\n",
       "      <th>15</th>\n",
       "      <td>15</td>\n",
       "      <td>22.442041</td>\n",
       "    </tr>\n",
       "    <tr>\n",
       "      <th>16</th>\n",
       "      <td>16</td>\n",
       "      <td>16.010942</td>\n",
       "    </tr>\n",
       "    <tr>\n",
       "      <th>17</th>\n",
       "      <td>17</td>\n",
       "      <td>8.619492</td>\n",
       "    </tr>\n",
       "    <tr>\n",
       "      <th>18</th>\n",
       "      <td>18</td>\n",
       "      <td>1.982292</td>\n",
       "    </tr>\n",
       "    <tr>\n",
       "      <th>19</th>\n",
       "      <td>19</td>\n",
       "      <td>-0.021292</td>\n",
       "    </tr>\n",
       "  </tbody>\n",
       "</table>\n",
       "</div>"
      ],
      "text/plain": [
       "    ID     TARGET\n",
       "0    0  10.269402\n",
       "1    1  18.880264\n",
       "2    2  27.009249\n",
       "3    3  34.423557\n",
       "4    4  40.915970\n",
       "5    5  46.971523\n",
       "6    6  45.411144\n",
       "7    7  55.787849\n",
       "8    8  50.159004\n",
       "9    9  49.435860\n",
       "10  10  43.375389\n",
       "11  11  42.983280\n",
       "12  12  41.206684\n",
       "13  13  34.495132\n",
       "14  14  28.052668\n",
       "15  15  22.442041\n",
       "16  16  16.010942\n",
       "17  17   8.619492\n",
       "18  18   1.982292\n",
       "19  19  -0.021292"
      ]
     },
     "execution_count": 12,
     "metadata": {},
     "output_type": "execute_result"
    }
   ],
   "source": [
    "submit.head(20)"
   ]
  },
  {
   "cell_type": "code",
   "execution_count": 13,
   "id": "4dbe9c3c",
   "metadata": {
    "execution": {
     "iopub.execute_input": "2021-10-08T06:16:54.378270Z",
     "iopub.status.busy": "2021-10-08T06:16:54.377605Z",
     "iopub.status.idle": "2021-10-08T06:16:54.393978Z",
     "shell.execute_reply": "2021-10-08T06:16:54.393393Z"
    },
    "papermill": {
     "duration": 0.042156,
     "end_time": "2021-10-08T06:16:54.394135",
     "exception": false,
     "start_time": "2021-10-08T06:16:54.351979",
     "status": "completed"
    },
    "tags": []
   },
   "outputs": [],
   "source": [
    "submit.to_csv(\"submission.csv\", index=False)"
   ]
  },
  {
   "cell_type": "code",
   "execution_count": null,
   "id": "94c07b8b",
   "metadata": {
    "papermill": {
     "duration": 0.022194,
     "end_time": "2021-10-08T06:16:54.439182",
     "exception": false,
     "start_time": "2021-10-08T06:16:54.416988",
     "status": "completed"
    },
    "tags": []
   },
   "outputs": [],
   "source": []
  }
 ],
 "metadata": {
  "kernelspec": {
   "display_name": "Python 3",
   "language": "python",
   "name": "python3"
  },
  "language_info": {
   "codemirror_mode": {
    "name": "ipython",
    "version": 3
   },
   "file_extension": ".py",
   "mimetype": "text/x-python",
   "name": "python",
   "nbconvert_exporter": "python",
   "pygments_lexer": "ipython3",
   "version": "3.7.10"
  },
  "papermill": {
   "default_parameters": {},
   "duration": 97.487566,
   "end_time": "2021-10-08T06:16:55.176337",
   "environment_variables": {},
   "exception": null,
   "input_path": "__notebook__.ipynb",
   "output_path": "__notebook__.ipynb",
   "parameters": {},
   "start_time": "2021-10-08T06:15:17.688771",
   "version": "2.3.3"
  }
 },
 "nbformat": 4,
 "nbformat_minor": 5
}

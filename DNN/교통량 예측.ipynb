{
 "cells": [
  {
   "cell_type": "code",
   "execution_count": 1,
   "id": "31da4845",
   "metadata": {
    "_cell_guid": "b1076dfc-b9ad-4769-8c92-a6c4dae69d19",
    "_uuid": "8f2839f25d086af736a60e9eeb907d3b93b6e0e5",
    "execution": {
     "iopub.execute_input": "2021-10-17T05:39:39.067129Z",
     "iopub.status.busy": "2021-10-17T05:39:39.065502Z",
     "iopub.status.idle": "2021-10-17T05:39:40.522183Z",
     "shell.execute_reply": "2021-10-17T05:39:40.522797Z",
     "shell.execute_reply.started": "2021-10-17T05:36:06.249892Z"
    },
    "papermill": {
     "duration": 1.484722,
     "end_time": "2021-10-17T05:39:40.523121",
     "exception": false,
     "start_time": "2021-10-17T05:39:39.038399",
     "status": "completed"
    },
    "tags": []
   },
   "outputs": [
    {
     "name": "stdout",
     "output_type": "stream",
     "text": [
      "/kaggle/input/2021-ai-w7-p2/sample_submission.csv\n",
      "/kaggle/input/2021-ai-w7-p2/x_test.csv\n",
      "/kaggle/input/2021-ai-w7-p2/y_train.csv\n",
      "/kaggle/input/2021-ai-w7-p2/x_train.csv\n"
     ]
    }
   ],
   "source": [
    "# This Python 3 environment comes with many helpful analytics libraries installed\n",
    "# It is defined by the kaggle/python Docker image: https://github.com/kaggle/docker-python\n",
    "# For example, here's several helpful packages to load\n",
    "\n",
    "import numpy as np # linear algebra\n",
    "import pandas as pd # data processing, CSV file I/O (e.g. pd.read_csv)\n",
    "import torch\n",
    "import torch.optim as optim\n",
    "torch.manual_seed(1)\n",
    "\n",
    "import random\n",
    "random.seed(1)\n",
    "\n",
    "# Input data files are available in the read-only \"../input/\" directory\n",
    "# For example, running this (by clicking run or pressing Shift+Enter) will list all files under the input directory\n",
    "\n",
    "import os\n",
    "for dirname, _, filenames in os.walk('/kaggle/input'):\n",
    "    for filename in filenames:\n",
    "        print(os.path.join(dirname, filename))\n",
    "\n",
    "# You can write up to 20GB to the current directory (/kaggle/working/) that gets preserved as output when you create a version using \"Save & Run All\" \n",
    "# You can also write temporary files to /kaggle/temp/, but they won't be saved outside of the current session"
   ]
  },
  {
   "cell_type": "code",
   "execution_count": 2,
   "id": "b3b9e03c",
   "metadata": {
    "execution": {
     "iopub.execute_input": "2021-10-17T05:39:40.551533Z",
     "iopub.status.busy": "2021-10-17T05:39:40.550835Z",
     "iopub.status.idle": "2021-10-17T05:39:40.754463Z",
     "shell.execute_reply": "2021-10-17T05:39:40.753496Z",
     "shell.execute_reply.started": "2021-10-17T05:38:09.953668Z"
    },
    "papermill": {
     "duration": 0.219079,
     "end_time": "2021-10-17T05:39:40.754612",
     "exception": false,
     "start_time": "2021-10-17T05:39:40.535533",
     "status": "completed"
    },
    "tags": []
   },
   "outputs": [],
   "source": [
    "X = pd.read_csv('/kaggle/input/2021-ai-w7-p2/x_train.csv', encoding ='CP949')\n",
    "y = pd.read_csv('/kaggle/input/2021-ai-w7-p2/y_train.csv', encoding ='CP949')\n",
    "test = pd.read_csv('/kaggle/input/2021-ai-w7-p2/x_test.csv', encoding ='CP949')#.drop(['시도명'], axis = 1)\n",
    "sample = pd.read_csv('/kaggle/input/2021-ai-w7-p2/sample_submission.csv', encoding ='CP949')\n",
    "X = X#.drop(['시도명'], axis = 1)"
   ]
  },
  {
   "cell_type": "code",
   "execution_count": 3,
   "id": "ef791d52",
   "metadata": {
    "execution": {
     "iopub.execute_input": "2021-10-17T05:39:40.782520Z",
     "iopub.status.busy": "2021-10-17T05:39:40.781841Z",
     "iopub.status.idle": "2021-10-17T05:39:41.584877Z",
     "shell.execute_reply": "2021-10-17T05:39:41.585472Z",
     "shell.execute_reply.started": "2021-10-17T05:38:10.113960Z"
    },
    "papermill": {
     "duration": 0.819213,
     "end_time": "2021-10-17T05:39:41.585698",
     "exception": false,
     "start_time": "2021-10-17T05:39:40.766485",
     "status": "completed"
    },
    "tags": []
   },
   "outputs": [],
   "source": [
    "from sklearn.preprocessing import MinMaxScaler, StandardScaler\n",
    "sc = StandardScaler()\n",
    "X_sc = sc.fit_transform(X)\n",
    "test_sc = sc.transform(test)\n",
    "\n",
    "#거주인구\t근무인구\t방문인구\t총 유동인구\n",
    "# X['거주인구'] = sc.fit_transform(X['거주인구'].to_numpy().reshape(-1, 1))\n",
    "# test['거주인구'] = sc.transform(test['거주인구'].to_numpy().reshape(-1, 1))\n",
    "# X['근무인구'] = sc.fit_transform(X['근무인구'].to_numpy().reshape(-1, 1))\n",
    "# test['근무인구'] = sc.transform(test['근무인구'].to_numpy().reshape(-1, 1))\n",
    "# X['방문인구'] = sc.fit_transform(X['방문인구'].to_numpy().reshape(-1, 1))\n",
    "# test['방문인구'] = sc.transform(test['방문인구'].to_numpy().reshape(-1, 1))\n",
    "# X['총 유동인구'] = sc.fit_transform(X['총 유동인구'].to_numpy().reshape(-1, 1))\n",
    "# test['총 유동인구'] = sc.transform(test['총 유동인구'].to_numpy().reshape(-1, 1))\n"
   ]
  },
  {
   "cell_type": "code",
   "execution_count": 4,
   "id": "9bac325f",
   "metadata": {
    "execution": {
     "iopub.execute_input": "2021-10-17T05:39:41.627592Z",
     "iopub.status.busy": "2021-10-17T05:39:41.626759Z",
     "iopub.status.idle": "2021-10-17T05:39:41.632306Z",
     "shell.execute_reply": "2021-10-17T05:39:41.633390Z",
     "shell.execute_reply.started": "2021-10-17T05:38:10.241953Z"
    },
    "papermill": {
     "duration": 0.032437,
     "end_time": "2021-10-17T05:39:41.633570",
     "exception": false,
     "start_time": "2021-10-17T05:39:41.601133",
     "status": "completed"
    },
    "tags": []
   },
   "outputs": [
    {
     "data": {
      "text/plain": [
       "(10583, 14)"
      ]
     },
     "execution_count": 4,
     "metadata": {},
     "output_type": "execute_result"
    }
   ],
   "source": [
    "test.shape"
   ]
  },
  {
   "cell_type": "code",
   "execution_count": 5,
   "id": "a0391473",
   "metadata": {
    "execution": {
     "iopub.execute_input": "2021-10-17T05:39:41.715637Z",
     "iopub.status.busy": "2021-10-17T05:39:41.714893Z",
     "iopub.status.idle": "2021-10-17T05:39:41.718411Z",
     "shell.execute_reply": "2021-10-17T05:39:41.717893Z",
     "shell.execute_reply.started": "2021-10-17T05:38:10.374785Z"
    },
    "papermill": {
     "duration": 0.067873,
     "end_time": "2021-10-17T05:39:41.718519",
     "exception": false,
     "start_time": "2021-10-17T05:39:41.650646",
     "status": "completed"
    },
    "tags": []
   },
   "outputs": [],
   "source": [
    "device = 'cuda' if torch.cuda.is_available() else 'cpu'\n",
    "\n",
    "if device =='cuda':\n",
    "    torch.cuda.manual_seed_all(1)"
   ]
  },
  {
   "cell_type": "code",
   "execution_count": 6,
   "id": "acb9d9a6",
   "metadata": {
    "execution": {
     "iopub.execute_input": "2021-10-17T05:39:41.760277Z",
     "iopub.status.busy": "2021-10-17T05:39:41.759312Z",
     "iopub.status.idle": "2021-10-17T05:39:44.544834Z",
     "shell.execute_reply": "2021-10-17T05:39:44.544347Z",
     "shell.execute_reply.started": "2021-10-17T05:38:10.518229Z"
    },
    "papermill": {
     "duration": 2.809291,
     "end_time": "2021-10-17T05:39:44.544968",
     "exception": false,
     "start_time": "2021-10-17T05:39:41.735677",
     "status": "completed"
    },
    "tags": []
   },
   "outputs": [],
   "source": [
    "X = torch.FloatTensor(X.to_numpy()).to(device)\n",
    "y = torch.FloatTensor(y.to_numpy()).to(device)\n",
    "test = torch.FloatTensor(test.to_numpy()).to(device)\n",
    "\n",
    "X_sc = torch.FloatTensor(X_sc).to(device)\n",
    "test_sc = torch.FloatTensor(test_sc).to(device)"
   ]
  },
  {
   "cell_type": "code",
   "execution_count": 7,
   "id": "da666ab1",
   "metadata": {
    "execution": {
     "iopub.execute_input": "2021-10-17T05:39:44.573222Z",
     "iopub.status.busy": "2021-10-17T05:39:44.572314Z",
     "iopub.status.idle": "2021-10-17T05:39:44.575268Z",
     "shell.execute_reply": "2021-10-17T05:39:44.575678Z",
     "shell.execute_reply.started": "2021-10-17T05:38:10.707261Z"
    },
    "papermill": {
     "duration": 0.019572,
     "end_time": "2021-10-17T05:39:44.575820",
     "exception": false,
     "start_time": "2021-10-17T05:39:44.556248",
     "status": "completed"
    },
    "tags": []
   },
   "outputs": [
    {
     "data": {
      "text/plain": [
       "torch.Size([21486, 14])"
      ]
     },
     "execution_count": 7,
     "metadata": {},
     "output_type": "execute_result"
    }
   ],
   "source": [
    "X.shape"
   ]
  },
  {
   "cell_type": "code",
   "execution_count": 8,
   "id": "56a5c67e",
   "metadata": {
    "execution": {
     "iopub.execute_input": "2021-10-17T05:39:44.607555Z",
     "iopub.status.busy": "2021-10-17T05:39:44.606990Z",
     "iopub.status.idle": "2021-10-17T05:39:44.627125Z",
     "shell.execute_reply": "2021-10-17T05:39:44.627552Z",
     "shell.execute_reply.started": "2021-10-17T05:38:11.027979Z"
    },
    "papermill": {
     "duration": 0.041068,
     "end_time": "2021-10-17T05:39:44.627685",
     "exception": false,
     "start_time": "2021-10-17T05:39:44.586617",
     "status": "completed"
    },
    "tags": []
   },
   "outputs": [],
   "source": [
    "linear1 = torch.nn.Linear(14, 512)\n",
    "linear2 = torch.nn.Linear(512, 256)\n",
    "linear3 = torch.nn.Linear(256, 256)\n",
    "linear4 = torch.nn.Linear(256, 1)\n",
    "relu = torch.nn.ReLU()\n",
    "#dropout = torch.nn.Dropout(0.3)\n",
    "torch.nn.init.xavier_normal_(linear1.weight)\n",
    "torch.nn.init.xavier_normal_(linear2.weight)\n",
    "torch.nn.init.xavier_normal_(linear3.weight)\n",
    "torch.nn.init.xavier_normal_(linear4.weight)\n",
    "\n",
    "model = torch.nn.Sequential(linear1, relu, #dropout,\n",
    "                            linear2, relu, #dropout,\n",
    "                            linear3, relu, #dropout,\n",
    "                            linear4).to(device)"
   ]
  },
  {
   "cell_type": "code",
   "execution_count": 9,
   "id": "65e45437",
   "metadata": {
    "execution": {
     "iopub.execute_input": "2021-10-17T05:39:44.656147Z",
     "iopub.status.busy": "2021-10-17T05:39:44.655522Z",
     "iopub.status.idle": "2021-10-17T05:40:35.397915Z",
     "shell.execute_reply": "2021-10-17T05:40:35.398497Z",
     "shell.execute_reply.started": "2021-10-17T05:38:12.299983Z"
    },
    "papermill": {
     "duration": 50.759969,
     "end_time": "2021-10-17T05:40:35.398671",
     "exception": false,
     "start_time": "2021-10-17T05:39:44.638702",
     "status": "completed"
    },
    "tags": []
   },
   "outputs": [
    {
     "name": "stdout",
     "output_type": "stream",
     "text": [
      "0 374.4515380859375\n",
      "1000 35.58760070800781\n",
      "2000 31.72509002685547\n",
      "3000 28.559833526611328\n",
      "4000 28.15683937072754\n",
      "5000 25.912555694580078\n",
      "6000 26.633882522583008\n",
      "7000 25.66533851623535\n",
      "8000 23.91303825378418\n"
     ]
    }
   ],
   "source": [
    "model.train()\n",
    "loss = torch.nn.L1Loss()\n",
    "optimizer = optim.Adam(model.parameters(), lr=1e-3)\n",
    "\n",
    "for epoch in range(8001):\n",
    "    hypothesis = model(X_sc)\n",
    "    cost = loss(hypothesis, y)\n",
    "    optimizer.zero_grad()\n",
    "    cost.backward()\n",
    "    optimizer.step()\n",
    "    if epoch % 1000==0:\n",
    "        print(epoch, cost.item())"
   ]
  },
  {
   "cell_type": "code",
   "execution_count": 10,
   "id": "69672576",
   "metadata": {
    "execution": {
     "iopub.execute_input": "2021-10-17T05:40:35.431056Z",
     "iopub.status.busy": "2021-10-17T05:40:35.429448Z",
     "iopub.status.idle": "2021-10-17T05:40:35.431687Z",
     "shell.execute_reply": "2021-10-17T05:40:35.432118Z",
     "shell.execute_reply.started": "2021-10-17T05:37:16.661839Z"
    },
    "papermill": {
     "duration": 0.019733,
     "end_time": "2021-10-17T05:40:35.432240",
     "exception": false,
     "start_time": "2021-10-17T05:40:35.412507",
     "status": "completed"
    },
    "tags": []
   },
   "outputs": [],
   "source": [
    "# model.train()\n",
    "# loss = torch.nn.L1Loss()\n",
    "# optimizer = optim.Adam(model.parameters(), lr=1e-3)\n",
    "\n",
    "# for epoch in range(5001):\n",
    "#     hypothesis = model(X)\n",
    "#     cost = loss(hypothesis, y)\n",
    "#     optimizer.zero_grad()\n",
    "#     cost.backward()\n",
    "#     optimizer.step()\n",
    "#     if epoch % 500==0:\n",
    "#         print(epoch, cost.item())"
   ]
  },
  {
   "cell_type": "code",
   "execution_count": 11,
   "id": "f6ce3eaf",
   "metadata": {
    "execution": {
     "iopub.execute_input": "2021-10-17T05:40:35.464781Z",
     "iopub.status.busy": "2021-10-17T05:40:35.464254Z",
     "iopub.status.idle": "2021-10-17T05:40:35.468771Z",
     "shell.execute_reply": "2021-10-17T05:40:35.469185Z",
     "shell.execute_reply.started": "2021-10-17T05:37:16.668280Z"
    },
    "papermill": {
     "duration": 0.023865,
     "end_time": "2021-10-17T05:40:35.469309",
     "exception": false,
     "start_time": "2021-10-17T05:40:35.445444",
     "status": "completed"
    },
    "tags": []
   },
   "outputs": [],
   "source": [
    "model.eval()\n",
    "with torch.no_grad():\n",
    "    predict = model(test_sc).cpu()\n",
    "    predict = predict.float().numpy()"
   ]
  },
  {
   "cell_type": "code",
   "execution_count": 12,
   "id": "a581ae44",
   "metadata": {
    "execution": {
     "iopub.execute_input": "2021-10-17T05:40:35.502734Z",
     "iopub.status.busy": "2021-10-17T05:40:35.501987Z",
     "iopub.status.idle": "2021-10-17T05:40:35.514318Z",
     "shell.execute_reply": "2021-10-17T05:40:35.514722Z",
     "shell.execute_reply.started": "2021-10-17T05:37:16.679398Z"
    },
    "papermill": {
     "duration": 0.032233,
     "end_time": "2021-10-17T05:40:35.514856",
     "exception": false,
     "start_time": "2021-10-17T05:40:35.482623",
     "status": "completed"
    },
    "tags": []
   },
   "outputs": [
    {
     "data": {
      "text/html": [
       "<div>\n",
       "<style scoped>\n",
       "    .dataframe tbody tr th:only-of-type {\n",
       "        vertical-align: middle;\n",
       "    }\n",
       "\n",
       "    .dataframe tbody tr th {\n",
       "        vertical-align: top;\n",
       "    }\n",
       "\n",
       "    .dataframe thead th {\n",
       "        text-align: right;\n",
       "    }\n",
       "</style>\n",
       "<table border=\"1\" class=\"dataframe\">\n",
       "  <thead>\n",
       "    <tr style=\"text-align: right;\">\n",
       "      <th></th>\n",
       "      <th>id</th>\n",
       "      <th>predict</th>\n",
       "    </tr>\n",
       "  </thead>\n",
       "  <tbody>\n",
       "    <tr>\n",
       "      <th>0</th>\n",
       "      <td>0</td>\n",
       "      <td>0.797257</td>\n",
       "    </tr>\n",
       "    <tr>\n",
       "      <th>1</th>\n",
       "      <td>1</td>\n",
       "      <td>1.454939</td>\n",
       "    </tr>\n",
       "    <tr>\n",
       "      <th>2</th>\n",
       "      <td>2</td>\n",
       "      <td>0.388508</td>\n",
       "    </tr>\n",
       "    <tr>\n",
       "      <th>3</th>\n",
       "      <td>3</td>\n",
       "      <td>1116.374146</td>\n",
       "    </tr>\n",
       "    <tr>\n",
       "      <th>4</th>\n",
       "      <td>4</td>\n",
       "      <td>1998.790894</td>\n",
       "    </tr>\n",
       "    <tr>\n",
       "      <th>5</th>\n",
       "      <td>5</td>\n",
       "      <td>1589.487549</td>\n",
       "    </tr>\n",
       "    <tr>\n",
       "      <th>6</th>\n",
       "      <td>6</td>\n",
       "      <td>0.526260</td>\n",
       "    </tr>\n",
       "    <tr>\n",
       "      <th>7</th>\n",
       "      <td>7</td>\n",
       "      <td>-0.048144</td>\n",
       "    </tr>\n",
       "    <tr>\n",
       "      <th>8</th>\n",
       "      <td>8</td>\n",
       "      <td>1130.505493</td>\n",
       "    </tr>\n",
       "    <tr>\n",
       "      <th>9</th>\n",
       "      <td>9</td>\n",
       "      <td>838.224121</td>\n",
       "    </tr>\n",
       "    <tr>\n",
       "      <th>10</th>\n",
       "      <td>10</td>\n",
       "      <td>0.388973</td>\n",
       "    </tr>\n",
       "    <tr>\n",
       "      <th>11</th>\n",
       "      <td>11</td>\n",
       "      <td>865.596069</td>\n",
       "    </tr>\n",
       "    <tr>\n",
       "      <th>12</th>\n",
       "      <td>12</td>\n",
       "      <td>0.306461</td>\n",
       "    </tr>\n",
       "    <tr>\n",
       "      <th>13</th>\n",
       "      <td>13</td>\n",
       "      <td>0.218308</td>\n",
       "    </tr>\n",
       "    <tr>\n",
       "      <th>14</th>\n",
       "      <td>14</td>\n",
       "      <td>986.542603</td>\n",
       "    </tr>\n",
       "    <tr>\n",
       "      <th>15</th>\n",
       "      <td>15</td>\n",
       "      <td>292.826935</td>\n",
       "    </tr>\n",
       "    <tr>\n",
       "      <th>16</th>\n",
       "      <td>16</td>\n",
       "      <td>0.391636</td>\n",
       "    </tr>\n",
       "    <tr>\n",
       "      <th>17</th>\n",
       "      <td>17</td>\n",
       "      <td>-0.022819</td>\n",
       "    </tr>\n",
       "    <tr>\n",
       "      <th>18</th>\n",
       "      <td>18</td>\n",
       "      <td>949.283386</td>\n",
       "    </tr>\n",
       "    <tr>\n",
       "      <th>19</th>\n",
       "      <td>19</td>\n",
       "      <td>730.542847</td>\n",
       "    </tr>\n",
       "  </tbody>\n",
       "</table>\n",
       "</div>"
      ],
      "text/plain": [
       "    id      predict\n",
       "0    0     0.797257\n",
       "1    1     1.454939\n",
       "2    2     0.388508\n",
       "3    3  1116.374146\n",
       "4    4  1998.790894\n",
       "5    5  1589.487549\n",
       "6    6     0.526260\n",
       "7    7    -0.048144\n",
       "8    8  1130.505493\n",
       "9    9   838.224121\n",
       "10  10     0.388973\n",
       "11  11   865.596069\n",
       "12  12     0.306461\n",
       "13  13     0.218308\n",
       "14  14   986.542603\n",
       "15  15   292.826935\n",
       "16  16     0.391636\n",
       "17  17    -0.022819\n",
       "18  18   949.283386\n",
       "19  19   730.542847"
      ]
     },
     "execution_count": 12,
     "metadata": {},
     "output_type": "execute_result"
    }
   ],
   "source": [
    "sample['predict'] = predict\n",
    "sample.head(20)"
   ]
  },
  {
   "cell_type": "code",
   "execution_count": 13,
   "id": "56599d9a",
   "metadata": {
    "execution": {
     "iopub.execute_input": "2021-10-17T05:40:35.546098Z",
     "iopub.status.busy": "2021-10-17T05:40:35.545328Z",
     "iopub.status.idle": "2021-10-17T05:40:35.577269Z",
     "shell.execute_reply": "2021-10-17T05:40:35.576848Z",
     "shell.execute_reply.started": "2021-10-17T05:37:16.695433Z"
    },
    "papermill": {
     "duration": 0.048801,
     "end_time": "2021-10-17T05:40:35.577394",
     "exception": false,
     "start_time": "2021-10-17T05:40:35.528593",
     "status": "completed"
    },
    "tags": []
   },
   "outputs": [],
   "source": [
    "sample.to_csv('submit.csv', index=False)"
   ]
  },
  {
   "cell_type": "code",
   "execution_count": null,
   "id": "034295e6",
   "metadata": {
    "papermill": {
     "duration": 0.013762,
     "end_time": "2021-10-17T05:40:35.604971",
     "exception": false,
     "start_time": "2021-10-17T05:40:35.591209",
     "status": "completed"
    },
    "tags": []
   },
   "outputs": [],
   "source": []
  }
 ],
 "metadata": {
  "kernelspec": {
   "display_name": "Python 3",
   "language": "python",
   "name": "python3"
  },
  "language_info": {
   "codemirror_mode": {
    "name": "ipython",
    "version": 3
   },
   "file_extension": ".py",
   "mimetype": "text/x-python",
   "name": "python",
   "nbconvert_exporter": "python",
   "pygments_lexer": "ipython3",
   "version": "3.7.10"
  },
  "papermill": {
   "default_parameters": {},
   "duration": 65.154931,
   "end_time": "2021-10-17T05:40:36.631781",
   "environment_variables": {},
   "exception": null,
   "input_path": "__notebook__.ipynb",
   "output_path": "__notebook__.ipynb",
   "parameters": {},
   "start_time": "2021-10-17T05:39:31.476850",
   "version": "2.3.3"
  }
 },
 "nbformat": 4,
 "nbformat_minor": 5
}

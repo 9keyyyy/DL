{
 "cells": [
  {
   "cell_type": "code",
   "execution_count": 1,
   "id": "a4e00316",
   "metadata": {
    "_cell_guid": "b1076dfc-b9ad-4769-8c92-a6c4dae69d19",
    "_uuid": "8f2839f25d086af736a60e9eeb907d3b93b6e0e5",
    "execution": {
     "iopub.execute_input": "2021-11-26T14:38:35.163791Z",
     "iopub.status.busy": "2021-11-26T14:38:35.162224Z",
     "iopub.status.idle": "2021-11-26T14:38:35.174614Z",
     "shell.execute_reply": "2021-11-26T14:38:35.174127Z",
     "shell.execute_reply.started": "2021-11-26T14:37:01.674140Z"
    },
    "papermill": {
     "duration": 0.033854,
     "end_time": "2021-11-26T14:38:35.174774",
     "exception": false,
     "start_time": "2021-11-26T14:38:35.140920",
     "status": "completed"
    },
    "tags": []
   },
   "outputs": [
    {
     "name": "stdout",
     "output_type": "stream",
     "text": [
      "/kaggle/input/sejongai-hashrate/train.csv\n",
      "/kaggle/input/sejongai-hashrate/test.csv\n",
      "/kaggle/input/sejongai-hashrate/submit_sample.csv\n"
     ]
    }
   ],
   "source": [
    "# This Python 3 environment comes with many helpful analytics libraries installed\n",
    "# It is defined by the kaggle/python Docker image: https://github.com/kaggle/docker-python\n",
    "# For example, here's several helpful packages to load\n",
    "\n",
    "import numpy as np # linear algebra\n",
    "import pandas as pd # data processing, CSV file I/O (e.g. pd.read_csv)\n",
    "\n",
    "# Input data files are available in the read-only \"../input/\" directory\n",
    "# For example, running this (by clicking run or pressing Shift+Enter) will list all files under the input directory\n",
    "\n",
    "import os\n",
    "for dirname, _, filenames in os.walk('/kaggle/input'):\n",
    "    for filename in filenames:\n",
    "        print(os.path.join(dirname, filename))\n",
    "\n",
    "# You can write up to 20GB to the current directory (/kaggle/working/) that gets preserved as output when you create a version using \"Save & Run All\" \n",
    "# You can also write temporary files to /kaggle/temp/, but they won't be saved outside of the current session"
   ]
  },
  {
   "cell_type": "markdown",
   "id": "ef26c9fe",
   "metadata": {
    "papermill": {
     "duration": 0.01427,
     "end_time": "2021-11-26T14:38:35.205790",
     "exception": false,
     "start_time": "2021-11-26T14:38:35.191520",
     "status": "completed"
    },
    "tags": []
   },
   "source": [
    "* ## 데이터 로드"
   ]
  },
  {
   "cell_type": "code",
   "execution_count": 2,
   "id": "4337413e",
   "metadata": {
    "execution": {
     "iopub.execute_input": "2021-11-26T14:38:35.238320Z",
     "iopub.status.busy": "2021-11-26T14:38:35.237796Z",
     "iopub.status.idle": "2021-11-26T14:38:35.276658Z",
     "shell.execute_reply": "2021-11-26T14:38:35.276230Z",
     "shell.execute_reply.started": "2021-11-26T14:37:01.689193Z"
    },
    "papermill": {
     "duration": 0.056654,
     "end_time": "2021-11-26T14:38:35.276806",
     "exception": false,
     "start_time": "2021-11-26T14:38:35.220152",
     "status": "completed"
    },
    "tags": []
   },
   "outputs": [],
   "source": [
    "train = pd.read_csv('/kaggle/input/sejongai-hashrate/train.csv')\n",
    "test = pd.read_csv('/kaggle/input/sejongai-hashrate/test.csv')\n",
    "sample = pd.read_csv('/kaggle/input/sejongai-hashrate/submit_sample.csv')"
   ]
  },
  {
   "cell_type": "markdown",
   "id": "5febd0b9",
   "metadata": {
    "papermill": {
     "duration": 0.014455,
     "end_time": "2021-11-26T14:38:35.305786",
     "exception": false,
     "start_time": "2021-11-26T14:38:35.291331",
     "status": "completed"
    },
    "tags": []
   },
   "source": [
    "## 모듈 임포트 및 GPU 사용"
   ]
  },
  {
   "cell_type": "code",
   "execution_count": 3,
   "id": "a8ecc5d2",
   "metadata": {
    "execution": {
     "iopub.execute_input": "2021-11-26T14:38:35.337685Z",
     "iopub.status.busy": "2021-11-26T14:38:35.336871Z",
     "iopub.status.idle": "2021-11-26T14:38:37.463236Z",
     "shell.execute_reply": "2021-11-26T14:38:37.462611Z",
     "shell.execute_reply.started": "2021-11-26T14:37:01.712671Z"
    },
    "papermill": {
     "duration": 2.143262,
     "end_time": "2021-11-26T14:38:37.463387",
     "exception": false,
     "start_time": "2021-11-26T14:38:35.320125",
     "status": "completed"
    },
    "tags": []
   },
   "outputs": [
    {
     "data": {
      "text/plain": [
       "'cuda'"
      ]
     },
     "execution_count": 3,
     "metadata": {},
     "output_type": "execute_result"
    }
   ],
   "source": [
    "import numpy as np\n",
    "import pandas as pd\n",
    "import torch\n",
    "import torch.nn as nn\n",
    "import torch.optim as optim\n",
    "import random\n",
    "from sklearn.preprocessing import StandardScaler\n",
    "\n",
    "device ='cuda' if torch.cuda.is_available() else 'cpu'\n",
    "\n",
    "random.seed(777)\n",
    "torch.manual_seed(777)\n",
    "if device == 'cuda' :\n",
    "  torch.cuda.manual_seed_all(777)\n",
    "\n",
    "device"
   ]
  },
  {
   "cell_type": "markdown",
   "id": "270fd5d3",
   "metadata": {
    "papermill": {
     "duration": 0.014601,
     "end_time": "2021-11-26T14:38:37.492890",
     "exception": false,
     "start_time": "2021-11-26T14:38:37.478289",
     "status": "completed"
    },
    "tags": []
   },
   "source": [
    "* train data"
   ]
  },
  {
   "cell_type": "code",
   "execution_count": 4,
   "id": "6f8e82d8",
   "metadata": {
    "execution": {
     "iopub.execute_input": "2021-11-26T14:38:37.534407Z",
     "iopub.status.busy": "2021-11-26T14:38:37.533385Z",
     "iopub.status.idle": "2021-11-26T14:38:37.551309Z",
     "shell.execute_reply": "2021-11-26T14:38:37.551763Z",
     "shell.execute_reply.started": "2021-11-26T14:37:01.726496Z"
    },
    "papermill": {
     "duration": 0.043981,
     "end_time": "2021-11-26T14:38:37.551918",
     "exception": false,
     "start_time": "2021-11-26T14:38:37.507937",
     "status": "completed"
    },
    "tags": []
   },
   "outputs": [
    {
     "data": {
      "text/html": [
       "<div>\n",
       "<style scoped>\n",
       "    .dataframe tbody tr th:only-of-type {\n",
       "        vertical-align: middle;\n",
       "    }\n",
       "\n",
       "    .dataframe tbody tr th {\n",
       "        vertical-align: top;\n",
       "    }\n",
       "\n",
       "    .dataframe thead th {\n",
       "        text-align: right;\n",
       "    }\n",
       "</style>\n",
       "<table border=\"1\" class=\"dataframe\">\n",
       "  <thead>\n",
       "    <tr style=\"text-align: right;\">\n",
       "      <th></th>\n",
       "      <th>id</th>\n",
       "      <th>Timestamp</th>\n",
       "      <th>n-payments-per-block</th>\n",
       "      <th>miners-revenue</th>\n",
       "      <th>trade-volume</th>\n",
       "      <th>avg-block-size</th>\n",
       "      <th>n-unique-addresses</th>\n",
       "      <th>difficulty</th>\n",
       "      <th>hash-rate</th>\n",
       "    </tr>\n",
       "  </thead>\n",
       "  <tbody>\n",
       "    <tr>\n",
       "      <th>0</th>\n",
       "      <td>328</td>\n",
       "      <td>9/25/2019 0:00</td>\n",
       "      <td>3714</td>\n",
       "      <td>0.166294</td>\n",
       "      <td>0.147157</td>\n",
       "      <td>1.104534</td>\n",
       "      <td>0.407111</td>\n",
       "      <td>1190</td>\n",
       "      <td>90.858160</td>\n",
       "    </tr>\n",
       "    <tr>\n",
       "      <th>1</th>\n",
       "      <td>523</td>\n",
       "      <td>4/7/2020 0:00</td>\n",
       "      <td>3302</td>\n",
       "      <td>0.146596</td>\n",
       "      <td>0.060107</td>\n",
       "      <td>1.137403</td>\n",
       "      <td>0.364428</td>\n",
       "      <td>1390</td>\n",
       "      <td>104.430894</td>\n",
       "    </tr>\n",
       "    <tr>\n",
       "      <th>2</th>\n",
       "      <td>1086</td>\n",
       "      <td>10/22/2021 0:00</td>\n",
       "      <td>4256</td>\n",
       "      <td>0.775290</td>\n",
       "      <td>0.281810</td>\n",
       "      <td>1.168189</td>\n",
       "      <td>0.613513</td>\n",
       "      <td>2010</td>\n",
       "      <td>146.706532</td>\n",
       "    </tr>\n",
       "    <tr>\n",
       "      <th>3</th>\n",
       "      <td>215</td>\n",
       "      <td>6/4/2019 0:00</td>\n",
       "      <td>4677</td>\n",
       "      <td>0.163721</td>\n",
       "      <td>0.051685</td>\n",
       "      <td>1.253258</td>\n",
       "      <td>0.587934</td>\n",
       "      <td>746</td>\n",
       "      <td>51.200279</td>\n",
       "    </tr>\n",
       "    <tr>\n",
       "      <th>4</th>\n",
       "      <td>256</td>\n",
       "      <td>7/15/2019 0:00</td>\n",
       "      <td>4278</td>\n",
       "      <td>0.198286</td>\n",
       "      <td>0.043616</td>\n",
       "      <td>1.136104</td>\n",
       "      <td>0.429397</td>\n",
       "      <td>906</td>\n",
       "      <td>64.994549</td>\n",
       "    </tr>\n",
       "    <tr>\n",
       "      <th>...</th>\n",
       "      <td>...</td>\n",
       "      <td>...</td>\n",
       "      <td>...</td>\n",
       "      <td>...</td>\n",
       "      <td>...</td>\n",
       "      <td>...</td>\n",
       "      <td>...</td>\n",
       "      <td>...</td>\n",
       "      <td>...</td>\n",
       "    </tr>\n",
       "    <tr>\n",
       "      <th>864</th>\n",
       "      <td>330</td>\n",
       "      <td>9/27/2019 0:00</td>\n",
       "      <td>3955</td>\n",
       "      <td>0.120062</td>\n",
       "      <td>0.082400</td>\n",
       "      <td>1.095424</td>\n",
       "      <td>0.345911</td>\n",
       "      <td>1280</td>\n",
       "      <td>91.434682</td>\n",
       "    </tr>\n",
       "    <tr>\n",
       "      <th>865</th>\n",
       "      <td>466</td>\n",
       "      <td>2/10/2020 0:00</td>\n",
       "      <td>3818</td>\n",
       "      <td>0.145750</td>\n",
       "      <td>0.025907</td>\n",
       "      <td>1.199867</td>\n",
       "      <td>0.515415</td>\n",
       "      <td>1550</td>\n",
       "      <td>110.381153</td>\n",
       "    </tr>\n",
       "    <tr>\n",
       "      <th>866</th>\n",
       "      <td>121</td>\n",
       "      <td>3/2/2019 0:00</td>\n",
       "      <td>3905</td>\n",
       "      <td>0.025145</td>\n",
       "      <td>0.041302</td>\n",
       "      <td>1.155579</td>\n",
       "      <td>0.266085</td>\n",
       "      <td>607</td>\n",
       "      <td>44.696377</td>\n",
       "    </tr>\n",
       "    <tr>\n",
       "      <th>867</th>\n",
       "      <td>1044</td>\n",
       "      <td>9/10/2021 0:00</td>\n",
       "      <td>4515</td>\n",
       "      <td>0.464794</td>\n",
       "      <td>0.091534</td>\n",
       "      <td>1.194476</td>\n",
       "      <td>0.465419</td>\n",
       "      <td>1840</td>\n",
       "      <td>135.548079</td>\n",
       "    </tr>\n",
       "    <tr>\n",
       "      <th>868</th>\n",
       "      <td>860</td>\n",
       "      <td>3/10/2021 0:00</td>\n",
       "      <td>5315</td>\n",
       "      <td>0.701752</td>\n",
       "      <td>0.231033</td>\n",
       "      <td>1.299937</td>\n",
       "      <td>0.668232</td>\n",
       "      <td>2140</td>\n",
       "      <td>156.532985</td>\n",
       "    </tr>\n",
       "  </tbody>\n",
       "</table>\n",
       "<p>869 rows × 9 columns</p>\n",
       "</div>"
      ],
      "text/plain": [
       "       id        Timestamp  n-payments-per-block  miners-revenue  \\\n",
       "0     328   9/25/2019 0:00                  3714        0.166294   \n",
       "1     523    4/7/2020 0:00                  3302        0.146596   \n",
       "2    1086  10/22/2021 0:00                  4256        0.775290   \n",
       "3     215    6/4/2019 0:00                  4677        0.163721   \n",
       "4     256   7/15/2019 0:00                  4278        0.198286   \n",
       "..    ...              ...                   ...             ...   \n",
       "864   330   9/27/2019 0:00                  3955        0.120062   \n",
       "865   466   2/10/2020 0:00                  3818        0.145750   \n",
       "866   121    3/2/2019 0:00                  3905        0.025145   \n",
       "867  1044   9/10/2021 0:00                  4515        0.464794   \n",
       "868   860   3/10/2021 0:00                  5315        0.701752   \n",
       "\n",
       "     trade-volume  avg-block-size  n-unique-addresses  difficulty   hash-rate  \n",
       "0        0.147157        1.104534            0.407111        1190   90.858160  \n",
       "1        0.060107        1.137403            0.364428        1390  104.430894  \n",
       "2        0.281810        1.168189            0.613513        2010  146.706532  \n",
       "3        0.051685        1.253258            0.587934         746   51.200279  \n",
       "4        0.043616        1.136104            0.429397         906   64.994549  \n",
       "..            ...             ...                 ...         ...         ...  \n",
       "864      0.082400        1.095424            0.345911        1280   91.434682  \n",
       "865      0.025907        1.199867            0.515415        1550  110.381153  \n",
       "866      0.041302        1.155579            0.266085         607   44.696377  \n",
       "867      0.091534        1.194476            0.465419        1840  135.548079  \n",
       "868      0.231033        1.299937            0.668232        2140  156.532985  \n",
       "\n",
       "[869 rows x 9 columns]"
      ]
     },
     "execution_count": 4,
     "metadata": {},
     "output_type": "execute_result"
    }
   ],
   "source": [
    "train"
   ]
  },
  {
   "cell_type": "markdown",
   "id": "64011d38",
   "metadata": {
    "papermill": {
     "duration": 0.015506,
     "end_time": "2021-11-26T14:38:37.583432",
     "exception": false,
     "start_time": "2021-11-26T14:38:37.567926",
     "status": "completed"
    },
    "tags": []
   },
   "source": [
    "* ## 데이터 파싱"
   ]
  },
  {
   "cell_type": "code",
   "execution_count": 5,
   "id": "7855d792",
   "metadata": {
    "execution": {
     "iopub.execute_input": "2021-11-26T14:38:37.638039Z",
     "iopub.status.busy": "2021-11-26T14:38:37.620896Z",
     "iopub.status.idle": "2021-11-26T14:38:40.619908Z",
     "shell.execute_reply": "2021-11-26T14:38:40.619385Z",
     "shell.execute_reply.started": "2021-11-26T14:37:01.762773Z"
    },
    "papermill": {
     "duration": 3.021633,
     "end_time": "2021-11-26T14:38:40.620036",
     "exception": false,
     "start_time": "2021-11-26T14:38:37.598403",
     "status": "completed"
    },
    "tags": []
   },
   "outputs": [],
   "source": [
    "x_train = train.iloc[:,1:-1]\n",
    "x_train['Timestamp'] = x_train['Timestamp'].str.split(' ').str[0]\n",
    "x_train['date'] = x_train['Timestamp'].str.split('/').str[0].astype(int)\n",
    "x_train['month'] = x_train['Timestamp'].str.split('/').str[1].astype(int)\n",
    "x_train['year'] = x_train['Timestamp'].str.split('/').str[2].astype(int)\n",
    "x_train = x_train.drop(['Timestamp'], axis=1)\n",
    "\n",
    "x_test = test.iloc[:,1:]\n",
    "x_test['Timestamp'] = x_test['Timestamp'].str.split(' ').str[0]\n",
    "x_test['date'] = x_test['Timestamp'].str.split('/').str[0].astype(int)\n",
    "x_test['month'] = x_test['Timestamp'].str.split('/').str[1].astype(int)\n",
    "x_test['year'] = x_test['Timestamp'].str.split('/').str[2].astype(int)\n",
    "x_test = x_test.drop([ 'Timestamp'], axis=1)\n",
    "\n",
    "y_train = train.iloc[:,-1]\n",
    "\n",
    "\n",
    "sc = StandardScaler()\n",
    "x_train = sc.fit_transform(x_train)\n",
    "x_test = sc.transform(x_test)\n",
    "\n",
    "x_train = torch.FloatTensor(x_train).to(device)\n",
    "x_test = torch.FloatTensor(x_test).to(device)\n",
    "y_train = torch.FloatTensor(y_train).reshape(-1,1).to(device)"
   ]
  },
  {
   "cell_type": "markdown",
   "id": "f1288cf3",
   "metadata": {
    "papermill": {
     "duration": 0.014871,
     "end_time": "2021-11-26T14:38:40.650542",
     "exception": false,
     "start_time": "2021-11-26T14:38:40.635671",
     "status": "completed"
    },
    "tags": []
   },
   "source": [
    "* ## 데이터 확인"
   ]
  },
  {
   "cell_type": "code",
   "execution_count": 6,
   "id": "31a8ae7b",
   "metadata": {
    "execution": {
     "iopub.execute_input": "2021-11-26T14:38:40.689855Z",
     "iopub.status.busy": "2021-11-26T14:38:40.689220Z",
     "iopub.status.idle": "2021-11-26T14:38:40.757196Z",
     "shell.execute_reply": "2021-11-26T14:38:40.756696Z",
     "shell.execute_reply.started": "2021-11-26T14:37:01.809459Z"
    },
    "papermill": {
     "duration": 0.091842,
     "end_time": "2021-11-26T14:38:40.757308",
     "exception": false,
     "start_time": "2021-11-26T14:38:40.665466",
     "status": "completed"
    },
    "tags": []
   },
   "outputs": [
    {
     "name": "stdout",
     "output_type": "stream",
     "text": [
      "tensor([[-0.4009, -0.2973,  0.5300, -0.3541, -0.2453, -0.4522,  0.7352,  1.0807,\n",
      "         -0.9310],\n",
      "        [-0.9151, -0.3917, -0.3157, -0.1477, -0.4899, -0.0833, -0.7241, -0.9701,\n",
      "          0.1895],\n",
      "        [ 0.2755,  2.6196,  1.8380,  0.0455,  0.9379,  1.0601,  1.0271,  0.7389,\n",
      "          1.3101],\n",
      "        [ 0.8010, -0.3096, -0.3975,  0.5795,  0.7913, -1.2710, -0.1404, -1.3119,\n",
      "         -0.9310],\n",
      "        [ 0.3030, -0.1441, -0.4759, -0.1559, -0.1175, -0.9759,  0.1515, -0.0586,\n",
      "         -0.9310]], device='cuda:0')\n",
      "torch.Size([869, 9])\n",
      "tensor([[ 90.8582],\n",
      "        [104.4309],\n",
      "        [146.7065],\n",
      "        [ 51.2003],\n",
      "        [ 64.9946]], device='cuda:0')\n",
      "torch.Size([869, 1])\n",
      "tensor([[-0.1937, -0.2663, -0.6790,  0.3013,  1.0558,  0.4884,  1.3190,  0.0553,\n",
      "          0.1895],\n",
      "        [-1.7837, -0.8732,  0.0416, -1.7283, -1.4705, -1.7044,  1.6108,  1.3086,\n",
      "         -2.0515],\n",
      "        [ 0.4128, -0.6712, -0.5372,  0.0717,  0.7904,  0.5437,  0.7352, -0.0586,\n",
      "          0.1895]], device='cuda:0')\n"
     ]
    }
   ],
   "source": [
    "# train data\n",
    "print(x_train[:5])\n",
    "print(x_train.shape)\n",
    "print(y_train[:5])\n",
    "print(y_train.shape)\n",
    "\n",
    "# test data\n",
    "print(x_test[:3])"
   ]
  },
  {
   "cell_type": "markdown",
   "id": "65bff362",
   "metadata": {
    "papermill": {
     "duration": 0.015109,
     "end_time": "2021-11-26T14:38:40.787836",
     "exception": false,
     "start_time": "2021-11-26T14:38:40.772727",
     "status": "completed"
    },
    "tags": []
   },
   "source": [
    "* ## 모델 정의"
   ]
  },
  {
   "cell_type": "code",
   "execution_count": 7,
   "id": "3cb25f9e",
   "metadata": {
    "execution": {
     "iopub.execute_input": "2021-11-26T14:38:40.828787Z",
     "iopub.status.busy": "2021-11-26T14:38:40.827976Z",
     "iopub.status.idle": "2021-11-26T14:38:40.829981Z",
     "shell.execute_reply": "2021-11-26T14:38:40.830401Z",
     "shell.execute_reply.started": "2021-11-26T14:37:01.829453Z"
    },
    "papermill": {
     "duration": 0.027454,
     "end_time": "2021-11-26T14:38:40.830519",
     "exception": false,
     "start_time": "2021-11-26T14:38:40.803065",
     "status": "completed"
    },
    "tags": []
   },
   "outputs": [],
   "source": [
    "class NN(torch.nn.Module):\n",
    "    def __init__(self):\n",
    "        super(NN,self).__init__()\n",
    "        \n",
    "        self.linear1 = nn.Linear(9,512,bias=True)\n",
    "        self.linear2 = nn.Linear(512,256,bias=True)\n",
    "        self.linear3 = nn.Linear(256,512,bias=True)\n",
    "        self.linear4 = nn.Linear(512,64,bias=True)\n",
    "        self.linear5 = nn.Linear(64,32,bias=True)\n",
    "        self.linear6 = nn.Linear(32,1,bias=True)\n",
    "        self.relu = nn.ReLU()\n",
    "        \n",
    "        torch.nn.init.orthogonal_(self.linear1.weight)\n",
    "        torch.nn.init.orthogonal_(self.linear2.weight)\n",
    "        torch.nn.init.orthogonal_(self.linear3.weight)\n",
    "        torch.nn.init.orthogonal_(self.linear4.weight)\n",
    "        torch.nn.init.orthogonal_(self.linear5.weight)\n",
    "        torch.nn.init.orthogonal_(self.linear6.weight)\n",
    "        \n",
    "    def forward(self,x):\n",
    "        out = self.linear1(x)\n",
    "        out = self.relu(out)\n",
    "        out = self.linear2(out)\n",
    "        out = self.relu(out)\n",
    "        out = self.linear3(out)\n",
    "        out = self.relu(out)\n",
    "        out = self.linear4(out)\n",
    "        out = self.relu(out)\n",
    "        out = self.linear5(out)\n",
    "        out = self.relu(out)\n",
    "        out = self.linear6(out)\n",
    "        return out"
   ]
  },
  {
   "cell_type": "markdown",
   "id": "7ae6e125",
   "metadata": {
    "papermill": {
     "duration": 0.015066,
     "end_time": "2021-11-26T14:38:40.861036",
     "exception": false,
     "start_time": "2021-11-26T14:38:40.845970",
     "status": "completed"
    },
    "tags": []
   },
   "source": [
    "* ## 학습 파라미터 설정"
   ]
  },
  {
   "cell_type": "code",
   "execution_count": 8,
   "id": "edcdaaea",
   "metadata": {
    "execution": {
     "iopub.execute_input": "2021-11-26T14:38:40.897214Z",
     "iopub.status.busy": "2021-11-26T14:38:40.896631Z",
     "iopub.status.idle": "2021-11-26T14:38:41.032993Z",
     "shell.execute_reply": "2021-11-26T14:38:41.033412Z",
     "shell.execute_reply.started": "2021-11-26T14:37:01.846067Z"
    },
    "papermill": {
     "duration": 0.157153,
     "end_time": "2021-11-26T14:38:41.033551",
     "exception": false,
     "start_time": "2021-11-26T14:38:40.876398",
     "status": "completed"
    },
    "tags": []
   },
   "outputs": [
    {
     "data": {
      "text/plain": [
       "NN(\n",
       "  (linear1): Linear(in_features=9, out_features=512, bias=True)\n",
       "  (linear2): Linear(in_features=512, out_features=256, bias=True)\n",
       "  (linear3): Linear(in_features=256, out_features=512, bias=True)\n",
       "  (linear4): Linear(in_features=512, out_features=64, bias=True)\n",
       "  (linear5): Linear(in_features=64, out_features=32, bias=True)\n",
       "  (linear6): Linear(in_features=32, out_features=1, bias=True)\n",
       "  (relu): ReLU()\n",
       ")"
      ]
     },
     "execution_count": 8,
     "metadata": {},
     "output_type": "execute_result"
    }
   ],
   "source": [
    "model = NN().to(device)\n",
    "optimizer = optim.Adam(model.parameters(), lr=2e-4)\n",
    "loss = nn.MSELoss().to(device)\n",
    "epochs = 2000\n",
    "model"
   ]
  },
  {
   "cell_type": "markdown",
   "id": "87832efa",
   "metadata": {
    "papermill": {
     "duration": 0.015925,
     "end_time": "2021-11-26T14:38:41.065366",
     "exception": false,
     "start_time": "2021-11-26T14:38:41.049441",
     "status": "completed"
    },
    "tags": []
   },
   "source": [
    "* # 모델 학습"
   ]
  },
  {
   "cell_type": "code",
   "execution_count": 9,
   "id": "8e8c36d3",
   "metadata": {
    "execution": {
     "iopub.execute_input": "2021-11-26T14:38:41.103779Z",
     "iopub.status.busy": "2021-11-26T14:38:41.103141Z",
     "iopub.status.idle": "2021-11-26T14:38:47.197133Z",
     "shell.execute_reply": "2021-11-26T14:38:47.197890Z",
     "shell.execute_reply.started": "2021-11-26T14:37:01.927674Z"
    },
    "papermill": {
     "duration": 6.116974,
     "end_time": "2021-11-26T14:38:47.198090",
     "exception": false,
     "start_time": "2021-11-26T14:38:41.081116",
     "status": "completed"
    },
    "tags": []
   },
   "outputs": [
    {
     "name": "stdout",
     "output_type": "stream",
     "text": [
      "Epoch : 0, Cost : 13.872109413146973\n",
      "Epoch : 200, Cost : 0.15140527486801147\n",
      "Epoch : 400, Cost : 0.05734240636229515\n",
      "Epoch : 600, Cost : 0.034110601991415024\n",
      "Epoch : 800, Cost : 0.025000613182783127\n",
      "Epoch : 1000, Cost : 0.01837957091629505\n",
      "Epoch : 1200, Cost : 0.01364353857934475\n",
      "Epoch : 1400, Cost : 0.010211610235273838\n",
      "Epoch : 1600, Cost : 0.007697619963437319\n",
      "Epoch : 1800, Cost : 0.0056938230991363525\n",
      "Epoch : 2000, Cost : 0.004402837250381708\n"
     ]
    }
   ],
   "source": [
    "model.train()\n",
    "plt_los = []\n",
    "train_total_batch = len(x_train)\n",
    "for epoch in range(epochs+1) : \n",
    "    avg_cost = 0\n",
    "    model.train()\n",
    "\n",
    "    hypothesis = model(x_train) \n",
    "    cost = loss(hypothesis,y_train) \n",
    "    \n",
    "    optimizer.zero_grad() \n",
    "    cost.backward()\n",
    "    optimizer.step() \n",
    "    avg_cost += cost / train_total_batch\n",
    "    plt_los.append([avg_cost.item()])\n",
    "    if epoch%200==0:\n",
    "        print('Epoch : {}, Cost : {}'.format(epoch, avg_cost.item()))\n"
   ]
  },
  {
   "cell_type": "markdown",
   "id": "17593044",
   "metadata": {
    "papermill": {
     "duration": 0.018343,
     "end_time": "2021-11-26T14:38:47.235814",
     "exception": false,
     "start_time": "2021-11-26T14:38:47.217471",
     "status": "completed"
    },
    "tags": []
   },
   "source": [
    "## cost 확인"
   ]
  },
  {
   "cell_type": "code",
   "execution_count": 10,
   "id": "dd64a869",
   "metadata": {
    "execution": {
     "iopub.execute_input": "2021-11-26T14:38:47.279256Z",
     "iopub.status.busy": "2021-11-26T14:38:47.278307Z",
     "iopub.status.idle": "2021-11-26T14:38:47.280518Z",
     "shell.execute_reply": "2021-11-26T14:38:47.280918Z",
     "shell.execute_reply.started": "2021-11-26T14:37:09.160575Z"
    },
    "papermill": {
     "duration": 0.026645,
     "end_time": "2021-11-26T14:38:47.281044",
     "exception": false,
     "start_time": "2021-11-26T14:38:47.254399",
     "status": "completed"
    },
    "tags": []
   },
   "outputs": [],
   "source": [
    "import matplotlib.pyplot as plt\n",
    "\n",
    "def plot(loss_list: list, ylim=None, title=None) -> None:\n",
    "    bn = [i[0] for i in loss_list]\n",
    "\n",
    "    plt.figure(figsize=(10, 10))\n",
    "    plt.plot(bn, label='avg_cost')\n",
    "    if ylim:\n",
    "        plt.ylim(ylim)\n",
    "\n",
    "    if title:\n",
    "        plt.title(title)\n",
    "    plt.legend()\n",
    "    plt.grid('on')\n",
    "    plt.show()"
   ]
  },
  {
   "cell_type": "code",
   "execution_count": 11,
   "id": "f9880e4c",
   "metadata": {
    "execution": {
     "iopub.execute_input": "2021-11-26T14:38:47.335795Z",
     "iopub.status.busy": "2021-11-26T14:38:47.335207Z",
     "iopub.status.idle": "2021-11-26T14:38:47.553595Z",
     "shell.execute_reply": "2021-11-26T14:38:47.554199Z",
     "shell.execute_reply.started": "2021-11-26T14:37:09.170417Z"
    },
    "papermill": {
     "duration": 0.25501,
     "end_time": "2021-11-26T14:38:47.554384",
     "exception": false,
     "start_time": "2021-11-26T14:38:47.299374",
     "status": "completed"
    },
    "tags": []
   },
   "outputs": [
    {
     "data": {
      "image/png": "[encoded data removed]",
      "text/plain": [
       "<Figure size 720x720 with 1 Axes>"
      ]
     },
     "metadata": {
      "needs_background": "light"
     },
     "output_type": "display_data"
    },
    {
     "name": "stdout",
     "output_type": "stream",
     "text": [
      "0.004402837250381708\n"
     ]
    }
   ],
   "source": [
    "plot(plt_los , [0.0, 1.0], title='Loss at Epoch')\n",
    "print(avg_cost.item())"
   ]
  },
  {
   "cell_type": "markdown",
   "id": "2a3c9950",
   "metadata": {
    "papermill": {
     "duration": 0.019282,
     "end_time": "2021-11-26T14:38:47.594798",
     "exception": false,
     "start_time": "2021-11-26T14:38:47.575516",
     "status": "completed"
    },
    "tags": []
   },
   "source": [
    "## 예측 값 도출 및 제출"
   ]
  },
  {
   "cell_type": "code",
   "execution_count": 12,
   "id": "71fa3861",
   "metadata": {
    "execution": {
     "iopub.execute_input": "2021-11-26T14:38:47.639270Z",
     "iopub.status.busy": "2021-11-26T14:38:47.638271Z",
     "iopub.status.idle": "2021-11-26T14:38:47.641963Z",
     "shell.execute_reply": "2021-11-26T14:38:47.641494Z",
     "shell.execute_reply.started": "2021-11-26T14:37:09.624938Z"
    },
    "papermill": {
     "duration": 0.02665,
     "end_time": "2021-11-26T14:38:47.642076",
     "exception": false,
     "start_time": "2021-11-26T14:38:47.615426",
     "status": "completed"
    },
    "tags": []
   },
   "outputs": [],
   "source": [
    "model.eval()\n",
    "with torch.no_grad():\n",
    "    y_pred = model(x_test)"
   ]
  },
  {
   "cell_type": "code",
   "execution_count": 13,
   "id": "6481afab",
   "metadata": {
    "execution": {
     "iopub.execute_input": "2021-11-26T14:38:47.686466Z",
     "iopub.status.busy": "2021-11-26T14:38:47.685756Z",
     "iopub.status.idle": "2021-11-26T14:38:47.691492Z",
     "shell.execute_reply": "2021-11-26T14:38:47.691027Z",
     "shell.execute_reply.started": "2021-11-26T14:37:09.639892Z"
    },
    "papermill": {
     "duration": 0.029975,
     "end_time": "2021-11-26T14:38:47.691597",
     "exception": false,
     "start_time": "2021-11-26T14:38:47.661622",
     "status": "completed"
    },
    "tags": []
   },
   "outputs": [],
   "source": [
    "sample['hash-rate'] = y_pred.cpu().numpy()\n",
    "sample.to_csv('submit_sample.csv',index=False)"
   ]
  },
  {
   "cell_type": "code",
   "execution_count": 14,
   "id": "2df60b32",
   "metadata": {
    "execution": {
     "iopub.execute_input": "2021-11-26T14:38:47.735095Z",
     "iopub.status.busy": "2021-11-26T14:38:47.734327Z",
     "iopub.status.idle": "2021-11-26T14:38:47.743174Z",
     "shell.execute_reply": "2021-11-26T14:38:47.742624Z",
     "shell.execute_reply.started": "2021-11-26T14:37:09.657493Z"
    },
    "papermill": {
     "duration": 0.03197,
     "end_time": "2021-11-26T14:38:47.743322",
     "exception": false,
     "start_time": "2021-11-26T14:38:47.711352",
     "status": "completed"
    },
    "tags": []
   },
   "outputs": [
    {
     "data": {
      "text/html": [
       "<div>\n",
       "<style scoped>\n",
       "    .dataframe tbody tr th:only-of-type {\n",
       "        vertical-align: middle;\n",
       "    }\n",
       "\n",
       "    .dataframe tbody tr th {\n",
       "        vertical-align: top;\n",
       "    }\n",
       "\n",
       "    .dataframe thead th {\n",
       "        text-align: right;\n",
       "    }\n",
       "</style>\n",
       "<table border=\"1\" class=\"dataframe\">\n",
       "  <thead>\n",
       "    <tr style=\"text-align: right;\">\n",
       "      <th></th>\n",
       "      <th>id</th>\n",
       "      <th>hash-rate</th>\n",
       "    </tr>\n",
       "  </thead>\n",
       "  <tbody>\n",
       "    <tr>\n",
       "      <th>0</th>\n",
       "      <td>746</td>\n",
       "      <td>131.405334</td>\n",
       "    </tr>\n",
       "    <tr>\n",
       "      <th>1</th>\n",
       "      <td>56</td>\n",
       "      <td>40.596966</td>\n",
       "    </tr>\n",
       "    <tr>\n",
       "      <th>2</th>\n",
       "      <td>684</td>\n",
       "      <td>135.314224</td>\n",
       "    </tr>\n",
       "    <tr>\n",
       "      <th>3</th>\n",
       "      <td>896</td>\n",
       "      <td>175.725327</td>\n",
       "    </tr>\n",
       "    <tr>\n",
       "      <th>4</th>\n",
       "      <td>723</td>\n",
       "      <td>139.804413</td>\n",
       "    </tr>\n",
       "    <tr>\n",
       "      <th>...</th>\n",
       "      <td>...</td>\n",
       "      <td>...</td>\n",
       "    </tr>\n",
       "    <tr>\n",
       "      <th>213</th>\n",
       "      <td>1043</td>\n",
       "      <td>138.360199</td>\n",
       "    </tr>\n",
       "    <tr>\n",
       "      <th>214</th>\n",
       "      <td>661</td>\n",
       "      <td>125.209763</td>\n",
       "    </tr>\n",
       "    <tr>\n",
       "      <th>215</th>\n",
       "      <td>894</td>\n",
       "      <td>160.315567</td>\n",
       "    </tr>\n",
       "    <tr>\n",
       "      <th>216</th>\n",
       "      <td>828</td>\n",
       "      <td>152.756439</td>\n",
       "    </tr>\n",
       "    <tr>\n",
       "      <th>217</th>\n",
       "      <td>429</td>\n",
       "      <td>101.930954</td>\n",
       "    </tr>\n",
       "  </tbody>\n",
       "</table>\n",
       "<p>218 rows × 2 columns</p>\n",
       "</div>"
      ],
      "text/plain": [
       "       id   hash-rate\n",
       "0     746  131.405334\n",
       "1      56   40.596966\n",
       "2     684  135.314224\n",
       "3     896  175.725327\n",
       "4     723  139.804413\n",
       "..    ...         ...\n",
       "213  1043  138.360199\n",
       "214   661  125.209763\n",
       "215   894  160.315567\n",
       "216   828  152.756439\n",
       "217   429  101.930954\n",
       "\n",
       "[218 rows x 2 columns]"
      ]
     },
     "execution_count": 14,
     "metadata": {},
     "output_type": "execute_result"
    }
   ],
   "source": [
    "sample"
   ]
  }
 ],
 "metadata": {
  "kernelspec": {
   "display_name": "Python 3",
   "language": "python",
   "name": "python3"
  },
  "language_info": {
   "codemirror_mode": {
    "name": "ipython",
    "version": 3
   },
   "file_extension": ".py",
   "mimetype": "text/x-python",
   "name": "python",
   "nbconvert_exporter": "python",
   "pygments_lexer": "ipython3",
   "version": "3.7.10"
  },
  "papermill": {
   "default_parameters": {},
   "duration": 20.988092,
   "end_time": "2021-11-26T14:38:48.773102",
   "environment_variables": {},
   "exception": null,
   "input_path": "__notebook__.ipynb",
   "output_path": "__notebook__.ipynb",
   "parameters": {},
   "start_time": "2021-11-26T14:38:27.785010",
   "version": "2.3.3"
  }
 },
 "nbformat": 4,
 "nbformat_minor": 5
}

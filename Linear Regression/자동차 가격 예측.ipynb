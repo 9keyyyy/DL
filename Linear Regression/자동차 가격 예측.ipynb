{
 "cells": [
  {
   "cell_type": "code",
   "execution_count": 1,
   "id": "aec6e314",
   "metadata": {
    "_cell_guid": "b1076dfc-b9ad-4769-8c92-a6c4dae69d19",
    "_uuid": "8f2839f25d086af736a60e9eeb907d3b93b6e0e5",
    "execution": {
     "iopub.execute_input": "2021-09-18T19:19:24.657138Z",
     "iopub.status.busy": "2021-09-18T19:19:24.656092Z",
     "iopub.status.idle": "2021-09-18T19:19:24.667638Z",
     "shell.execute_reply": "2021-09-18T19:19:24.668410Z",
     "shell.execute_reply.started": "2021-09-18T18:42:58.405269Z"
    },
    "papermill": {
     "duration": 0.024147,
     "end_time": "2021-09-18T19:19:24.668696",
     "exception": false,
     "start_time": "2021-09-18T19:19:24.644549",
     "status": "completed"
    },
    "tags": []
   },
   "outputs": [
    {
     "name": "stdout",
     "output_type": "stream",
     "text": [
      "/kaggle/input/2021-ai-w3-p2/train_data.csv\n",
      "/kaggle/input/2021-ai-w3-p2/test_data.csv\n",
      "/kaggle/input/2021-ai-w3-p2/sample_submit.csv\n"
     ]
    }
   ],
   "source": [
    "# This Python 3 environment comes with many helpful analytics libraries installed\n",
    "# It is defined by the kaggle/python Docker image: https://github.com/kaggle/docker-python\n",
    "# For example, here's several helpful packages to load\n",
    "\n",
    "import numpy as np # linear algebra\n",
    "import pandas as pd # data processing, CSV file I/O (e.g. pd.read_csv)\n",
    "import math\n",
    "# Input data files are available in the read-only \"../input/\" directory\n",
    "# For example, running this (by clicking run or pressing Shift+Enter) will list all files under the input directory\n",
    "\n",
    "import os\n",
    "for dirname, _, filenames in os.walk('/kaggle/input'):\n",
    "    for filename in filenames:\n",
    "        print(os.path.join(dirname, filename))\n",
    "\n",
    "# You can write up to 20GB to the current directory (/kaggle/working/) that gets preserved as output when you create a version using \"Save & Run All\" \n",
    "# You can also write temporary files to /kaggle/temp/, but they won't be saved outside of the current session"
   ]
  },
  {
   "cell_type": "code",
   "execution_count": 2,
   "id": "6b719aa6",
   "metadata": {
    "execution": {
     "iopub.execute_input": "2021-09-18T19:19:24.686796Z",
     "iopub.status.busy": "2021-09-18T19:19:24.686233Z",
     "iopub.status.idle": "2021-09-18T19:19:25.719430Z",
     "shell.execute_reply": "2021-09-18T19:19:25.718945Z",
     "shell.execute_reply.started": "2021-09-18T18:42:58.758978Z"
    },
    "papermill": {
     "duration": 1.042872,
     "end_time": "2021-09-18T19:19:25.719569",
     "exception": false,
     "start_time": "2021-09-18T19:19:24.676697",
     "status": "completed"
    },
    "tags": []
   },
   "outputs": [
    {
     "data": {
      "text/plain": [
       "<torch._C.Generator at 0x7f2660221310>"
      ]
     },
     "execution_count": 2,
     "metadata": {},
     "output_type": "execute_result"
    }
   ],
   "source": [
    "import torch\n",
    "import torch.optim as optim\n",
    "\n",
    "torch.manual_seed(1)"
   ]
  },
  {
   "cell_type": "code",
   "execution_count": 3,
   "id": "2460d27f",
   "metadata": {
    "execution": {
     "iopub.execute_input": "2021-09-18T19:19:25.741811Z",
     "iopub.status.busy": "2021-09-18T19:19:25.741012Z",
     "iopub.status.idle": "2021-09-18T19:19:25.831831Z",
     "shell.execute_reply": "2021-09-18T19:19:25.831282Z",
     "shell.execute_reply.started": "2021-09-18T18:42:59.462282Z"
    },
    "papermill": {
     "duration": 0.104462,
     "end_time": "2021-09-18T19:19:25.831969",
     "exception": false,
     "start_time": "2021-09-18T19:19:25.727507",
     "status": "completed"
    },
    "tags": []
   },
   "outputs": [],
   "source": [
    "X = pd.read_csv('/kaggle/input/2021-ai-w3-p2/train_data.csv')\n",
    "y = X['price']\n",
    "X = X.drop(['ID', 'price', 'model', 'year', 'transmission', 'fueltype'], axis=1)\n",
    "test = pd.read_csv('/kaggle/input/2021-ai-w3-p2/test_data.csv').drop(['ID' ,'model', 'year', 'transmission', 'fueltype'], axis=1)\n",
    "sample = pd.read_csv('/kaggle/input/2021-ai-w3-p2/sample_submit.csv')"
   ]
  },
  {
   "cell_type": "code",
   "execution_count": 4,
   "id": "6ff66ffd",
   "metadata": {
    "execution": {
     "iopub.execute_input": "2021-09-18T19:19:25.855457Z",
     "iopub.status.busy": "2021-09-18T19:19:25.854846Z",
     "iopub.status.idle": "2021-09-18T19:19:25.884541Z",
     "shell.execute_reply": "2021-09-18T19:19:25.883528Z",
     "shell.execute_reply.started": "2021-09-18T18:43:00.209643Z"
    },
    "papermill": {
     "duration": 0.044809,
     "end_time": "2021-09-18T19:19:25.884689",
     "exception": false,
     "start_time": "2021-09-18T19:19:25.839880",
     "status": "completed"
    },
    "tags": []
   },
   "outputs": [
    {
     "data": {
      "text/html": [
       "<div>\n",
       "<style scoped>\n",
       "    .dataframe tbody tr th:only-of-type {\n",
       "        vertical-align: middle;\n",
       "    }\n",
       "\n",
       "    .dataframe tbody tr th {\n",
       "        vertical-align: top;\n",
       "    }\n",
       "\n",
       "    .dataframe thead th {\n",
       "        text-align: right;\n",
       "    }\n",
       "</style>\n",
       "<table border=\"1\" class=\"dataframe\">\n",
       "  <thead>\n",
       "    <tr style=\"text-align: right;\">\n",
       "      <th></th>\n",
       "      <th>company</th>\n",
       "      <th>mileage</th>\n",
       "      <th>tax</th>\n",
       "      <th>mpg</th>\n",
       "      <th>engineSize</th>\n",
       "    </tr>\n",
       "  </thead>\n",
       "  <tbody>\n",
       "    <tr>\n",
       "      <th>count</th>\n",
       "      <td>17085.000000</td>\n",
       "      <td>17085.000000</td>\n",
       "      <td>17085.000000</td>\n",
       "      <td>17085.000000</td>\n",
       "      <td>17085.000000</td>\n",
       "    </tr>\n",
       "    <tr>\n",
       "      <th>mean</th>\n",
       "      <td>1.955926</td>\n",
       "      <td>23811.395142</td>\n",
       "      <td>118.696225</td>\n",
       "      <td>56.449874</td>\n",
       "      <td>1.671659</td>\n",
       "    </tr>\n",
       "    <tr>\n",
       "      <th>std</th>\n",
       "      <td>1.294944</td>\n",
       "      <td>21403.239323</td>\n",
       "      <td>65.087240</td>\n",
       "      <td>18.745561</td>\n",
       "      <td>0.599490</td>\n",
       "    </tr>\n",
       "    <tr>\n",
       "      <th>min</th>\n",
       "      <td>0.000000</td>\n",
       "      <td>1.000000</td>\n",
       "      <td>0.000000</td>\n",
       "      <td>2.800000</td>\n",
       "      <td>0.000000</td>\n",
       "    </tr>\n",
       "    <tr>\n",
       "      <th>25%</th>\n",
       "      <td>1.000000</td>\n",
       "      <td>7881.000000</td>\n",
       "      <td>125.000000</td>\n",
       "      <td>47.900000</td>\n",
       "      <td>1.200000</td>\n",
       "    </tr>\n",
       "    <tr>\n",
       "      <th>50%</th>\n",
       "      <td>2.000000</td>\n",
       "      <td>18266.000000</td>\n",
       "      <td>145.000000</td>\n",
       "      <td>56.500000</td>\n",
       "      <td>1.600000</td>\n",
       "    </tr>\n",
       "    <tr>\n",
       "      <th>75%</th>\n",
       "      <td>3.000000</td>\n",
       "      <td>33322.000000</td>\n",
       "      <td>145.000000</td>\n",
       "      <td>64.200000</td>\n",
       "      <td>2.000000</td>\n",
       "    </tr>\n",
       "    <tr>\n",
       "      <th>max</th>\n",
       "      <td>4.000000</td>\n",
       "      <td>178987.000000</td>\n",
       "      <td>580.000000</td>\n",
       "      <td>470.800000</td>\n",
       "      <td>6.300000</td>\n",
       "    </tr>\n",
       "  </tbody>\n",
       "</table>\n",
       "</div>"
      ],
      "text/plain": [
       "            company        mileage           tax           mpg    engineSize\n",
       "count  17085.000000   17085.000000  17085.000000  17085.000000  17085.000000\n",
       "mean       1.955926   23811.395142    118.696225     56.449874      1.671659\n",
       "std        1.294944   21403.239323     65.087240     18.745561      0.599490\n",
       "min        0.000000       1.000000      0.000000      2.800000      0.000000\n",
       "25%        1.000000    7881.000000    125.000000     47.900000      1.200000\n",
       "50%        2.000000   18266.000000    145.000000     56.500000      1.600000\n",
       "75%        3.000000   33322.000000    145.000000     64.200000      2.000000\n",
       "max        4.000000  178987.000000    580.000000    470.800000      6.300000"
      ]
     },
     "execution_count": 4,
     "metadata": {},
     "output_type": "execute_result"
    }
   ],
   "source": [
    "X.describe()"
   ]
  },
  {
   "cell_type": "code",
   "execution_count": 5,
   "id": "49fadedc",
   "metadata": {
    "execution": {
     "iopub.execute_input": "2021-09-18T19:19:25.908364Z",
     "iopub.status.busy": "2021-09-18T19:19:25.907470Z",
     "iopub.status.idle": "2021-09-18T19:19:26.852275Z",
     "shell.execute_reply": "2021-09-18T19:19:26.851651Z",
     "shell.execute_reply.started": "2021-09-18T18:43:01.050669Z"
    },
    "papermill": {
     "duration": 0.959459,
     "end_time": "2021-09-18T19:19:26.852406",
     "exception": false,
     "start_time": "2021-09-18T19:19:25.892947",
     "status": "completed"
    },
    "tags": []
   },
   "outputs": [],
   "source": [
    "from sklearn.preprocessing import StandardScaler, MinMaxScaler\n",
    "\n",
    "scaler = MinMaxScaler()\n",
    "X['tax'] = scaler.fit_transform(X['tax'].to_numpy().reshape(-1, 1))\n",
    "test['tax']= scaler.transform(test['tax'].to_numpy().reshape(-1, 1))\n",
    "X['mileage'] = scaler.fit_transform(X['mileage'].to_numpy().reshape(-1, 1))\n",
    "test['mileage']= scaler.transform(test['mileage'].to_numpy().reshape(-1, 1))\n",
    "X['mpg'] = scaler.fit_transform(X['mpg'].to_numpy().reshape(-1, 1))\n",
    "test['mpg']= scaler.transform(test['mpg'].to_numpy().reshape(-1, 1))"
   ]
  },
  {
   "cell_type": "code",
   "execution_count": 6,
   "id": "d8c9d4d0",
   "metadata": {
    "execution": {
     "iopub.execute_input": "2021-09-18T19:19:26.876559Z",
     "iopub.status.busy": "2021-09-18T19:19:26.875500Z",
     "iopub.status.idle": "2021-09-18T19:19:26.900229Z",
     "shell.execute_reply": "2021-09-18T19:19:26.900806Z",
     "shell.execute_reply.started": "2021-09-18T18:43:01.979249Z"
    },
    "papermill": {
     "duration": 0.04045,
     "end_time": "2021-09-18T19:19:26.900993",
     "exception": false,
     "start_time": "2021-09-18T19:19:26.860543",
     "status": "completed"
    },
    "tags": []
   },
   "outputs": [],
   "source": [
    "X = torch.FloatTensor(X.to_numpy())\n",
    "y = torch.FloatTensor(y.to_numpy())\n",
    "test = torch.FloatTensor(test.to_numpy())"
   ]
  },
  {
   "cell_type": "code",
   "execution_count": 7,
   "id": "b19a33ae",
   "metadata": {
    "execution": {
     "iopub.execute_input": "2021-09-18T19:19:26.926478Z",
     "iopub.status.busy": "2021-09-18T19:19:26.925863Z",
     "iopub.status.idle": "2021-09-18T19:47:58.459295Z",
     "shell.execute_reply": "2021-09-18T19:47:58.459851Z",
     "shell.execute_reply.started": "2021-09-18T17:59:06.817686Z"
    },
    "papermill": {
     "duration": 1711.548315,
     "end_time": "2021-09-18T19:47:58.460271",
     "exception": false,
     "start_time": "2021-09-18T19:19:26.911956",
     "status": "completed"
    },
    "tags": []
   },
   "outputs": [
    {
     "name": "stdout",
     "output_type": "stream",
     "text": [
      "Epoch    0/600 hypothesis: tensor([0., 0., 0.,  ..., 0., 0., 0.]) Cost: 19575.600323\n",
      "Epoch   10/600 hypothesis: tensor([14899.7637,  7933.2178, 17018.3730,  ..., 18564.7949, 11022.8574,\n",
      "        12466.3184]) Cost: 11436.231897\n",
      "Epoch   20/600 hypothesis: tensor([17493.0410,  9388.5215, 19506.4453,  ..., 20801.8164, 12623.6484,\n",
      "        14435.5010]) Cost: 10991.943231\n",
      "Epoch   30/600 hypothesis: tensor([18136.1172,  9817.4727, 19790.5020,  ..., 20660.4688, 12810.6016,\n",
      "        14790.9707]) Cost: 10857.041218\n",
      "Epoch   40/600 hypothesis: tensor([18425.7188, 10060.3564, 19751.0977,  ..., 20249.2402, 12802.2598,\n",
      "        14892.2236]) Cost: 10768.503703\n",
      "Epoch   50/600 hypothesis: tensor([18617.0430, 10251.2881, 19673.0312,  ..., 19871.6621, 12780.5732,\n",
      "        14948.5078]) Cost: 10706.472061\n",
      "Epoch   60/600 hypothesis: tensor([18758.0391, 10415.3301, 19597.7461,  ..., 19559.1602, 12769.9307,\n",
      "        14992.9922]) Cost: 10661.604757\n",
      "Epoch   70/600 hypothesis: tensor([18863.1738, 10559.9551, 19529.9082,  ..., 19304.5762, 12771.3271,\n",
      "        15031.6885]) Cost: 10627.911554\n",
      "Epoch   80/600 hypothesis: tensor([18940.3770, 10689.2266, 19468.8984,  ..., 19097.2441, 12782.7285,\n",
      "        15066.2754]) Cost: 10601.518759\n",
      "Epoch   90/600 hypothesis: tensor([18995.4277, 10806.1025, 19413.5469,  ..., 18927.8789, 12802.0801,\n",
      "        15097.6172]) Cost: 10579.925142\n",
      "Epoch  100/600 hypothesis: tensor([19032.8613, 10912.9043, 19362.8242,  ..., 18788.9434, 12827.6699,\n",
      "        15126.3281]) Cost: 10561.521103\n",
      "Epoch  110/600 hypothesis: tensor([19056.2930, 11011.4863, 19315.8867,  ..., 18674.3906, 12858.1260,\n",
      "        15152.8936]) Cost: 10545.269271\n",
      "Epoch  120/600 hypothesis: tensor([19068.6113, 11103.3291, 19272.0625,  ..., 18579.3789, 12892.3496,\n",
      "        15177.7012]) Cost: 10530.503502\n",
      "Epoch  130/600 hypothesis: tensor([19072.1230, 11189.6211, 19230.8008,  ..., 18500.0371, 12929.4600,\n",
      "        15201.0576]) Cost: 10516.792667\n",
      "Epoch  140/600 hypothesis: tensor([19068.6680, 11271.3125, 19191.6699,  ..., 18433.2656, 12968.7559,\n",
      "        15223.2070]) Cost: 10503.859100\n",
      "Epoch  150/600 hypothesis: tensor([19059.7285, 11349.1680, 19154.3223,  ..., 18376.5977, 13009.6826,\n",
      "        15244.3525]) Cost: 10491.521148\n",
      "Epoch  160/600 hypothesis: tensor([19046.4727, 11423.7988, 19118.4727,  ..., 18328.0391, 13051.7900,\n",
      "        15264.6494]) Cost: 10479.662590\n",
      "Epoch  170/600 hypothesis: tensor([19029.8477, 11495.6973, 19083.8984,  ..., 18286.0117, 13094.7266,\n",
      "        15284.2275]) Cost: 10468.204431\n",
      "Epoch  180/600 hypothesis: tensor([19010.6055, 11565.2578, 19050.4258,  ..., 18249.2480, 13138.2109,\n",
      "        15303.1904]) Cost: 10457.095199\n",
      "Epoch  190/600 hypothesis: tensor([18989.3438, 11632.7988, 19017.8984,  ..., 18216.7324, 13182.0156,\n",
      "        15321.6191]) Cost: 10446.300781\n",
      "Epoch  200/600 hypothesis: tensor([18966.5391, 11698.5742, 18986.2031,  ..., 18187.6484, 13225.9648,\n",
      "        15339.5781]) Cost: 10435.794172\n",
      "Epoch  210/600 hypothesis: tensor([18942.5781, 11762.7949, 18955.2461,  ..., 18161.3535, 13269.9180,\n",
      "        15357.1250]) Cost: 10425.558594\n",
      "Epoch  220/600 hypothesis: tensor([18917.7637, 11825.6230, 18924.9492,  ..., 18137.3242, 13313.7617,\n",
      "        15374.3027]) Cost: 10415.580637\n",
      "Epoch  230/600 hypothesis: tensor([18892.3359, 11887.1973, 18895.2500,  ..., 18115.1426, 13357.4102,\n",
      "        15391.1426]) Cost: 10405.849509\n",
      "Epoch  240/600 hypothesis: tensor([18866.4922, 11947.6270, 18866.1016,  ..., 18094.4766, 13400.7939,\n",
      "        15407.6797]) Cost: 10396.357054\n",
      "Epoch  250/600 hypothesis: tensor([18840.3828, 12007.0020, 18837.4570,  ..., 18075.0605, 13443.8594,\n",
      "        15423.9316]) Cost: 10387.095841\n",
      "Epoch  260/600 hypothesis: tensor([18814.1309, 12065.3945, 18809.2852,  ..., 18056.6777, 13486.5674,\n",
      "        15439.9209]) Cost: 10378.059549\n",
      "Epoch  270/600 hypothesis: tensor([18787.8340, 12122.8672, 18781.5586,  ..., 18039.1582, 13528.8838,\n",
      "        15455.6631]) Cost: 10369.240667\n",
      "Epoch  280/600 hypothesis: tensor([18761.5684, 12179.4688, 18754.2539,  ..., 18022.3652, 13570.7842,\n",
      "        15471.1699]) Cost: 10360.634344\n",
      "Epoch  290/600 hypothesis: tensor([18735.3945, 12235.2422, 18727.3516,  ..., 18006.1836, 13612.2520,\n",
      "        15486.4541]) Cost: 10352.237246\n",
      "Epoch  300/600 hypothesis: tensor([18709.3555, 12290.2217, 18700.8340,  ..., 17990.5312, 13653.2734,\n",
      "        15501.5234]) Cost: 10344.041377\n",
      "Epoch  310/600 hypothesis: tensor([18683.4961, 12344.4375, 18674.6895,  ..., 17975.3301, 13693.8379,\n",
      "        15516.3867]) Cost: 10336.044118\n",
      "Epoch  320/600 hypothesis: tensor([18657.8379, 12397.9141, 18648.9023,  ..., 17960.5273, 13733.9414,\n",
      "        15531.0488]) Cost: 10328.238959\n",
      "Epoch  330/600 hypothesis: tensor([18632.4082, 12450.6729, 18623.4648,  ..., 17946.0703, 13773.5781,\n",
      "        15545.5176]) Cost: 10320.622074\n",
      "Epoch  340/600 hypothesis: tensor([18607.2227, 12502.7344, 18598.3711,  ..., 17931.9297, 13812.7490,\n",
      "        15559.7969]) Cost: 10313.190001\n",
      "Epoch  350/600 hypothesis: tensor([18582.2910, 12554.1152, 18573.6074,  ..., 17918.0703, 13851.4512,\n",
      "        15573.8916]) Cost: 10305.937318\n",
      "Epoch  360/600 hypothesis: tensor([18557.6250, 12604.8301, 18549.1680,  ..., 17904.4688, 13889.6865,\n",
      "        15587.8057]) Cost: 10298.859743\n",
      "Epoch  370/600 hypothesis: tensor([18533.2324, 12654.8916, 18525.0508,  ..., 17891.1016, 13927.4570,\n",
      "        15601.5420]) Cost: 10291.953362\n",
      "Epoch  380/600 hypothesis: tensor([18509.1172, 12704.3135, 18501.2441,  ..., 17877.9570, 13964.7656,\n",
      "        15615.1055]) Cost: 10285.214631\n",
      "Epoch  390/600 hypothesis: tensor([18485.2832, 12753.1055, 18477.7461,  ..., 17865.0176, 14001.6152,\n",
      "        15628.4980]) Cost: 10278.639210\n",
      "Epoch  400/600 hypothesis: tensor([18461.7305, 12801.2812, 18454.5508,  ..., 17852.2773, 14038.0098,\n",
      "        15641.7236]) Cost: 10272.222739\n",
      "Epoch  410/600 hypothesis: tensor([18438.4609, 12848.8467, 18431.6543,  ..., 17839.7188, 14073.9531,\n",
      "        15654.7832]) Cost: 10265.961621\n",
      "Epoch  420/600 hypothesis: tensor([18415.4746, 12895.8135, 18409.0508,  ..., 17827.3418, 14109.4512,\n",
      "        15667.6807]) Cost: 10259.852631\n",
      "Epoch  430/600 hypothesis: tensor([18392.7695, 12942.1895, 18386.7363,  ..., 17815.1348, 14144.5059,\n",
      "        15680.4170]) Cost: 10253.892139\n",
      "Epoch  440/600 hypothesis: tensor([18370.3418, 12987.9834, 18364.7070,  ..., 17803.0938, 14179.1230,\n",
      "        15692.9941]) Cost: 10248.076502\n",
      "Epoch  450/600 hypothesis: tensor([18348.1953, 13033.2041, 18342.9570,  ..., 17791.2129, 14213.3086,\n",
      "        15705.4180]) Cost: 10242.402453\n",
      "Epoch  460/600 hypothesis: tensor([18326.3242, 13077.8584, 18321.4863,  ..., 17779.4883, 14247.0664,\n",
      "        15717.6865]) Cost: 10236.865536\n",
      "Epoch  470/600 hypothesis: tensor([18304.7266, 13121.9551, 18300.2891,  ..., 17767.9180, 14280.4023,\n",
      "        15729.8037]) Cost: 10231.464020\n",
      "Epoch  480/600 hypothesis: tensor([18283.3984, 13165.5000, 18279.3594,  ..., 17756.4980, 14313.3193,\n",
      "        15741.7705]) Cost: 10226.193427\n",
      "Epoch  490/600 hypothesis: tensor([18262.3418, 13208.5020, 18258.6973,  ..., 17745.2227, 14345.8242,\n",
      "        15753.5908]) Cost: 10221.051609\n",
      "Epoch  500/600 hypothesis: tensor([18241.5508, 13250.9668, 18238.2969,  ..., 17734.0938, 14377.9229,\n",
      "        15765.2656]) Cost: 10216.034847\n",
      "Epoch  510/600 hypothesis: tensor([18221.0234, 13292.9043, 18218.1582,  ..., 17723.1055, 14409.6182,\n",
      "        15776.7969]) Cost: 10211.140191\n",
      "Epoch  520/600 hypothesis: tensor([18200.7539, 13334.3164, 18198.2734,  ..., 17712.2539, 14440.9141,\n",
      "        15788.1846]) Cost: 10206.365857\n",
      "Epoch  530/600 hypothesis: tensor([18180.7402, 13375.2139, 18178.6426,  ..., 17701.5391, 14471.8184,\n",
      "        15799.4326]) Cost: 10201.706916\n",
      "Epoch  540/600 hypothesis: tensor([18160.9805, 13415.6016, 18159.2617,  ..., 17690.9590, 14502.3340,\n",
      "        15810.5420]) Cost: 10197.161566\n",
      "Epoch  550/600 hypothesis: tensor([18141.4727, 13455.4854, 18140.1250,  ..., 17680.5117, 14532.4648,\n",
      "        15821.5146]) Cost: 10192.727996\n",
      "Epoch  560/600 hypothesis: tensor([18122.2148, 13494.8730, 18121.2344,  ..., 17670.1953, 14562.2188,\n",
      "        15832.3535]) Cost: 10188.402034\n",
      "Epoch  570/600 hypothesis: tensor([18103.1992, 13533.7705, 18102.5820,  ..., 17660.0078, 14591.5986,\n",
      "        15843.0576]) Cost: 10184.181852\n",
      "Epoch  580/600 hypothesis: tensor([18084.4258, 13572.1826, 18084.1660,  ..., 17649.9453, 14620.6084,\n",
      "        15853.6309]) Cost: 10180.065619\n",
      "Epoch  590/600 hypothesis: tensor([18065.8906, 13610.1182, 18065.9844,  ..., 17640.0117, 14649.2539,\n",
      "        15864.0742]) Cost: 10176.049135\n",
      "Epoch  600/600 hypothesis: tensor([18047.5938, 13647.5820, 18048.0352,  ..., 17630.2012, 14677.5410,\n",
      "        15874.3906]) Cost: 10172.130947\n"
     ]
    }
   ],
   "source": [
    "W = torch.zeros((5, 1), requires_grad=True)\n",
    "b = torch.zeros(1, requires_grad=True)\n",
    "\n",
    "optimizer = optim.SGD([W, b], lr=1e-2)\n",
    "nb_epochs = 600\n",
    "for epoch in range(nb_epochs + 1):\n",
    "    \n",
    "    hypothesis = X.matmul(W) + b \n",
    "    # cost 계산\n",
    "    cost = torch.mean((hypothesis - y) ** 2)\n",
    "\n",
    "    # cost로 H(x) 개선\n",
    "    optimizer.zero_grad()\n",
    "    cost.backward()\n",
    "    optimizer.step()\n",
    "    if(epoch%10==0):\n",
    "        print('Epoch {:4d}/{} hypothesis: {} Cost: {:.6f}'.format(\n",
    "            epoch, nb_epochs, hypothesis.squeeze().detach(), math.sqrt(cost.item())\n",
    "        ))\n",
    "        "
   ]
  },
  {
   "cell_type": "code",
   "execution_count": 8,
   "id": "e46afd6f",
   "metadata": {
    "execution": {
     "iopub.execute_input": "2021-09-18T19:47:58.514729Z",
     "iopub.status.busy": "2021-09-18T19:47:58.514014Z",
     "iopub.status.idle": "2021-09-18T19:47:58.518054Z",
     "shell.execute_reply": "2021-09-18T19:47:58.517505Z",
     "shell.execute_reply.started": "2021-09-18T17:57:16.828578Z"
    },
    "papermill": {
     "duration": 0.036044,
     "end_time": "2021-09-18T19:47:58.518208",
     "exception": false,
     "start_time": "2021-09-18T19:47:58.482164",
     "status": "completed"
    },
    "tags": []
   },
   "outputs": [],
   "source": [
    "predict = test.matmul(W) + b \n",
    "predict = predict.detach().numpy()"
   ]
  },
  {
   "cell_type": "code",
   "execution_count": 9,
   "id": "3dce78e2",
   "metadata": {
    "execution": {
     "iopub.execute_input": "2021-09-18T19:47:58.574179Z",
     "iopub.status.busy": "2021-09-18T19:47:58.570777Z",
     "iopub.status.idle": "2021-09-18T19:47:58.591065Z",
     "shell.execute_reply": "2021-09-18T19:47:58.590569Z",
     "shell.execute_reply.started": "2021-09-18T17:57:17.421256Z"
    },
    "papermill": {
     "duration": 0.050522,
     "end_time": "2021-09-18T19:47:58.591208",
     "exception": false,
     "start_time": "2021-09-18T19:47:58.540686",
     "status": "completed"
    },
    "tags": []
   },
   "outputs": [
    {
     "data": {
      "text/html": [
       "<div>\n",
       "<style scoped>\n",
       "    .dataframe tbody tr th:only-of-type {\n",
       "        vertical-align: middle;\n",
       "    }\n",
       "\n",
       "    .dataframe tbody tr th {\n",
       "        vertical-align: top;\n",
       "    }\n",
       "\n",
       "    .dataframe thead th {\n",
       "        text-align: right;\n",
       "    }\n",
       "</style>\n",
       "<table border=\"1\" class=\"dataframe\">\n",
       "  <thead>\n",
       "    <tr style=\"text-align: right;\">\n",
       "      <th></th>\n",
       "      <th>ID</th>\n",
       "      <th>price</th>\n",
       "    </tr>\n",
       "  </thead>\n",
       "  <tbody>\n",
       "    <tr>\n",
       "      <th>0</th>\n",
       "      <td>0</td>\n",
       "      <td>15175.324219</td>\n",
       "    </tr>\n",
       "    <tr>\n",
       "      <th>1</th>\n",
       "      <td>1</td>\n",
       "      <td>17519.197266</td>\n",
       "    </tr>\n",
       "    <tr>\n",
       "      <th>2</th>\n",
       "      <td>2</td>\n",
       "      <td>18352.109375</td>\n",
       "    </tr>\n",
       "    <tr>\n",
       "      <th>3</th>\n",
       "      <td>3</td>\n",
       "      <td>13778.089844</td>\n",
       "    </tr>\n",
       "    <tr>\n",
       "      <th>4</th>\n",
       "      <td>4</td>\n",
       "      <td>15824.626953</td>\n",
       "    </tr>\n",
       "  </tbody>\n",
       "</table>\n",
       "</div>"
      ],
      "text/plain": [
       "   ID         price\n",
       "0   0  15175.324219\n",
       "1   1  17519.197266\n",
       "2   2  18352.109375\n",
       "3   3  13778.089844\n",
       "4   4  15824.626953"
      ]
     },
     "execution_count": 9,
     "metadata": {},
     "output_type": "execute_result"
    }
   ],
   "source": [
    "sample['price'] = predict\n",
    "sample.head()"
   ]
  },
  {
   "cell_type": "code",
   "execution_count": 10,
   "id": "dc2d4e83",
   "metadata": {
    "execution": {
     "iopub.execute_input": "2021-09-18T19:47:58.640488Z",
     "iopub.status.busy": "2021-09-18T19:47:58.639620Z",
     "iopub.status.idle": "2021-09-18T19:47:58.682788Z",
     "shell.execute_reply": "2021-09-18T19:47:58.682274Z"
    },
    "papermill": {
     "duration": 0.068765,
     "end_time": "2021-09-18T19:47:58.682935",
     "exception": false,
     "start_time": "2021-09-18T19:47:58.614170",
     "status": "completed"
    },
    "tags": []
   },
   "outputs": [],
   "source": [
    "sample.to_csv('submit.csv', index = False)"
   ]
  }
 ],
 "metadata": {
  "kernelspec": {
   "display_name": "Python 3",
   "language": "python",
   "name": "python3"
  },
  "language_info": {
   "codemirror_mode": {
    "name": "ipython",
    "version": 3
   },
   "file_extension": ".py",
   "mimetype": "text/x-python",
   "name": "python",
   "nbconvert_exporter": "python",
   "pygments_lexer": "ipython3",
   "version": "3.7.10"
  },
  "papermill": {
   "default_parameters": {},
   "duration": 1722.321055,
   "end_time": "2021-09-18T19:48:00.205277",
   "environment_variables": {},
   "exception": null,
   "input_path": "__notebook__.ipynb",
   "output_path": "__notebook__.ipynb",
   "parameters": {},
   "start_time": "2021-09-18T19:19:17.884222",
   "version": "2.3.3"
  }
 },
 "nbformat": 4,
 "nbformat_minor": 5
}

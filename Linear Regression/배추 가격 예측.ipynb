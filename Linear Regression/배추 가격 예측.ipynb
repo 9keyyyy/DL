{
 "cells": [
  {
   "cell_type": "code",
   "execution_count": 1,
   "id": "db6845ed",
   "metadata": {
    "_cell_guid": "b1076dfc-b9ad-4769-8c92-a6c4dae69d19",
    "_uuid": "8f2839f25d086af736a60e9eeb907d3b93b6e0e5",
    "execution": {
     "iopub.execute_input": "2021-09-18T16:19:22.525682Z",
     "iopub.status.busy": "2021-09-18T16:19:22.520910Z",
     "iopub.status.idle": "2021-09-18T16:19:22.532195Z",
     "shell.execute_reply": "2021-09-18T16:19:22.531602Z",
     "shell.execute_reply.started": "2021-09-18T16:00:50.917830Z"
    },
    "papermill": {
     "duration": 0.028533,
     "end_time": "2021-09-18T16:19:22.532342",
     "exception": false,
     "start_time": "2021-09-18T16:19:22.503809",
     "status": "completed"
    },
    "tags": []
   },
   "outputs": [
    {
     "name": "stdout",
     "output_type": "stream",
     "text": [
      "/kaggle/input/2021-ai-w3-p1/train.csv\n",
      "/kaggle/input/2021-ai-w3-p1/test.csv\n",
      "/kaggle/input/2021-ai-w3-p1/submit_sample.csv\n"
     ]
    }
   ],
   "source": [
    "# This Python 3 environment comes with many helpful analytics libraries installed\n",
    "# It is defined by the kaggle/python Docker image: https://github.com/kaggle/docker-python\n",
    "# For example, here's several helpful packages to load\n",
    "\n",
    "import numpy as np # linear algebra\n",
    "import pandas as pd # data processing, CSV file I/O (e.g. pd.read_csv)\n",
    "import math\n",
    "# Input data files are available in the read-only \"../input/\" directory\n",
    "# For example, running this (by clicking run or pressing Shift+Enter) will list all files under the input directory\n",
    "\n",
    "import os\n",
    "for dirname, _, filenames in os.walk('/kaggle/input'):\n",
    "    for filename in filenames:\n",
    "        print(os.path.join(dirname, filename))\n",
    "\n",
    "# You can write up to 20GB to the current directory (/kaggle/working/) that gets preserved as output when you create a version using \"Save & Run All\" \n",
    "# You can also write temporary files to /kaggle/temp/, but they won't be saved outside of the current session"
   ]
  },
  {
   "cell_type": "code",
   "execution_count": 2,
   "id": "54eab1be",
   "metadata": {
    "execution": {
     "iopub.execute_input": "2021-09-18T16:19:22.560618Z",
     "iopub.status.busy": "2021-09-18T16:19:22.559906Z",
     "iopub.status.idle": "2021-09-18T16:19:23.546875Z",
     "shell.execute_reply": "2021-09-18T16:19:23.546116Z",
     "shell.execute_reply.started": "2021-09-18T15:43:48.225419Z"
    },
    "papermill": {
     "duration": 1.002662,
     "end_time": "2021-09-18T16:19:23.547020",
     "exception": false,
     "start_time": "2021-09-18T16:19:22.544358",
     "status": "completed"
    },
    "tags": []
   },
   "outputs": [
    {
     "data": {
      "text/plain": [
       "<torch._C.Generator at 0x7f39584e22f0>"
      ]
     },
     "execution_count": 2,
     "metadata": {},
     "output_type": "execute_result"
    }
   ],
   "source": [
    "import torch\n",
    "import torch.optim as optim\n",
    "\n",
    "torch.manual_seed(1)"
   ]
  },
  {
   "cell_type": "code",
   "execution_count": 3,
   "id": "28169bea",
   "metadata": {
    "execution": {
     "iopub.execute_input": "2021-09-18T16:19:23.578436Z",
     "iopub.status.busy": "2021-09-18T16:19:23.577775Z",
     "iopub.status.idle": "2021-09-18T16:19:23.611989Z",
     "shell.execute_reply": "2021-09-18T16:19:23.612465Z",
     "shell.execute_reply.started": "2021-09-18T15:43:48.577391Z"
    },
    "papermill": {
     "duration": 0.050803,
     "end_time": "2021-09-18T16:19:23.612659",
     "exception": false,
     "start_time": "2021-09-18T16:19:23.561856",
     "status": "completed"
    },
    "tags": []
   },
   "outputs": [],
   "source": [
    "X = pd.read_csv('/kaggle/input/2021-ai-w3-p1/train.csv')\n",
    "y = X['avgPrice']\n",
    "\n",
    "X = X.drop(['year', 'avgPrice'], axis=1)\n",
    "test = pd.read_csv('/kaggle/input/2021-ai-w3-p1/test.csv').drop('year', axis=1)\n",
    "\n",
    "sample = pd.read_csv('/kaggle/input/2021-ai-w3-p1/submit_sample.csv')"
   ]
  },
  {
   "cell_type": "code",
   "execution_count": 4,
   "id": "878b3bcd",
   "metadata": {
    "execution": {
     "iopub.execute_input": "2021-09-18T16:19:23.647469Z",
     "iopub.status.busy": "2021-09-18T16:19:23.646844Z",
     "iopub.status.idle": "2021-09-18T16:19:23.663188Z",
     "shell.execute_reply": "2021-09-18T16:19:23.662748Z",
     "shell.execute_reply.started": "2021-09-18T15:43:52.877867Z"
    },
    "papermill": {
     "duration": 0.038623,
     "end_time": "2021-09-18T16:19:23.663292",
     "exception": false,
     "start_time": "2021-09-18T16:19:23.624669",
     "status": "completed"
    },
    "tags": []
   },
   "outputs": [],
   "source": [
    "X.shape\n",
    "X = X.to_numpy()\n",
    "y = y.to_numpy()\n",
    "X = torch.FloatTensor(X)\n",
    "y = torch.FloatTensor(y)\n"
   ]
  },
  {
   "cell_type": "code",
   "execution_count": 5,
   "id": "fa2ca461",
   "metadata": {
    "execution": {
     "iopub.execute_input": "2021-09-18T16:19:23.685391Z",
     "iopub.status.busy": "2021-09-18T16:19:23.684897Z",
     "iopub.status.idle": "2021-09-18T16:24:51.170990Z",
     "shell.execute_reply": "2021-09-18T16:24:51.171359Z",
     "shell.execute_reply.started": "2021-09-18T16:04:00.507154Z"
    },
    "papermill": {
     "duration": 327.499758,
     "end_time": "2021-09-18T16:24:51.171489",
     "exception": false,
     "start_time": "2021-09-18T16:19:23.671731",
     "status": "completed"
    },
    "tags": []
   },
   "outputs": [
    {
     "name": "stdout",
     "output_type": "stream",
     "text": [
      "Epoch    0/20000 hypothesis: tensor([0., 0., 0.,  ..., 0., 0., 0.]) Cost: 3466.026976\n",
      "Epoch 1000/20000 hypothesis: tensor([2875.8694, 3051.3652, 2155.8613,  ..., 1819.8983, 2919.4111,\n",
      "        2654.1741]) Cost: 1504.038896\n",
      "Epoch 2000/20000 hypothesis: tensor([2894.6680, 3245.2393, 2271.0034,  ..., 1968.0642, 2951.7173,\n",
      "        2725.5059]) Cost: 1471.813252\n",
      "Epoch 3000/20000 hypothesis: tensor([2914.0808, 3384.7041, 2372.2759,  ..., 2099.1208, 2979.8123,\n",
      "        2786.2483]) Cost: 1446.476581\n",
      "Epoch 4000/20000 hypothesis: tensor([2933.5630, 3482.0552, 2461.5410,  ..., 2215.2466, 3004.3127,\n",
      "        2838.1445]) Cost: 1426.459297\n",
      "Epoch 5000/20000 hypothesis: tensor([2952.7183, 3547.0139, 2540.3809,  ..., 2318.3091, 3025.7351,\n",
      "        2882.6277]) Cost: 1410.572845\n",
      "Epoch 6000/20000 hypothesis: tensor([2971.2666, 3587.2493, 2610.1438,  ..., 2409.9160, 3044.5137,\n",
      "        2920.8809]) Cost: 1397.913669\n",
      "Epoch 7000/20000 hypothesis: tensor([2989.0161, 3608.7944, 2671.9805,  ..., 2491.4507, 3061.0132,\n",
      "        2953.8799]) Cost: 1387.790735\n",
      "Epoch 8000/20000 hypothesis: tensor([3005.8440, 3616.3848, 2726.8799,  ..., 2564.1121, 3075.5425,\n",
      "        2982.4351]) Cost: 1379.671700\n",
      "Epoch 9000/20000 hypothesis: tensor([3021.6787, 3613.7175, 2775.6909,  ..., 2628.9392, 3088.3640,\n",
      "        3007.2183]) Cost: 1373.143428\n",
      "Epoch 10000/20000 hypothesis: tensor([3036.4868, 3603.6707, 2819.1475,  ..., 2686.8372, 3099.6997,\n",
      "        3028.7891]) Cost: 1367.883036\n",
      "Epoch 11000/20000 hypothesis: tensor([3050.2656, 3588.4729, 2857.8843,  ..., 2738.5952, 3109.7400,\n",
      "        3047.6160]) Cost: 1363.637232\n",
      "Epoch 12000/20000 hypothesis: tensor([3063.0322, 3569.8374, 2892.4531,  ..., 2784.9045, 3118.6479,\n",
      "        3064.0908]) Cost: 1360.205453\n",
      "Epoch 13000/20000 hypothesis: tensor([3074.8186, 3549.0703, 2923.3333,  ..., 2826.3704, 3126.5630,\n",
      "        3078.5430]) Cost: 1357.428543\n",
      "Epoch 14000/20000 hypothesis: tensor([3085.6667, 3527.1621, 2950.9438,  ..., 2863.5254, 3133.6055,\n",
      "        3091.2505]) Cost: 1355.179462\n",
      "Epoch 15000/20000 hypothesis: tensor([3095.6240, 3504.8496, 2975.6509,  ..., 2896.8376, 3139.8789,\n",
      "        3102.4468]) Cost: 1353.356614\n",
      "Epoch 16000/20000 hypothesis: tensor([3104.7451, 3482.6770, 2997.7778,  ..., 2926.7236, 3145.4751,\n",
      "        3112.3335]) Cost: 1351.878230\n",
      "Epoch 17000/20000 hypothesis: tensor([3113.0845, 3461.0356, 3017.6084,  ..., 2953.5491, 3150.4729,\n",
      "        3121.0806]) Cost: 1350.678718\n",
      "Epoch 18000/20000 hypothesis: tensor([3120.6938, 3440.1951, 3035.3894,  ..., 2977.6367, 3154.9382,\n",
      "        3128.8308]) Cost: 1349.705292\n",
      "Epoch 19000/20000 hypothesis: tensor([3127.6287, 3420.3396, 3051.3430,  ..., 2999.2764, 3158.9331,\n",
      "        3135.7104]) Cost: 1348.914842\n",
      "Epoch 20000/20000 hypothesis: tensor([3133.9407, 3401.5815, 3065.6641,  ..., 3018.7234, 3162.5098,\n",
      "        3141.8259]) Cost: 1348.273155\n"
     ]
    }
   ],
   "source": [
    "W = torch.zeros((4, 1), requires_grad=True)\n",
    "b = torch.zeros(1, requires_grad=True)\n",
    "\n",
    "optimizer = optim.SGD([W, b], lr=1e-3)\n",
    "nb_epochs = 20000\n",
    "for epoch in range(nb_epochs + 1):\n",
    "    \n",
    "    hypothesis = X.matmul(W) + b \n",
    "    # cost 계산\n",
    "    cost = torch.mean((hypothesis - y) ** 2)\n",
    "\n",
    "    # cost로 H(x) 개선\n",
    "    optimizer.zero_grad()\n",
    "    cost.backward()\n",
    "    optimizer.step()\n",
    "    if(epoch%1000==0):\n",
    "        print('Epoch {:4d}/{} hypothesis: {} Cost: {:.6f}'.format(\n",
    "            epoch, nb_epochs, hypothesis.squeeze().detach(), math.sqrt(cost.item())\n",
    "        ))\n",
    "        "
   ]
  },
  {
   "cell_type": "code",
   "execution_count": 6,
   "id": "9cef4b46",
   "metadata": {
    "execution": {
     "iopub.execute_input": "2021-09-18T16:24:51.202646Z",
     "iopub.status.busy": "2021-09-18T16:24:51.202073Z",
     "iopub.status.idle": "2021-09-18T16:24:51.204742Z",
     "shell.execute_reply": "2021-09-18T16:24:51.205099Z",
     "shell.execute_reply.started": "2021-09-18T16:08:54.317073Z"
    },
    "papermill": {
     "duration": 0.02081,
     "end_time": "2021-09-18T16:24:51.205229",
     "exception": false,
     "start_time": "2021-09-18T16:24:51.184419",
     "status": "completed"
    },
    "tags": []
   },
   "outputs": [],
   "source": [
    "test = test.to_numpy()\n",
    "test = torch.FloatTensor(test)\n",
    "\n",
    "predict = test.matmul(W) + b "
   ]
  },
  {
   "cell_type": "code",
   "execution_count": 7,
   "id": "852fe4f1",
   "metadata": {
    "execution": {
     "iopub.execute_input": "2021-09-18T16:24:51.235350Z",
     "iopub.status.busy": "2021-09-18T16:24:51.234853Z",
     "iopub.status.idle": "2021-09-18T16:24:51.237858Z",
     "shell.execute_reply": "2021-09-18T16:24:51.237452Z",
     "shell.execute_reply.started": "2021-09-18T16:08:54.643348Z"
    },
    "papermill": {
     "duration": 0.019355,
     "end_time": "2021-09-18T16:24:51.237953",
     "exception": false,
     "start_time": "2021-09-18T16:24:51.218598",
     "status": "completed"
    },
    "tags": []
   },
   "outputs": [],
   "source": [
    "predict = predict.detach().numpy()"
   ]
  },
  {
   "cell_type": "code",
   "execution_count": 8,
   "id": "0ac5a8ee",
   "metadata": {
    "execution": {
     "iopub.execute_input": "2021-09-18T16:24:51.268393Z",
     "iopub.status.busy": "2021-09-18T16:24:51.267909Z",
     "iopub.status.idle": "2021-09-18T16:24:51.270709Z",
     "shell.execute_reply": "2021-09-18T16:24:51.270248Z",
     "shell.execute_reply.started": "2021-09-18T16:08:55.030576Z"
    },
    "papermill": {
     "duration": 0.019761,
     "end_time": "2021-09-18T16:24:51.270800",
     "exception": false,
     "start_time": "2021-09-18T16:24:51.251039",
     "status": "completed"
    },
    "tags": []
   },
   "outputs": [],
   "source": [
    "sample['Expected'] = predict"
   ]
  },
  {
   "cell_type": "code",
   "execution_count": 9,
   "id": "0769b71b",
   "metadata": {
    "execution": {
     "iopub.execute_input": "2021-09-18T16:24:51.299379Z",
     "iopub.status.busy": "2021-09-18T16:24:51.298956Z",
     "iopub.status.idle": "2021-09-18T16:24:51.304446Z",
     "shell.execute_reply": "2021-09-18T16:24:51.303901Z",
     "shell.execute_reply.started": "2021-09-18T16:16:02.895225Z"
    },
    "papermill": {
     "duration": 0.021305,
     "end_time": "2021-09-18T16:24:51.304575",
     "exception": false,
     "start_time": "2021-09-18T16:24:51.283270",
     "status": "completed"
    },
    "tags": []
   },
   "outputs": [],
   "source": [
    "sample.to_csv('submit.csv', index = False)"
   ]
  },
  {
   "cell_type": "code",
   "execution_count": null,
   "id": "de565ad7",
   "metadata": {
    "papermill": {
     "duration": 0.018982,
     "end_time": "2021-09-18T16:24:51.342973",
     "exception": false,
     "start_time": "2021-09-18T16:24:51.323991",
     "status": "completed"
    },
    "tags": []
   },
   "outputs": [],
   "source": []
  }
 ],
 "metadata": {
  "kernelspec": {
   "display_name": "Python 3",
   "language": "python",
   "name": "python3"
  },
  "language_info": {
   "codemirror_mode": {
    "name": "ipython",
    "version": 3
   },
   "file_extension": ".py",
   "mimetype": "text/x-python",
   "name": "python",
   "nbconvert_exporter": "python",
   "pygments_lexer": "ipython3",
   "version": "3.7.10"
  },
  "papermill": {
   "default_parameters": {},
   "duration": 337.764593,
   "end_time": "2021-09-18T16:24:52.611868",
   "environment_variables": {},
   "exception": null,
   "input_path": "__notebook__.ipynb",
   "output_path": "__notebook__.ipynb",
   "parameters": {},
   "start_time": "2021-09-18T16:19:14.847275",
   "version": "2.3.3"
  }
 },
 "nbformat": 4,
 "nbformat_minor": 5
}

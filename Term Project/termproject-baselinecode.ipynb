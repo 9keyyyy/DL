{
 "cells": [
  {
   "cell_type": "code",
   "execution_count": 1,
   "id": "3a30e7a5",
   "metadata": {
    "_cell_guid": "b1076dfc-b9ad-4769-8c92-a6c4dae69d19",
    "_uuid": "8f2839f25d086af736a60e9eeb907d3b93b6e0e5",
    "execution": {
     "iopub.execute_input": "2021-11-14T12:36:18.797130Z",
     "iopub.status.busy": "2021-11-14T12:36:18.796328Z",
     "iopub.status.idle": "2021-11-14T12:36:20.184213Z",
     "shell.execute_reply": "2021-11-14T12:36:20.184617Z",
     "shell.execute_reply.started": "2021-11-14T12:35:04.026099Z"
    },
    "papermill": {
     "duration": 1.409088,
     "end_time": "2021-11-14T12:36:20.184874",
     "exception": false,
     "start_time": "2021-11-14T12:36:18.775786",
     "status": "completed"
    },
    "tags": []
   },
   "outputs": [
    {
     "name": "stdout",
     "output_type": "stream",
     "text": [
      "/kaggle/input/sejongai19011494/train-1.csv\n",
      "/kaggle/input/sejongai19011494/test-1.csv\n",
      "/kaggle/input/sejongai19011494/submission.csv\n"
     ]
    }
   ],
   "source": [
    "# This Python 3 environment comes with many helpful analytics libraries installed\n",
    "# It is defined by the kaggle/python Docker image: https://github.com/kaggle/docker-python\n",
    "# For example, here's several helpful packages to load\n",
    "\n",
    "import numpy as np # linear algebra\n",
    "import pandas as pd # data processing, CSV file I/O (e.g. pd.read_csv)\n",
    "import torch\n",
    "import torch.optim as optim # torch  선언\n",
    "torch.manual_seed(1)\n",
    "\n",
    "import random\n",
    "random.seed(1)\n",
    "\n",
    "device = 'cuda' if torch.cuda.is_available() else 'cpu'\n",
    "if device == 'cuda':\n",
    "      torch.cuda.manual_seed_all(1)\n",
    "# Input data files are available in the read-only \"../input/\" directory\n",
    "# For example, running this (by clicking run or pressing Shift+Enter) will list all files under the input directory\n",
    "\n",
    "import os\n",
    "for dirname, _, filenames in os.walk('/kaggle/input'):\n",
    "    for filename in filenames:\n",
    "        print(os.path.join(dirname, filename))\n",
    "\n",
    "# You can write up to 20GB to the current directory (/kaggle/working/) that gets preserved as output when you create a version using \"Save & Run All\" \n",
    "# You can also write temporary files to /kaggle/temp/, but they won't be saved outside of the current session"
   ]
  },
  {
   "cell_type": "code",
   "execution_count": 2,
   "id": "cdeb0975",
   "metadata": {
    "execution": {
     "iopub.execute_input": "2021-11-14T12:36:20.206144Z",
     "iopub.status.busy": "2021-11-14T12:36:20.205642Z",
     "iopub.status.idle": "2021-11-14T12:36:20.278870Z",
     "shell.execute_reply": "2021-11-14T12:36:20.278428Z",
     "shell.execute_reply.started": "2021-11-14T12:34:29.768885Z"
    },
    "papermill": {
     "duration": 0.085332,
     "end_time": "2021-11-14T12:36:20.278979",
     "exception": false,
     "start_time": "2021-11-14T12:36:20.193647",
     "status": "completed"
    },
    "tags": []
   },
   "outputs": [
    {
     "data": {
      "text/html": [
       "<div>\n",
       "<style scoped>\n",
       "    .dataframe tbody tr th:only-of-type {\n",
       "        vertical-align: middle;\n",
       "    }\n",
       "\n",
       "    .dataframe tbody tr th {\n",
       "        vertical-align: top;\n",
       "    }\n",
       "\n",
       "    .dataframe thead th {\n",
       "        text-align: right;\n",
       "    }\n",
       "</style>\n",
       "<table border=\"1\" class=\"dataframe\">\n",
       "  <thead>\n",
       "    <tr style=\"text-align: right;\">\n",
       "      <th></th>\n",
       "      <th>기준년월</th>\n",
       "      <th>강수량</th>\n",
       "      <th>평균기온</th>\n",
       "      <th>최고기온</th>\n",
       "      <th>최저기온</th>\n",
       "      <th>제주 대분류</th>\n",
       "      <th>제주 중분류</th>\n",
       "      <th>업종명</th>\n",
       "      <th>성별</th>\n",
       "      <th>연령대별</th>\n",
       "      <th>카드이용건수</th>\n",
       "      <th>건당이용금액</th>\n",
       "    </tr>\n",
       "  </thead>\n",
       "  <tbody>\n",
       "    <tr>\n",
       "      <th>0</th>\n",
       "      <td>2015-10</td>\n",
       "      <td>61.0</td>\n",
       "      <td>18.9</td>\n",
       "      <td>25.5</td>\n",
       "      <td>10.7</td>\n",
       "      <td>서귀포시</td>\n",
       "      <td>예래동</td>\n",
       "      <td>슈퍼 마켓</td>\n",
       "      <td>여</td>\n",
       "      <td>20대</td>\n",
       "      <td>30</td>\n",
       "      <td>10881</td>\n",
       "    </tr>\n",
       "    <tr>\n",
       "      <th>1</th>\n",
       "      <td>2015-09</td>\n",
       "      <td>172.9</td>\n",
       "      <td>23.2</td>\n",
       "      <td>28.6</td>\n",
       "      <td>18.4</td>\n",
       "      <td>제주시</td>\n",
       "      <td>연동</td>\n",
       "      <td>약국</td>\n",
       "      <td>여</td>\n",
       "      <td>30대</td>\n",
       "      <td>239</td>\n",
       "      <td>12597</td>\n",
       "    </tr>\n",
       "    <tr>\n",
       "      <th>2</th>\n",
       "      <td>2015-11</td>\n",
       "      <td>215.5</td>\n",
       "      <td>15.4</td>\n",
       "      <td>22.6</td>\n",
       "      <td>2.1</td>\n",
       "      <td>서귀포시</td>\n",
       "      <td>남원읍</td>\n",
       "      <td>슈퍼 마켓</td>\n",
       "      <td>여</td>\n",
       "      <td>40대</td>\n",
       "      <td>131</td>\n",
       "      <td>21265</td>\n",
       "    </tr>\n",
       "    <tr>\n",
       "      <th>3</th>\n",
       "      <td>2016-04</td>\n",
       "      <td>232.2</td>\n",
       "      <td>15.8</td>\n",
       "      <td>22.7</td>\n",
       "      <td>10.8</td>\n",
       "      <td>서귀포시</td>\n",
       "      <td>예래동</td>\n",
       "      <td>기념품 점</td>\n",
       "      <td>여</td>\n",
       "      <td>40대</td>\n",
       "      <td>29</td>\n",
       "      <td>17000</td>\n",
       "    </tr>\n",
       "    <tr>\n",
       "      <th>4</th>\n",
       "      <td>2016-04</td>\n",
       "      <td>121.4</td>\n",
       "      <td>15.6</td>\n",
       "      <td>24.5</td>\n",
       "      <td>9.8</td>\n",
       "      <td>제주시</td>\n",
       "      <td>연동</td>\n",
       "      <td>슈퍼 마켓</td>\n",
       "      <td>여</td>\n",
       "      <td>50대</td>\n",
       "      <td>369</td>\n",
       "      <td>22050</td>\n",
       "    </tr>\n",
       "  </tbody>\n",
       "</table>\n",
       "</div>"
      ],
      "text/plain": [
       "      기준년월    강수량  평균기온  최고기온  최저기온 제주 대분류 제주 중분류    업종명 성별 연령대별  카드이용건수  \\\n",
       "0  2015-10   61.0  18.9  25.5  10.7   서귀포시    예래동  슈퍼 마켓  여  20대      30   \n",
       "1  2015-09  172.9  23.2  28.6  18.4    제주시     연동     약국  여  30대     239   \n",
       "2  2015-11  215.5  15.4  22.6   2.1   서귀포시    남원읍  슈퍼 마켓  여  40대     131   \n",
       "3  2016-04  232.2  15.8  22.7  10.8   서귀포시    예래동  기념품 점  여  40대      29   \n",
       "4  2016-04  121.4  15.6  24.5   9.8    제주시     연동  슈퍼 마켓  여  50대     369   \n",
       "\n",
       "   건당이용금액  \n",
       "0   10881  \n",
       "1   12597  \n",
       "2   21265  \n",
       "3   17000  \n",
       "4   22050  "
      ]
     },
     "execution_count": 2,
     "metadata": {},
     "output_type": "execute_result"
    }
   ],
   "source": [
    "X = pd.read_csv('/kaggle/input/sejongai19011494/train-1.csv')\n",
    "y = X['건당이용금액']\n",
    "test = pd.read_csv('/kaggle/input/sejongai19011494/test-1.csv')\n",
    "X.head()"
   ]
  },
  {
   "cell_type": "code",
   "execution_count": 3,
   "id": "3ecab7bc",
   "metadata": {
    "execution": {
     "iopub.execute_input": "2021-11-14T12:36:20.407276Z",
     "iopub.status.busy": "2021-11-14T12:36:20.303550Z",
     "iopub.status.idle": "2021-11-14T12:36:20.446580Z",
     "shell.execute_reply": "2021-11-14T12:36:20.446049Z",
     "shell.execute_reply.started": "2021-11-14T12:34:29.822764Z"
    },
    "papermill": {
     "duration": 0.15892,
     "end_time": "2021-11-14T12:36:20.446713",
     "exception": false,
     "start_time": "2021-11-14T12:36:20.287793",
     "status": "completed"
    },
    "tags": []
   },
   "outputs": [],
   "source": [
    "X['연도'] = X['기준년월'].str.split('-').str[0].astype(int)\n",
    "X['월'] = X['기준년월'].str.split('-').str[1].astype(int)\n",
    "X = X.drop([ '기준년월', '건당이용금액'], axis=1)\n",
    "\n",
    "test['연도'] = test['기준년월'].str.split('-').str[0].astype(int)\n",
    "test['월'] = test['기준년월'].str.split('-').str[1].astype(int)\n",
    "test = test.drop(['기준년월'], axis=1)"
   ]
  },
  {
   "cell_type": "code",
   "execution_count": 4,
   "id": "ce02870e",
   "metadata": {
    "execution": {
     "iopub.execute_input": "2021-11-14T12:36:20.471580Z",
     "iopub.status.busy": "2021-11-14T12:36:20.470870Z",
     "iopub.status.idle": "2021-11-14T12:36:21.196557Z",
     "shell.execute_reply": "2021-11-14T12:36:21.198060Z",
     "shell.execute_reply.started": "2021-11-14T12:34:29.979493Z"
    },
    "papermill": {
     "duration": 0.740693,
     "end_time": "2021-11-14T12:36:21.198343",
     "exception": false,
     "start_time": "2021-11-14T12:36:20.457650",
     "status": "completed"
    },
    "tags": []
   },
   "outputs": [],
   "source": [
    "list =['제주 대분류', '제주 중분류', '업종명', '성별', '연령대별']\n",
    "\n",
    "from sklearn import preprocessing\n",
    "le = preprocessing.LabelEncoder()\n",
    "\n",
    "for c in list:\n",
    "    label = pd.concat([X[c], test[c]], axis=0)\n",
    "    le.fit(label)\n",
    "    X[c] = le.transform(X[c])\n",
    "    test[c] = le.transform(test[c])"
   ]
  },
  {
   "cell_type": "code",
   "execution_count": 5,
   "id": "72ab469e",
   "metadata": {
    "execution": {
     "iopub.execute_input": "2021-11-14T12:36:21.248413Z",
     "iopub.status.busy": "2021-11-14T12:36:21.247151Z",
     "iopub.status.idle": "2021-11-14T12:36:21.252216Z",
     "shell.execute_reply": "2021-11-14T12:36:21.252970Z",
     "shell.execute_reply.started": "2021-11-14T12:34:30.013640Z"
    },
    "papermill": {
     "duration": 0.040005,
     "end_time": "2021-11-14T12:36:21.253170",
     "exception": false,
     "start_time": "2021-11-14T12:36:21.213165",
     "status": "completed"
    },
    "tags": []
   },
   "outputs": [],
   "source": [
    "from sklearn.preprocessing import MinMaxScaler, StandardScaler\n",
    "sc = MinMaxScaler()\n",
    "X_sc = sc.fit_transform(X)\n",
    "test_sc = sc.transform(test)"
   ]
  },
  {
   "cell_type": "code",
   "execution_count": 6,
   "id": "1b666baf",
   "metadata": {
    "execution": {
     "iopub.execute_input": "2021-11-14T12:36:21.288368Z",
     "iopub.status.busy": "2021-11-14T12:36:21.286791Z",
     "iopub.status.idle": "2021-11-14T12:36:24.172992Z",
     "shell.execute_reply": "2021-11-14T12:36:24.173512Z",
     "shell.execute_reply.started": "2021-11-14T12:34:30.028480Z"
    },
    "papermill": {
     "duration": 2.906938,
     "end_time": "2021-11-14T12:36:24.173672",
     "exception": false,
     "start_time": "2021-11-14T12:36:21.266734",
     "status": "completed"
    },
    "tags": []
   },
   "outputs": [],
   "source": [
    "X = torch.FloatTensor(X.to_numpy()).to(device)\n",
    "test = torch.FloatTensor(test.to_numpy()).to(device)\n",
    "y = torch.FloatTensor(y.to_numpy()).to(device)\n",
    "\n",
    "X_sc = torch.FloatTensor(X_sc).to(device)\n",
    "test_sc = torch.FloatTensor(test_sc).to(device)"
   ]
  },
  {
   "cell_type": "code",
   "execution_count": 7,
   "id": "5e70f7ee",
   "metadata": {
    "execution": {
     "iopub.execute_input": "2021-11-14T12:36:24.201975Z",
     "iopub.status.busy": "2021-11-14T12:36:24.201420Z",
     "iopub.status.idle": "2021-11-14T12:36:24.222636Z",
     "shell.execute_reply": "2021-11-14T12:36:24.222127Z",
     "shell.execute_reply.started": "2021-11-14T12:34:30.039571Z"
    },
    "papermill": {
     "duration": 0.040241,
     "end_time": "2021-11-14T12:36:24.222749",
     "exception": false,
     "start_time": "2021-11-14T12:36:24.182508",
     "status": "completed"
    },
    "tags": []
   },
   "outputs": [],
   "source": [
    "# DNN 모델 만들기\n",
    "linear1 = torch.nn.Linear(12, 256)\n",
    "linear2 = torch.nn.Linear(256, 128)\n",
    "linear3 = torch.nn.Linear(128, 128)\n",
    "linear4 = torch.nn.Linear(128, 1)\n",
    "relu = torch.nn.ReLU() # relu 사용\n",
    "dropout = torch.nn.Dropout(0.2)\n",
    "\n",
    "# weight 초기화\n",
    "torch.nn.init.xavier_normal_(linear1.weight)\n",
    "torch.nn.init.xavier_normal_(linear2.weight)\n",
    "torch.nn.init.xavier_normal_(linear3.weight)\n",
    "torch.nn.init.xavier_normal_(linear4.weight)\n",
    "\n",
    "model = torch.nn.Sequential(linear1, relu, dropout,\n",
    "                            linear2,  relu, dropout,\n",
    "                            linear3,  relu, dropout,\n",
    "                            linear4).to(device)"
   ]
  },
  {
   "cell_type": "code",
   "execution_count": 8,
   "id": "796e1e57",
   "metadata": {
    "execution": {
     "iopub.execute_input": "2021-11-14T12:36:24.246694Z",
     "iopub.status.busy": "2021-11-14T12:36:24.246008Z",
     "iopub.status.idle": "2021-11-14T12:36:45.319682Z",
     "shell.execute_reply": "2021-11-14T12:36:45.320097Z",
     "shell.execute_reply.started": "2021-11-14T12:34:30.053766Z"
    },
    "papermill": {
     "duration": 21.08886,
     "end_time": "2021-11-14T12:36:45.320277",
     "exception": false,
     "start_time": "2021-11-14T12:36:24.231417",
     "status": "completed"
    },
    "tags": []
   },
   "outputs": [
    {
     "name": "stdout",
     "output_type": "stream",
     "text": [
      "0 35100.23828125\n",
      "1000 17965.34765625\n",
      "2000 14471.115234375\n",
      "3000 9598.62890625\n",
      "4000 9040.890625\n",
      "5000 8580.6455078125\n",
      "6000 8350.7939453125\n",
      "7000 7962.37060546875\n",
      "8000 7775.63037109375\n",
      "9000 7432.36376953125\n"
     ]
    }
   ],
   "source": [
    "# 모델 학습\n",
    "model.train()\n",
    "loss = torch.nn.L1Loss() \n",
    "optimizer = optim.Adam(model.parameters(), lr=1e-2)\n",
    "\n",
    "for epoch in range(10000):\n",
    "    hypothesis = model(X_sc)\n",
    "    cost = loss(hypothesis, y.unsqueeze(1))\n",
    "    optimizer.zero_grad()\n",
    "    cost.backward()\n",
    "    optimizer.step()\n",
    "    if epoch%1000==0:\n",
    "        print(epoch, cost.item())"
   ]
  },
  {
   "cell_type": "code",
   "execution_count": 9,
   "id": "0bfb318c",
   "metadata": {
    "execution": {
     "iopub.execute_input": "2021-11-14T12:36:45.350879Z",
     "iopub.status.busy": "2021-11-14T12:36:45.349845Z",
     "iopub.status.idle": "2021-11-14T12:36:45.352928Z",
     "shell.execute_reply": "2021-11-14T12:36:45.352333Z",
     "shell.execute_reply.started": "2021-11-14T12:34:50.088339Z"
    },
    "papermill": {
     "duration": 0.020233,
     "end_time": "2021-11-14T12:36:45.353049",
     "exception": false,
     "start_time": "2021-11-14T12:36:45.332816",
     "status": "completed"
    },
    "tags": []
   },
   "outputs": [],
   "source": [
    "model.eval()\n",
    "with torch.no_grad():\n",
    "    predict = model(test_sc).cpu()\n",
    "    predict = predict.detach().numpy().squeeze(1)\n"
   ]
  },
  {
   "cell_type": "code",
   "execution_count": 10,
   "id": "71582732",
   "metadata": {
    "execution": {
     "iopub.execute_input": "2021-11-14T12:36:45.381409Z",
     "iopub.status.busy": "2021-11-14T12:36:45.380789Z",
     "iopub.status.idle": "2021-11-14T12:36:45.402231Z",
     "shell.execute_reply": "2021-11-14T12:36:45.402688Z",
     "shell.execute_reply.started": "2021-11-14T12:34:50.095561Z"
    },
    "papermill": {
     "duration": 0.037561,
     "end_time": "2021-11-14T12:36:45.402809",
     "exception": false,
     "start_time": "2021-11-14T12:36:45.365248",
     "status": "completed"
    },
    "tags": []
   },
   "outputs": [
    {
     "data": {
      "text/html": [
       "<div>\n",
       "<style scoped>\n",
       "    .dataframe tbody tr th:only-of-type {\n",
       "        vertical-align: middle;\n",
       "    }\n",
       "\n",
       "    .dataframe tbody tr th {\n",
       "        vertical-align: top;\n",
       "    }\n",
       "\n",
       "    .dataframe thead th {\n",
       "        text-align: right;\n",
       "    }\n",
       "</style>\n",
       "<table border=\"1\" class=\"dataframe\">\n",
       "  <thead>\n",
       "    <tr style=\"text-align: right;\">\n",
       "      <th></th>\n",
       "      <th>Id</th>\n",
       "      <th>Predicted</th>\n",
       "    </tr>\n",
       "  </thead>\n",
       "  <tbody>\n",
       "    <tr>\n",
       "      <th>0</th>\n",
       "      <td>0</td>\n",
       "      <td>14562.234375</td>\n",
       "    </tr>\n",
       "    <tr>\n",
       "      <th>1</th>\n",
       "      <td>1</td>\n",
       "      <td>11846.511719</td>\n",
       "    </tr>\n",
       "    <tr>\n",
       "      <th>2</th>\n",
       "      <td>2</td>\n",
       "      <td>13646.103516</td>\n",
       "    </tr>\n",
       "    <tr>\n",
       "      <th>3</th>\n",
       "      <td>3</td>\n",
       "      <td>37549.078125</td>\n",
       "    </tr>\n",
       "    <tr>\n",
       "      <th>4</th>\n",
       "      <td>4</td>\n",
       "      <td>14229.337891</td>\n",
       "    </tr>\n",
       "  </tbody>\n",
       "</table>\n",
       "</div>"
      ],
      "text/plain": [
       "   Id     Predicted\n",
       "0   0  14562.234375\n",
       "1   1  11846.511719\n",
       "2   2  13646.103516\n",
       "3   3  37549.078125\n",
       "4   4  14229.337891"
      ]
     },
     "execution_count": 10,
     "metadata": {},
     "output_type": "execute_result"
    }
   ],
   "source": [
    "submission = pd.read_csv('/kaggle/input/sejongai19011494/submission.csv')\n",
    "submission['Predicted'] = predict\n",
    "\n",
    "submission.to_csv(\"submission.csv\", index=False)\n",
    "submission.head()"
   ]
  }
 ],
 "metadata": {
  "kernelspec": {
   "display_name": "Python 3",
   "language": "python",
   "name": "python3"
  },
  "language_info": {
   "codemirror_mode": {
    "name": "ipython",
    "version": 3
   },
   "file_extension": ".py",
   "mimetype": "text/x-python",
   "name": "python",
   "nbconvert_exporter": "python",
   "pygments_lexer": "ipython3",
   "version": "3.7.10"
  },
  "papermill": {
   "default_parameters": {},
   "duration": 35.086997,
   "end_time": "2021-11-14T12:36:46.425706",
   "environment_variables": {},
   "exception": null,
   "input_path": "__notebook__.ipynb",
   "output_path": "__notebook__.ipynb",
   "parameters": {},
   "start_time": "2021-11-14T12:36:11.338709",
   "version": "2.3.3"
  }
 },
 "nbformat": 4,
 "nbformat_minor": 5
}

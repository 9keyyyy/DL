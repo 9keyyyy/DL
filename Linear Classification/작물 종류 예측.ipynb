{
 "cells": [
  {
   "cell_type": "code",
   "execution_count": 1,
   "id": "3844dcee",
   "metadata": {
    "_cell_guid": "b1076dfc-b9ad-4769-8c92-a6c4dae69d19",
    "_uuid": "8f2839f25d086af736a60e9eeb907d3b93b6e0e5",
    "execution": {
     "iopub.execute_input": "2021-09-26T18:07:01.846472Z",
     "iopub.status.busy": "2021-09-26T18:07:01.845693Z",
     "iopub.status.idle": "2021-09-26T18:07:03.814196Z",
     "shell.execute_reply": "2021-09-26T18:07:03.808955Z",
     "shell.execute_reply.started": "2021-09-26T16:26:58.330588Z"
    },
    "papermill": {
     "duration": 2.005391,
     "end_time": "2021-09-26T18:07:03.814415",
     "exception": false,
     "start_time": "2021-09-26T18:07:01.809024",
     "status": "completed"
    },
    "tags": []
   },
   "outputs": [
    {
     "name": "stdout",
     "output_type": "stream",
     "text": [
      "/kaggle/input/2021-ai-w4-p2/sample.csv\n",
      "/kaggle/input/2021-ai-w4-p2/train.csv\n",
      "/kaggle/input/2021-ai-w4-p2/test.csv\n"
     ]
    }
   ],
   "source": [
    "# This Python 3 environment comes with many helpful analytics libraries installed\n",
    "# It is defined by the kaggle/python Docker image: https://github.com/kaggle/docker-python\n",
    "# For example, here's several helpful packages to load\n",
    "\n",
    "import numpy as np # linear algebra\n",
    "import pandas as pd # data processing, CSV file I/O (e.g. pd.read_csv)\n",
    "import seaborn as sns\n",
    "import matplotlib.pyplot as plt\n",
    "\n",
    "import torch\n",
    "import torch.optim as optim\n",
    "torch.manual_seed(1)\n",
    "# Input data files are available in the read-only \"../input/\" directory\n",
    "# For example, running this (by clicking run or pressing Shift+Enter) will list all files under the input directory\n",
    "\n",
    "import os\n",
    "for dirname, _, filenames in os.walk('/kaggle/input'):\n",
    "    for filename in filenames:\n",
    "        print(os.path.join(dirname, filename))\n",
    "\n",
    "# You can write up to 20GB to the current directory (/kaggle/working/) that gets preserved as output when you create a version using \"Save & Run All\" \n",
    "# You can also write temporary files to /kaggle/temp/, but they won't be saved outside of the current session"
   ]
  },
  {
   "cell_type": "code",
   "execution_count": 2,
   "id": "ea74dd80",
   "metadata": {
    "execution": {
     "iopub.execute_input": "2021-09-26T18:07:03.851482Z",
     "iopub.status.busy": "2021-09-26T18:07:03.849357Z",
     "iopub.status.idle": "2021-09-26T18:07:03.892945Z",
     "shell.execute_reply": "2021-09-26T18:07:03.892035Z",
     "shell.execute_reply.started": "2021-09-26T17:14:09.194402Z"
    },
    "papermill": {
     "duration": 0.061562,
     "end_time": "2021-09-26T18:07:03.893209",
     "exception": false,
     "start_time": "2021-09-26T18:07:03.831647",
     "status": "completed"
    },
    "tags": []
   },
   "outputs": [],
   "source": [
    "X = pd.read_csv('/kaggle/input/2021-ai-w4-p2/train.csv')\n",
    "y = X['label']\n",
    "X = X.drop(['label'], axis=1)\n",
    "test = pd.read_csv('/kaggle/input/2021-ai-w4-p2/test.csv')"
   ]
  },
  {
   "cell_type": "code",
   "execution_count": 3,
   "id": "19c86b28",
   "metadata": {
    "execution": {
     "iopub.execute_input": "2021-09-26T18:07:03.934495Z",
     "iopub.status.busy": "2021-09-26T18:07:03.933249Z",
     "iopub.status.idle": "2021-09-26T18:07:03.970102Z",
     "shell.execute_reply": "2021-09-26T18:07:03.970650Z",
     "shell.execute_reply.started": "2021-09-26T17:14:09.440552Z"
    },
    "papermill": {
     "duration": 0.06018,
     "end_time": "2021-09-26T18:07:03.970815",
     "exception": false,
     "start_time": "2021-09-26T18:07:03.910635",
     "status": "completed"
    },
    "tags": []
   },
   "outputs": [
    {
     "data": {
      "text/html": [
       "<div>\n",
       "<style scoped>\n",
       "    .dataframe tbody tr th:only-of-type {\n",
       "        vertical-align: middle;\n",
       "    }\n",
       "\n",
       "    .dataframe tbody tr th {\n",
       "        vertical-align: top;\n",
       "    }\n",
       "\n",
       "    .dataframe thead th {\n",
       "        text-align: right;\n",
       "    }\n",
       "</style>\n",
       "<table border=\"1\" class=\"dataframe\">\n",
       "  <thead>\n",
       "    <tr style=\"text-align: right;\">\n",
       "      <th></th>\n",
       "      <th>N</th>\n",
       "      <th>P</th>\n",
       "      <th>K</th>\n",
       "      <th>temperature</th>\n",
       "      <th>humidity</th>\n",
       "      <th>ph</th>\n",
       "      <th>rainfall</th>\n",
       "    </tr>\n",
       "  </thead>\n",
       "  <tbody>\n",
       "    <tr>\n",
       "      <th>count</th>\n",
       "      <td>1650.000000</td>\n",
       "      <td>1650.000000</td>\n",
       "      <td>1650.000000</td>\n",
       "      <td>1650.000000</td>\n",
       "      <td>1650.000000</td>\n",
       "      <td>1650.000000</td>\n",
       "      <td>1650.000000</td>\n",
       "    </tr>\n",
       "    <tr>\n",
       "      <th>mean</th>\n",
       "      <td>50.873333</td>\n",
       "      <td>53.345455</td>\n",
       "      <td>48.026667</td>\n",
       "      <td>25.515033</td>\n",
       "      <td>71.665353</td>\n",
       "      <td>6.474123</td>\n",
       "      <td>102.509781</td>\n",
       "    </tr>\n",
       "    <tr>\n",
       "      <th>std</th>\n",
       "      <td>37.314088</td>\n",
       "      <td>33.200469</td>\n",
       "      <td>50.954520</td>\n",
       "      <td>5.035143</td>\n",
       "      <td>21.971147</td>\n",
       "      <td>0.777618</td>\n",
       "      <td>55.298782</td>\n",
       "    </tr>\n",
       "    <tr>\n",
       "      <th>min</th>\n",
       "      <td>0.000000</td>\n",
       "      <td>5.000000</td>\n",
       "      <td>5.000000</td>\n",
       "      <td>8.825675</td>\n",
       "      <td>14.273280</td>\n",
       "      <td>3.504752</td>\n",
       "      <td>20.360011</td>\n",
       "    </tr>\n",
       "    <tr>\n",
       "      <th>25%</th>\n",
       "      <td>20.250000</td>\n",
       "      <td>28.000000</td>\n",
       "      <td>20.000000</td>\n",
       "      <td>22.713912</td>\n",
       "      <td>60.521146</td>\n",
       "      <td>5.956121</td>\n",
       "      <td>63.659862</td>\n",
       "    </tr>\n",
       "    <tr>\n",
       "      <th>50%</th>\n",
       "      <td>37.000000</td>\n",
       "      <td>51.000000</td>\n",
       "      <td>31.000000</td>\n",
       "      <td>25.546615</td>\n",
       "      <td>80.519728</td>\n",
       "      <td>6.431830</td>\n",
       "      <td>93.516755</td>\n",
       "    </tr>\n",
       "    <tr>\n",
       "      <th>75%</th>\n",
       "      <td>85.000000</td>\n",
       "      <td>68.000000</td>\n",
       "      <td>48.000000</td>\n",
       "      <td>28.435373</td>\n",
       "      <td>89.894716</td>\n",
       "      <td>6.921558</td>\n",
       "      <td>122.340263</td>\n",
       "    </tr>\n",
       "    <tr>\n",
       "      <th>max</th>\n",
       "      <td>140.000000</td>\n",
       "      <td>145.000000</td>\n",
       "      <td>205.000000</td>\n",
       "      <td>43.675493</td>\n",
       "      <td>99.981876</td>\n",
       "      <td>9.935091</td>\n",
       "      <td>298.560117</td>\n",
       "    </tr>\n",
       "  </tbody>\n",
       "</table>\n",
       "</div>"
      ],
      "text/plain": [
       "                 N            P            K  temperature     humidity  \\\n",
       "count  1650.000000  1650.000000  1650.000000  1650.000000  1650.000000   \n",
       "mean     50.873333    53.345455    48.026667    25.515033    71.665353   \n",
       "std      37.314088    33.200469    50.954520     5.035143    21.971147   \n",
       "min       0.000000     5.000000     5.000000     8.825675    14.273280   \n",
       "25%      20.250000    28.000000    20.000000    22.713912    60.521146   \n",
       "50%      37.000000    51.000000    31.000000    25.546615    80.519728   \n",
       "75%      85.000000    68.000000    48.000000    28.435373    89.894716   \n",
       "max     140.000000   145.000000   205.000000    43.675493    99.981876   \n",
       "\n",
       "                ph     rainfall  \n",
       "count  1650.000000  1650.000000  \n",
       "mean      6.474123   102.509781  \n",
       "std       0.777618    55.298782  \n",
       "min       3.504752    20.360011  \n",
       "25%       5.956121    63.659862  \n",
       "50%       6.431830    93.516755  \n",
       "75%       6.921558   122.340263  \n",
       "max       9.935091   298.560117  "
      ]
     },
     "execution_count": 3,
     "metadata": {},
     "output_type": "execute_result"
    }
   ],
   "source": [
    "X.describe()"
   ]
  },
  {
   "cell_type": "code",
   "execution_count": 4,
   "id": "4db707c5",
   "metadata": {
    "execution": {
     "iopub.execute_input": "2021-09-26T18:07:04.001762Z",
     "iopub.status.busy": "2021-09-26T18:07:04.000984Z",
     "iopub.status.idle": "2021-09-26T18:07:04.118609Z",
     "shell.execute_reply": "2021-09-26T18:07:04.117963Z",
     "shell.execute_reply.started": "2021-09-26T17:14:09.670745Z"
    },
    "papermill": {
     "duration": 0.135068,
     "end_time": "2021-09-26T18:07:04.118747",
     "exception": false,
     "start_time": "2021-09-26T18:07:03.983679",
     "status": "completed"
    },
    "tags": []
   },
   "outputs": [
    {
     "data": {
      "text/plain": [
       "array([ 0,  1,  2,  3,  4,  5,  6,  7,  8,  9, 10, 11, 12, 13, 14, 15, 16,\n",
       "       17, 18, 19, 20, 21])"
      ]
     },
     "execution_count": 4,
     "metadata": {},
     "output_type": "execute_result"
    }
   ],
   "source": [
    "from sklearn import preprocessing\n",
    "le = preprocessing.LabelEncoder()\n",
    "y = le.fit_transform(y)\n",
    "np.unique(y)"
   ]
  },
  {
   "cell_type": "code",
   "execution_count": 5,
   "id": "527dbc5c",
   "metadata": {
    "execution": {
     "iopub.execute_input": "2021-09-26T18:07:04.152635Z",
     "iopub.status.busy": "2021-09-26T18:07:04.147771Z",
     "iopub.status.idle": "2021-09-26T18:07:04.186169Z",
     "shell.execute_reply": "2021-09-26T18:07:04.187348Z",
     "shell.execute_reply.started": "2021-09-26T17:14:09.927079Z"
    },
    "papermill": {
     "duration": 0.055967,
     "end_time": "2021-09-26T18:07:04.187551",
     "exception": false,
     "start_time": "2021-09-26T18:07:04.131584",
     "status": "completed"
    },
    "tags": []
   },
   "outputs": [],
   "source": [
    "from sklearn.preprocessing import MinMaxScaler, StandardScaler\n",
    "sc = StandardScaler()\n",
    "X_sc = sc.fit_transform(X)\n",
    "test_sc = sc.transform(test)\n",
    "\n",
    "X_sc = torch.FloatTensor(X_sc)\n",
    "test_sc = torch.FloatTensor(test_sc)"
   ]
  },
  {
   "cell_type": "code",
   "execution_count": 6,
   "id": "cad371a5",
   "metadata": {
    "execution": {
     "iopub.execute_input": "2021-09-26T18:07:04.219429Z",
     "iopub.status.busy": "2021-09-26T18:07:04.218688Z",
     "iopub.status.idle": "2021-09-26T18:07:04.221971Z",
     "shell.execute_reply": "2021-09-26T18:07:04.221449Z",
     "shell.execute_reply.started": "2021-09-26T17:14:10.373707Z"
    },
    "papermill": {
     "duration": 0.021441,
     "end_time": "2021-09-26T18:07:04.222129",
     "exception": false,
     "start_time": "2021-09-26T18:07:04.200688",
     "status": "completed"
    },
    "tags": []
   },
   "outputs": [],
   "source": [
    "X = torch.FloatTensor(X.to_numpy())\n",
    "test = torch.FloatTensor(test.to_numpy())\n",
    "y = torch.LongTensor(y)"
   ]
  },
  {
   "cell_type": "code",
   "execution_count": 7,
   "id": "e16d09f0",
   "metadata": {
    "execution": {
     "iopub.execute_input": "2021-09-26T18:07:04.256976Z",
     "iopub.status.busy": "2021-09-26T18:07:04.256291Z",
     "iopub.status.idle": "2021-09-26T18:08:40.831246Z",
     "shell.execute_reply": "2021-09-26T18:08:40.831839Z",
     "shell.execute_reply.started": "2021-09-26T18:04:54.447516Z"
    },
    "papermill": {
     "duration": 96.596893,
     "end_time": "2021-09-26T18:08:40.832037",
     "exception": false,
     "start_time": "2021-09-26T18:07:04.235144",
     "status": "completed"
    },
    "tags": []
   },
   "outputs": [
    {
     "name": "stdout",
     "output_type": "stream",
     "text": [
      "Epoch    0/100000 Cost : 3.091014\n",
      "Epoch 5000/100000 Cost : 0.107798\n",
      "Epoch 10000/100000 Cost : 0.086161\n",
      "Epoch 15000/100000 Cost : 0.076600\n",
      "Epoch 20000/100000 Cost : 0.070934\n",
      "Epoch 25000/100000 Cost : 0.067096\n",
      "Epoch 30000/100000 Cost : 0.064283\n",
      "Epoch 35000/100000 Cost : 0.062112\n",
      "Epoch 40000/100000 Cost : 0.060374\n",
      "Epoch 45000/100000 Cost : 0.058943\n",
      "Epoch 50000/100000 Cost : 0.057739\n",
      "Epoch 55000/100000 Cost : 0.056710\n",
      "Epoch 60000/100000 Cost : 0.055816\n",
      "Epoch 65000/100000 Cost : 0.055032\n",
      "Epoch 70000/100000 Cost : 0.054336\n",
      "Epoch 75000/100000 Cost : 0.053713\n",
      "Epoch 80000/100000 Cost : 0.053152\n",
      "Epoch 85000/100000 Cost : 0.052644\n",
      "Epoch 90000/100000 Cost : 0.052179\n",
      "Epoch 95000/100000 Cost : 0.051754\n",
      "Epoch 100000/100000 Cost : 0.051361\n"
     ]
    }
   ],
   "source": [
    "import torch.nn.functional as F\n",
    "\n",
    "nb_class = 22\n",
    "nb_data = len(y)\n",
    "\n",
    "# 정보 4, class 3\n",
    "W = torch.zeros((7, nb_class), requires_grad = True)\n",
    "b = torch.zeros(1, requires_grad = True)\n",
    "\n",
    "# optimizer 변경\n",
    "optimizer = optim.SGD([W, b], lr = 1)\n",
    "\n",
    "nb_epochs = 100000\n",
    "for epoch in range(nb_epochs + 1):\n",
    "      \n",
    "#     y_one_hot = torch.zeros(nb_data, nb_class)\n",
    "#     # unsqueeze : 하나의 리스트에 들어있던 원소 -> 각각의 리스트로\n",
    "#     # scatter_(dim, index, src) . dim=1 행방향, src는 scatter할 값\n",
    "#     y_one_hot.scatter_(1, y.unsqueeze(1), 1)  \n",
    "#     cost = (y_one_hot * -torch.log(F.softmax(hypothesis, dim=1))).sum(dim=1).mean()\n",
    "    loss = torch.nn.CrossEntropyLoss()\n",
    "    hypothesis = X_sc.matmul(W) + b\n",
    "    cost = loss(hypothesis, y)\n",
    "    optimizer.zero_grad()\n",
    "    cost.backward()   # cost 이용해 optimizer 알고리즘 수행\n",
    "    optimizer.step()  # W 갱신\n",
    "\n",
    "    if epoch % 5000 == 0:\n",
    "        print('Epoch {:4d}/{} Cost : {:.6f}'.format(\n",
    "            epoch, nb_epochs, cost.item()\n",
    "        ))\n",
    "  \n",
    "\n"
   ]
  },
  {
   "cell_type": "code",
   "execution_count": 8,
   "id": "bbaa4d79",
   "metadata": {
    "execution": {
     "iopub.execute_input": "2021-09-26T18:08:40.876650Z",
     "iopub.status.busy": "2021-09-26T18:08:40.875931Z",
     "iopub.status.idle": "2021-09-26T18:08:40.891311Z",
     "shell.execute_reply": "2021-09-26T18:08:40.890764Z",
     "shell.execute_reply.started": "2021-09-26T18:06:09.764036Z"
    },
    "papermill": {
     "duration": 0.040571,
     "end_time": "2021-09-26T18:08:40.891465",
     "exception": false,
     "start_time": "2021-09-26T18:08:40.850894",
     "status": "completed"
    },
    "tags": []
   },
   "outputs": [
    {
     "name": "stdout",
     "output_type": "stream",
     "text": [
      "torch.Size([1650])\n",
      "torch.Size([1650])\n",
      "tensor([True, True, True,  ..., True, True, True])\n",
      "98.06%\n"
     ]
    }
   ],
   "source": [
    "hypothesis = F.softmax(X_sc.matmul(W)+b, dim=1)\n",
    "predict = torch.argmax(hypothesis, dim=1) # argmax : 가장 큰 값의 인덱스 리턴\n",
    "print(predict.shape)\n",
    "print(y.shape)\n",
    "\n",
    "correct_prediction = predict.float() == y\n",
    "print(correct_prediction)\n",
    "accuracy = correct_prediction.sum().item()/len(correct_prediction)\n",
    "print('{:2.2f}%'.format(accuracy*100))"
   ]
  },
  {
   "cell_type": "code",
   "execution_count": 9,
   "id": "521796d2",
   "metadata": {
    "execution": {
     "iopub.execute_input": "2021-09-26T18:08:40.935644Z",
     "iopub.status.busy": "2021-09-26T18:08:40.934975Z",
     "iopub.status.idle": "2021-09-26T18:08:40.942627Z",
     "shell.execute_reply": "2021-09-26T18:08:40.941988Z",
     "shell.execute_reply.started": "2021-09-26T16:45:20.742262Z"
    },
    "papermill": {
     "duration": 0.031854,
     "end_time": "2021-09-26T18:08:40.942793",
     "exception": false,
     "start_time": "2021-09-26T18:08:40.910939",
     "status": "completed"
    },
    "tags": []
   },
   "outputs": [],
   "source": [
    "hypothesis = F.softmax(test_sc.matmul(W)+b, dim=1)\n",
    "predict = torch.argmax(hypothesis, dim=1) \n",
    "predict = le.inverse_transform(predict)"
   ]
  },
  {
   "cell_type": "code",
   "execution_count": 10,
   "id": "dead6b46",
   "metadata": {
    "execution": {
     "iopub.execute_input": "2021-09-26T18:08:40.988521Z",
     "iopub.status.busy": "2021-09-26T18:08:40.987874Z",
     "iopub.status.idle": "2021-09-26T18:08:41.007431Z",
     "shell.execute_reply": "2021-09-26T18:08:41.007918Z",
     "shell.execute_reply.started": "2021-09-26T16:46:09.621166Z"
    },
    "papermill": {
     "duration": 0.044035,
     "end_time": "2021-09-26T18:08:41.008090",
     "exception": false,
     "start_time": "2021-09-26T18:08:40.964055",
     "status": "completed"
    },
    "tags": []
   },
   "outputs": [
    {
     "data": {
      "text/html": [
       "<div>\n",
       "<style scoped>\n",
       "    .dataframe tbody tr th:only-of-type {\n",
       "        vertical-align: middle;\n",
       "    }\n",
       "\n",
       "    .dataframe tbody tr th {\n",
       "        vertical-align: top;\n",
       "    }\n",
       "\n",
       "    .dataframe thead th {\n",
       "        text-align: right;\n",
       "    }\n",
       "</style>\n",
       "<table border=\"1\" class=\"dataframe\">\n",
       "  <thead>\n",
       "    <tr style=\"text-align: right;\">\n",
       "      <th></th>\n",
       "      <th>id</th>\n",
       "      <th>label</th>\n",
       "    </tr>\n",
       "  </thead>\n",
       "  <tbody>\n",
       "    <tr>\n",
       "      <th>0</th>\n",
       "      <td>0</td>\n",
       "      <td>coffee</td>\n",
       "    </tr>\n",
       "    <tr>\n",
       "      <th>1</th>\n",
       "      <td>1</td>\n",
       "      <td>coffee</td>\n",
       "    </tr>\n",
       "    <tr>\n",
       "      <th>2</th>\n",
       "      <td>2</td>\n",
       "      <td>coffee</td>\n",
       "    </tr>\n",
       "    <tr>\n",
       "      <th>3</th>\n",
       "      <td>3</td>\n",
       "      <td>coffee</td>\n",
       "    </tr>\n",
       "    <tr>\n",
       "      <th>4</th>\n",
       "      <td>4</td>\n",
       "      <td>coffee</td>\n",
       "    </tr>\n",
       "  </tbody>\n",
       "</table>\n",
       "</div>"
      ],
      "text/plain": [
       "   id   label\n",
       "0   0  coffee\n",
       "1   1  coffee\n",
       "2   2  coffee\n",
       "3   3  coffee\n",
       "4   4  coffee"
      ]
     },
     "execution_count": 10,
     "metadata": {},
     "output_type": "execute_result"
    }
   ],
   "source": [
    "submit = pd.read_csv('/kaggle/input/2021-ai-w4-p2/sample.csv')\n",
    "submit.head()"
   ]
  },
  {
   "cell_type": "code",
   "execution_count": 11,
   "id": "6924164d",
   "metadata": {
    "execution": {
     "iopub.execute_input": "2021-09-26T18:08:41.053011Z",
     "iopub.status.busy": "2021-09-26T18:08:41.050902Z",
     "iopub.status.idle": "2021-09-26T18:08:41.055860Z",
     "shell.execute_reply": "2021-09-26T18:08:41.055343Z",
     "shell.execute_reply.started": "2021-09-26T16:46:28.220807Z"
    },
    "papermill": {
     "duration": 0.028194,
     "end_time": "2021-09-26T18:08:41.055995",
     "exception": false,
     "start_time": "2021-09-26T18:08:41.027801",
     "status": "completed"
    },
    "tags": []
   },
   "outputs": [],
   "source": [
    "submit['label'] = predict\n"
   ]
  },
  {
   "cell_type": "code",
   "execution_count": 12,
   "id": "ed013039",
   "metadata": {
    "execution": {
     "iopub.execute_input": "2021-09-26T18:08:41.100538Z",
     "iopub.status.busy": "2021-09-26T18:08:41.099686Z",
     "iopub.status.idle": "2021-09-26T18:08:41.106932Z",
     "shell.execute_reply": "2021-09-26T18:08:41.106409Z",
     "shell.execute_reply.started": "2021-09-26T16:46:58.945075Z"
    },
    "papermill": {
     "duration": 0.0315,
     "end_time": "2021-09-26T18:08:41.107078",
     "exception": false,
     "start_time": "2021-09-26T18:08:41.075578",
     "status": "completed"
    },
    "tags": []
   },
   "outputs": [],
   "source": [
    "submit.to_csv('submit.csv', index=False)"
   ]
  },
  {
   "cell_type": "code",
   "execution_count": null,
   "id": "dc592059",
   "metadata": {
    "papermill": {
     "duration": 0.019527,
     "end_time": "2021-09-26T18:08:41.146713",
     "exception": false,
     "start_time": "2021-09-26T18:08:41.127186",
     "status": "completed"
    },
    "tags": []
   },
   "outputs": [],
   "source": []
  }
 ],
 "metadata": {
  "kernelspec": {
   "display_name": "Python 3",
   "language": "python",
   "name": "python3"
  },
  "language_info": {
   "codemirror_mode": {
    "name": "ipython",
    "version": 3
   },
   "file_extension": ".py",
   "mimetype": "text/x-python",
   "name": "python",
   "nbconvert_exporter": "python",
   "pygments_lexer": "ipython3",
   "version": "3.7.10"
  },
  "papermill": {
   "default_parameters": {},
   "duration": 108.824766,
   "end_time": "2021-09-26T18:08:42.438511",
   "environment_variables": {},
   "exception": null,
   "input_path": "__notebook__.ipynb",
   "output_path": "__notebook__.ipynb",
   "parameters": {},
   "start_time": "2021-09-26T18:06:53.613745",
   "version": "2.3.3"
  }
 },
 "nbformat": 4,
 "nbformat_minor": 5
}

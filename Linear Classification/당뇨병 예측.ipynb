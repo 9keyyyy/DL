{
 "cells": [
  {
   "cell_type": "code",
   "execution_count": 1,
   "id": "ebf63ed7",
   "metadata": {
    "_cell_guid": "b1076dfc-b9ad-4769-8c92-a6c4dae69d19",
    "_uuid": "8f2839f25d086af736a60e9eeb907d3b93b6e0e5",
    "execution": {
     "iopub.execute_input": "2021-09-26T15:58:37.854502Z",
     "iopub.status.busy": "2021-09-26T15:58:37.853333Z",
     "iopub.status.idle": "2021-09-26T15:58:39.756363Z",
     "shell.execute_reply": "2021-09-26T15:58:39.755716Z",
     "shell.execute_reply.started": "2021-09-26T15:57:19.374481Z"
    },
    "papermill": {
     "duration": 1.923522,
     "end_time": "2021-09-26T15:58:39.756535",
     "exception": false,
     "start_time": "2021-09-26T15:58:37.833013",
     "status": "completed"
    },
    "tags": []
   },
   "outputs": [
    {
     "name": "stdout",
     "output_type": "stream",
     "text": [
      "/kaggle/input/2021-ai-w4-p1/submit.csv\n",
      "/kaggle/input/2021-ai-w4-p1/train.csv\n",
      "/kaggle/input/2021-ai-w4-p1/test.csv\n"
     ]
    }
   ],
   "source": [
    "# This Python 3 environment comes with many helpful analytics libraries installed\n",
    "# It is defined by the kaggle/python Docker image: https://github.com/kaggle/docker-python\n",
    "# For example, here's several helpful packages to load\n",
    "\n",
    "import numpy as np # linear algebra\n",
    "import pandas as pd # data processing, CSV file I/O (e.g. pd.read_csv)\n",
    "import seaborn as sns\n",
    "import matplotlib.pyplot as plt\n",
    "\n",
    "import torch\n",
    "import torch.optim as optim\n",
    "torch.manual_seed(1)\n",
    "\n",
    "# Input data files are available in the read-only \"../input/\" directory\n",
    "# For example, running this (by clicking run or pressing Shift+Enter) will list all files under the input directory\n",
    "\n",
    "import os\n",
    "for dirname, _, filenames in os.walk('/kaggle/input'):\n",
    "    for filename in filenames:\n",
    "        print(os.path.join(dirname, filename))\n",
    "\n",
    "# You can write up to 20GB to the current directory (/kaggle/working/) that gets preserved as output when you create a version using \"Save & Run All\" \n",
    "# You can also write temporary files to /kaggle/temp/, but they won't be saved outside of the current session"
   ]
  },
  {
   "cell_type": "code",
   "execution_count": 2,
   "id": "890724ab",
   "metadata": {
    "execution": {
     "iopub.execute_input": "2021-09-26T15:58:39.796612Z",
     "iopub.status.busy": "2021-09-26T15:58:39.795935Z",
     "iopub.status.idle": "2021-09-26T15:58:39.837797Z",
     "shell.execute_reply": "2021-09-26T15:58:39.838304Z",
     "shell.execute_reply.started": "2021-09-26T15:57:19.689675Z"
    },
    "papermill": {
     "duration": 0.064197,
     "end_time": "2021-09-26T15:58:39.838508",
     "exception": false,
     "start_time": "2021-09-26T15:58:39.774311",
     "status": "completed"
    },
    "tags": []
   },
   "outputs": [],
   "source": [
    "X = pd.read_csv('/kaggle/input/2021-ai-w4-p1/train.csv')\n",
    "y = X['Diabetes']\n",
    "X = X.drop(['Diabetes','Pregnancies', 'SkinThickness'], axis = 1)\n",
    "test = pd.read_csv('/kaggle/input/2021-ai-w4-p1/test.csv').drop(['Pregnancies', 'SkinThickness'], axis=1)"
   ]
  },
  {
   "cell_type": "code",
   "execution_count": 3,
   "id": "c6bbce77",
   "metadata": {
    "execution": {
     "iopub.execute_input": "2021-09-26T15:58:39.875585Z",
     "iopub.status.busy": "2021-09-26T15:58:39.874967Z",
     "iopub.status.idle": "2021-09-26T15:58:39.877636Z",
     "shell.execute_reply": "2021-09-26T15:58:39.878114Z",
     "shell.execute_reply.started": "2021-09-26T15:57:19.971381Z"
    },
    "papermill": {
     "duration": 0.022765,
     "end_time": "2021-09-26T15:58:39.878287",
     "exception": false,
     "start_time": "2021-09-26T15:58:39.855522",
     "status": "completed"
    },
    "tags": []
   },
   "outputs": [],
   "source": [
    "#'Glucose','BloodPressure','SkinThickness','BMI',Pregnancies','Insulin','Age','DiabetesPedigreeFunction'\n",
    "# sns.heatmap(X.corr())"
   ]
  },
  {
   "cell_type": "code",
   "execution_count": 4,
   "id": "2ad58785",
   "metadata": {
    "execution": {
     "iopub.execute_input": "2021-09-26T15:58:39.921227Z",
     "iopub.status.busy": "2021-09-26T15:58:39.920606Z",
     "iopub.status.idle": "2021-09-26T15:58:39.952970Z",
     "shell.execute_reply": "2021-09-26T15:58:39.953473Z",
     "shell.execute_reply.started": "2021-09-26T15:57:20.492915Z"
    },
    "papermill": {
     "duration": 0.057131,
     "end_time": "2021-09-26T15:58:39.953642",
     "exception": false,
     "start_time": "2021-09-26T15:58:39.896511",
     "status": "completed"
    },
    "tags": []
   },
   "outputs": [
    {
     "data": {
      "text/html": [
       "<div>\n",
       "<style scoped>\n",
       "    .dataframe tbody tr th:only-of-type {\n",
       "        vertical-align: middle;\n",
       "    }\n",
       "\n",
       "    .dataframe tbody tr th {\n",
       "        vertical-align: top;\n",
       "    }\n",
       "\n",
       "    .dataframe thead th {\n",
       "        text-align: right;\n",
       "    }\n",
       "</style>\n",
       "<table border=\"1\" class=\"dataframe\">\n",
       "  <thead>\n",
       "    <tr style=\"text-align: right;\">\n",
       "      <th></th>\n",
       "      <th>Glucose</th>\n",
       "      <th>BloodPressure</th>\n",
       "      <th>Insulin</th>\n",
       "      <th>BMI</th>\n",
       "      <th>DiabetesPedigreeFunction</th>\n",
       "      <th>Age</th>\n",
       "    </tr>\n",
       "  </thead>\n",
       "  <tbody>\n",
       "    <tr>\n",
       "      <th>count</th>\n",
       "      <td>537.000000</td>\n",
       "      <td>537.000000</td>\n",
       "      <td>537.000000</td>\n",
       "      <td>537.000000</td>\n",
       "      <td>537.000000</td>\n",
       "      <td>537.000000</td>\n",
       "    </tr>\n",
       "    <tr>\n",
       "      <th>mean</th>\n",
       "      <td>120.849162</td>\n",
       "      <td>69.685289</td>\n",
       "      <td>79.836127</td>\n",
       "      <td>31.975605</td>\n",
       "      <td>0.469920</td>\n",
       "      <td>33.074488</td>\n",
       "    </tr>\n",
       "    <tr>\n",
       "      <th>std</th>\n",
       "      <td>32.339523</td>\n",
       "      <td>18.094374</td>\n",
       "      <td>115.196730</td>\n",
       "      <td>7.624495</td>\n",
       "      <td>0.342087</td>\n",
       "      <td>11.685319</td>\n",
       "    </tr>\n",
       "    <tr>\n",
       "      <th>min</th>\n",
       "      <td>0.000000</td>\n",
       "      <td>0.000000</td>\n",
       "      <td>0.000000</td>\n",
       "      <td>0.000000</td>\n",
       "      <td>0.078000</td>\n",
       "      <td>21.000000</td>\n",
       "    </tr>\n",
       "    <tr>\n",
       "      <th>25%</th>\n",
       "      <td>99.000000</td>\n",
       "      <td>64.000000</td>\n",
       "      <td>0.000000</td>\n",
       "      <td>26.800000</td>\n",
       "      <td>0.241000</td>\n",
       "      <td>24.000000</td>\n",
       "    </tr>\n",
       "    <tr>\n",
       "      <th>50%</th>\n",
       "      <td>117.000000</td>\n",
       "      <td>72.000000</td>\n",
       "      <td>36.000000</td>\n",
       "      <td>32.000000</td>\n",
       "      <td>0.374000</td>\n",
       "      <td>29.000000</td>\n",
       "    </tr>\n",
       "    <tr>\n",
       "      <th>75%</th>\n",
       "      <td>139.000000</td>\n",
       "      <td>80.000000</td>\n",
       "      <td>129.000000</td>\n",
       "      <td>36.500000</td>\n",
       "      <td>0.612000</td>\n",
       "      <td>41.000000</td>\n",
       "    </tr>\n",
       "    <tr>\n",
       "      <th>max</th>\n",
       "      <td>199.000000</td>\n",
       "      <td>122.000000</td>\n",
       "      <td>846.000000</td>\n",
       "      <td>67.100000</td>\n",
       "      <td>2.420000</td>\n",
       "      <td>81.000000</td>\n",
       "    </tr>\n",
       "  </tbody>\n",
       "</table>\n",
       "</div>"
      ],
      "text/plain": [
       "          Glucose  BloodPressure     Insulin         BMI  \\\n",
       "count  537.000000     537.000000  537.000000  537.000000   \n",
       "mean   120.849162      69.685289   79.836127   31.975605   \n",
       "std     32.339523      18.094374  115.196730    7.624495   \n",
       "min      0.000000       0.000000    0.000000    0.000000   \n",
       "25%     99.000000      64.000000    0.000000   26.800000   \n",
       "50%    117.000000      72.000000   36.000000   32.000000   \n",
       "75%    139.000000      80.000000  129.000000   36.500000   \n",
       "max    199.000000     122.000000  846.000000   67.100000   \n",
       "\n",
       "       DiabetesPedigreeFunction         Age  \n",
       "count                537.000000  537.000000  \n",
       "mean                   0.469920   33.074488  \n",
       "std                    0.342087   11.685319  \n",
       "min                    0.078000   21.000000  \n",
       "25%                    0.241000   24.000000  \n",
       "50%                    0.374000   29.000000  \n",
       "75%                    0.612000   41.000000  \n",
       "max                    2.420000   81.000000  "
      ]
     },
     "execution_count": 4,
     "metadata": {},
     "output_type": "execute_result"
    }
   ],
   "source": [
    "X.describe()"
   ]
  },
  {
   "cell_type": "code",
   "execution_count": 5,
   "id": "7d08560b",
   "metadata": {
    "execution": {
     "iopub.execute_input": "2021-09-26T15:58:39.991458Z",
     "iopub.status.busy": "2021-09-26T15:58:39.990817Z",
     "iopub.status.idle": "2021-09-26T15:58:40.000543Z",
     "shell.execute_reply": "2021-09-26T15:58:40.000015Z",
     "shell.execute_reply.started": "2021-09-26T15:57:21.867553Z"
    },
    "papermill": {
     "duration": 0.029787,
     "end_time": "2021-09-26T15:58:40.000686",
     "exception": false,
     "start_time": "2021-09-26T15:58:39.970899",
     "status": "completed"
    },
    "tags": []
   },
   "outputs": [
    {
     "name": "stderr",
     "output_type": "stream",
     "text": [
      "/opt/conda/lib/python3.7/site-packages/ipykernel_launcher.py:1: SettingWithCopyWarning: \n",
      "A value is trying to be set on a copy of a slice from a DataFrame\n",
      "\n",
      "See the caveats in the documentation: https://pandas.pydata.org/pandas-docs/stable/user_guide/indexing.html#returning-a-view-versus-a-copy\n",
      "  \"\"\"Entry point for launching an IPython kernel.\n"
     ]
    }
   ],
   "source": [
    "X['Insulin'][X[X['Insulin'] == 0].index] = X['Insulin'].mean()\n",
    "# X['SkinThickness'][X[X['SkinThickness'] == 0].index] = X['SkinThickness'].mean()"
   ]
  },
  {
   "cell_type": "code",
   "execution_count": 6,
   "id": "995948d0",
   "metadata": {
    "execution": {
     "iopub.execute_input": "2021-09-26T15:58:40.049838Z",
     "iopub.status.busy": "2021-09-26T15:58:40.047945Z",
     "iopub.status.idle": "2021-09-26T15:58:40.067543Z",
     "shell.execute_reply": "2021-09-26T15:58:40.066989Z",
     "shell.execute_reply.started": "2021-09-26T15:57:22.988773Z"
    },
    "papermill": {
     "duration": 0.04963,
     "end_time": "2021-09-26T15:58:40.067682",
     "exception": false,
     "start_time": "2021-09-26T15:58:40.018052",
     "status": "completed"
    },
    "tags": []
   },
   "outputs": [
    {
     "data": {
      "text/html": [
       "<div>\n",
       "<style scoped>\n",
       "    .dataframe tbody tr th:only-of-type {\n",
       "        vertical-align: middle;\n",
       "    }\n",
       "\n",
       "    .dataframe tbody tr th {\n",
       "        vertical-align: top;\n",
       "    }\n",
       "\n",
       "    .dataframe thead th {\n",
       "        text-align: right;\n",
       "    }\n",
       "</style>\n",
       "<table border=\"1\" class=\"dataframe\">\n",
       "  <thead>\n",
       "    <tr style=\"text-align: right;\">\n",
       "      <th></th>\n",
       "      <th>Glucose</th>\n",
       "      <th>BloodPressure</th>\n",
       "      <th>Insulin</th>\n",
       "      <th>BMI</th>\n",
       "      <th>DiabetesPedigreeFunction</th>\n",
       "      <th>Age</th>\n",
       "    </tr>\n",
       "  </thead>\n",
       "  <tbody>\n",
       "    <tr>\n",
       "      <th>count</th>\n",
       "      <td>537.000000</td>\n",
       "      <td>537.000000</td>\n",
       "      <td>537.000000</td>\n",
       "      <td>537.000000</td>\n",
       "      <td>537.000000</td>\n",
       "      <td>537.000000</td>\n",
       "    </tr>\n",
       "    <tr>\n",
       "      <th>mean</th>\n",
       "      <td>120.849162</td>\n",
       "      <td>69.685289</td>\n",
       "      <td>118.639160</td>\n",
       "      <td>31.975605</td>\n",
       "      <td>0.469920</td>\n",
       "      <td>33.074488</td>\n",
       "    </tr>\n",
       "    <tr>\n",
       "      <th>std</th>\n",
       "      <td>32.339523</td>\n",
       "      <td>18.094374</td>\n",
       "      <td>93.049119</td>\n",
       "      <td>7.624495</td>\n",
       "      <td>0.342087</td>\n",
       "      <td>11.685319</td>\n",
       "    </tr>\n",
       "    <tr>\n",
       "      <th>min</th>\n",
       "      <td>0.000000</td>\n",
       "      <td>0.000000</td>\n",
       "      <td>14.000000</td>\n",
       "      <td>0.000000</td>\n",
       "      <td>0.078000</td>\n",
       "      <td>21.000000</td>\n",
       "    </tr>\n",
       "    <tr>\n",
       "      <th>25%</th>\n",
       "      <td>99.000000</td>\n",
       "      <td>64.000000</td>\n",
       "      <td>79.836127</td>\n",
       "      <td>26.800000</td>\n",
       "      <td>0.241000</td>\n",
       "      <td>24.000000</td>\n",
       "    </tr>\n",
       "    <tr>\n",
       "      <th>50%</th>\n",
       "      <td>117.000000</td>\n",
       "      <td>72.000000</td>\n",
       "      <td>79.836127</td>\n",
       "      <td>32.000000</td>\n",
       "      <td>0.374000</td>\n",
       "      <td>29.000000</td>\n",
       "    </tr>\n",
       "    <tr>\n",
       "      <th>75%</th>\n",
       "      <td>139.000000</td>\n",
       "      <td>80.000000</td>\n",
       "      <td>129.000000</td>\n",
       "      <td>36.500000</td>\n",
       "      <td>0.612000</td>\n",
       "      <td>41.000000</td>\n",
       "    </tr>\n",
       "    <tr>\n",
       "      <th>max</th>\n",
       "      <td>199.000000</td>\n",
       "      <td>122.000000</td>\n",
       "      <td>846.000000</td>\n",
       "      <td>67.100000</td>\n",
       "      <td>2.420000</td>\n",
       "      <td>81.000000</td>\n",
       "    </tr>\n",
       "  </tbody>\n",
       "</table>\n",
       "</div>"
      ],
      "text/plain": [
       "          Glucose  BloodPressure     Insulin         BMI  \\\n",
       "count  537.000000     537.000000  537.000000  537.000000   \n",
       "mean   120.849162      69.685289  118.639160   31.975605   \n",
       "std     32.339523      18.094374   93.049119    7.624495   \n",
       "min      0.000000       0.000000   14.000000    0.000000   \n",
       "25%     99.000000      64.000000   79.836127   26.800000   \n",
       "50%    117.000000      72.000000   79.836127   32.000000   \n",
       "75%    139.000000      80.000000  129.000000   36.500000   \n",
       "max    199.000000     122.000000  846.000000   67.100000   \n",
       "\n",
       "       DiabetesPedigreeFunction         Age  \n",
       "count                537.000000  537.000000  \n",
       "mean                   0.469920   33.074488  \n",
       "std                    0.342087   11.685319  \n",
       "min                    0.078000   21.000000  \n",
       "25%                    0.241000   24.000000  \n",
       "50%                    0.374000   29.000000  \n",
       "75%                    0.612000   41.000000  \n",
       "max                    2.420000   81.000000  "
      ]
     },
     "execution_count": 6,
     "metadata": {},
     "output_type": "execute_result"
    }
   ],
   "source": [
    "X.describe()"
   ]
  },
  {
   "cell_type": "code",
   "execution_count": 7,
   "id": "316d403f",
   "metadata": {
    "execution": {
     "iopub.execute_input": "2021-09-26T15:58:40.109441Z",
     "iopub.status.busy": "2021-09-26T15:58:40.108765Z",
     "iopub.status.idle": "2021-09-26T15:58:41.204160Z",
     "shell.execute_reply": "2021-09-26T15:58:41.204666Z",
     "shell.execute_reply.started": "2021-09-26T15:57:23.310802Z"
    },
    "papermill": {
     "duration": 1.119416,
     "end_time": "2021-09-26T15:58:41.204831",
     "exception": false,
     "start_time": "2021-09-26T15:58:40.085415",
     "status": "completed"
    },
    "tags": []
   },
   "outputs": [
    {
     "data": {
      "text/plain": [
       "array([[<AxesSubplot:title={'center':'Glucose'}>,\n",
       "        <AxesSubplot:title={'center':'BloodPressure'}>],\n",
       "       [<AxesSubplot:title={'center':'Insulin'}>,\n",
       "        <AxesSubplot:title={'center':'BMI'}>],\n",
       "       [<AxesSubplot:title={'center':'DiabetesPedigreeFunction'}>,\n",
       "        <AxesSubplot:title={'center':'Age'}>]], dtype=object)"
      ]
     },
     "execution_count": 7,
     "metadata": {},
     "output_type": "execute_result"
    },
    {
     "data": {
      "image/png": "[encoded data removed]",
      "text/plain": [
       "<Figure size 1440x720 with 6 Axes>"
      ]
     },
     "metadata": {
      "needs_background": "light"
     },
     "output_type": "display_data"
    }
   ],
   "source": [
    "X[['Glucose','BloodPressure', 'Insulin', 'BMI', 'DiabetesPedigreeFunction', 'Age']].hist(figsize=(20, 10))\n"
   ]
  },
  {
   "cell_type": "code",
   "execution_count": 8,
   "id": "90e96c78",
   "metadata": {
    "execution": {
     "iopub.execute_input": "2021-09-26T15:58:41.247200Z",
     "iopub.status.busy": "2021-09-26T15:58:41.246577Z",
     "iopub.status.idle": "2021-09-26T15:58:41.381059Z",
     "shell.execute_reply": "2021-09-26T15:58:41.381556Z",
     "shell.execute_reply.started": "2021-09-26T15:57:24.278872Z"
    },
    "papermill": {
     "duration": 0.156677,
     "end_time": "2021-09-26T15:58:41.381737",
     "exception": false,
     "start_time": "2021-09-26T15:58:41.225060",
     "status": "completed"
    },
    "tags": []
   },
   "outputs": [],
   "source": [
    "from sklearn.preprocessing import MinMaxScaler, StandardScaler\n",
    "sc = StandardScaler()\n",
    "X_sc = sc.fit_transform(X)\n",
    "test_sc = sc.transform(test)\n",
    "\n",
    "X_sc = torch.FloatTensor(X_sc)\n",
    "test_sc = torch.FloatTensor(test_sc)"
   ]
  },
  {
   "cell_type": "code",
   "execution_count": 9,
   "id": "832afa97",
   "metadata": {
    "execution": {
     "iopub.execute_input": "2021-09-26T15:58:41.424708Z",
     "iopub.status.busy": "2021-09-26T15:58:41.424092Z",
     "iopub.status.idle": "2021-09-26T15:58:41.428754Z",
     "shell.execute_reply": "2021-09-26T15:58:41.428194Z",
     "shell.execute_reply.started": "2021-09-26T15:57:24.575298Z"
    },
    "papermill": {
     "duration": 0.027746,
     "end_time": "2021-09-26T15:58:41.428904",
     "exception": false,
     "start_time": "2021-09-26T15:58:41.401158",
     "status": "completed"
    },
    "tags": []
   },
   "outputs": [],
   "source": [
    "# X['Insulin'] = sc.fit_transform(X['Insulin'].to_numpy().reshape(-1, 1))\n",
    "# test['Insulin'] = sc.fit_transform(test['Insulin'].to_numpy().reshape(-1, 1))\n",
    "# X['DiabetesPedigreeFunction'] = sc.fit_transform(X['DiabetesPedigreeFunction'].to_numpy().reshape(-1, 1))\n",
    "# test['DiabetesPedigreeFunction'] = sc.fit_transform(test['DiabetesPedigreeFunction'].to_numpy().reshape(-1, 1))\n",
    "# X['Age'] = sc.fit_transform(X['Age'].to_numpy().reshape(-1, 1))\n",
    "# test['Age'] = sc.fit_transform(test['Age'].to_numpy().reshape(-1, 1))\n",
    "# X['Pregnancies'] = sc.fit_transform(X['Pregnancies'].to_numpy().reshape(-1, 1))\n",
    "# test['Pregnancies'] = sc.fit_transform(test['Pregnancies'].to_numpy().reshape(-1, 1))"
   ]
  },
  {
   "cell_type": "code",
   "execution_count": 10,
   "id": "418fde11",
   "metadata": {
    "execution": {
     "iopub.execute_input": "2021-09-26T15:58:41.473456Z",
     "iopub.status.busy": "2021-09-26T15:58:41.472453Z",
     "iopub.status.idle": "2021-09-26T15:58:41.474447Z",
     "shell.execute_reply": "2021-09-26T15:58:41.474934Z",
     "shell.execute_reply.started": "2021-09-26T15:57:25.063337Z"
    },
    "papermill": {
     "duration": 0.026954,
     "end_time": "2021-09-26T15:58:41.475085",
     "exception": false,
     "start_time": "2021-09-26T15:58:41.448131",
     "status": "completed"
    },
    "tags": []
   },
   "outputs": [],
   "source": [
    "X = torch.FloatTensor(X.to_numpy())\n",
    "test = torch.FloatTensor(test.to_numpy())\n",
    "y = torch.FloatTensor(y.to_numpy())"
   ]
  },
  {
   "cell_type": "code",
   "execution_count": 11,
   "id": "2ead31be",
   "metadata": {
    "execution": {
     "iopub.execute_input": "2021-09-26T15:58:41.523791Z",
     "iopub.status.busy": "2021-09-26T15:58:41.523086Z",
     "iopub.status.idle": "2021-09-26T15:58:48.464284Z",
     "shell.execute_reply": "2021-09-26T15:58:48.463458Z",
     "shell.execute_reply.started": "2021-09-26T15:57:25.540553Z"
    },
    "papermill": {
     "duration": 6.970287,
     "end_time": "2021-09-26T15:58:48.464511",
     "exception": false,
     "start_time": "2021-09-26T15:58:41.494224",
     "status": "completed"
    },
    "tags": []
   },
   "outputs": [
    {
     "name": "stdout",
     "output_type": "stream",
     "text": [
      "Epoch    0/20000   W:0.002283   b:-0.001499   Cost : 0.693147\n",
      "Epoch 5000/20000   W:1.114555   b:-0.871410   Cost : 0.462408\n",
      "Epoch 10000/20000   W:1.135442   b:-0.881154   Cost : 0.462370\n",
      "Epoch 15000/20000   W:1.136192   b:-0.881481   Cost : 0.462370\n",
      "Epoch 20000/20000   W:1.136192   b:-0.881481   Cost : 0.462370\n"
     ]
    }
   ],
   "source": [
    "W = torch.zeros((6, 1), requires_grad=True)\n",
    "b = torch.zeros(1, requires_grad=True)\n",
    "\n",
    "optimizer = optim.SGD([W, b], lr = 1e-2)\n",
    "nb_epochs = 20000\n",
    "for epoch in range(nb_epochs + 1):\n",
    "    hypothesis = torch.sigmoid(X_sc.matmul(W) + b)\n",
    "    \n",
    "    loss = torch.nn.BCELoss()\n",
    "    cost = loss(hypothesis, y.unsqueeze(1))\n",
    "    # cost = -(y*torch.log(hypothesis)+(1-y)*torch.log(1-hypothesis)).mean()\n",
    "\n",
    "    optimizer.zero_grad()\n",
    "    cost.backward()\n",
    "    optimizer.step()\n",
    "    \n",
    "    if epoch % 5000 == 0:\n",
    "        print('Epoch {:4d}/{}   W:{:.6f}   b:{:.6f}   Cost : {:.6f}'.format(\n",
    "            epoch, nb_epochs, W[0].item(), b.item(), cost.item()\n",
    "        ))"
   ]
  },
  {
   "cell_type": "code",
   "execution_count": 12,
   "id": "fdf29437",
   "metadata": {
    "execution": {
     "iopub.execute_input": "2021-09-26T15:58:48.512299Z",
     "iopub.status.busy": "2021-09-26T15:58:48.511604Z",
     "iopub.status.idle": "2021-09-26T15:58:48.514757Z",
     "shell.execute_reply": "2021-09-26T15:58:48.514255Z",
     "shell.execute_reply.started": "2021-09-26T15:57:32.222959Z"
    },
    "papermill": {
     "duration": 0.02861,
     "end_time": "2021-09-26T15:58:48.514916",
     "exception": false,
     "start_time": "2021-09-26T15:58:48.486306",
     "status": "completed"
    },
    "tags": []
   },
   "outputs": [],
   "source": [
    "# X_test = torch.FloatTensor(X_test.to_numpy())\n",
    "# y_test = torch.FloatTensor(y_test.to_numpy())"
   ]
  },
  {
   "cell_type": "code",
   "execution_count": 13,
   "id": "066c8a2c",
   "metadata": {
    "execution": {
     "iopub.execute_input": "2021-09-26T15:58:48.560361Z",
     "iopub.status.busy": "2021-09-26T15:58:48.559706Z",
     "iopub.status.idle": "2021-09-26T15:58:48.825882Z",
     "shell.execute_reply": "2021-09-26T15:58:48.825244Z",
     "shell.execute_reply.started": "2021-09-26T15:57:50.371183Z"
    },
    "papermill": {
     "duration": 0.29014,
     "end_time": "2021-09-26T15:58:48.826021",
     "exception": false,
     "start_time": "2021-09-26T15:58:48.535881",
     "status": "completed"
    },
    "tags": []
   },
   "outputs": [
    {
     "name": "stdout",
     "output_type": "stream",
     "text": [
      "0.45 77.65%\n",
      "0.451 77.65%\n",
      "0.452 77.65%\n",
      "0.453 77.65%\n",
      "0.454 77.84%\n",
      "0.455 77.84%\n",
      "0.456 77.65%\n",
      "0.457 77.65%\n",
      "0.458 77.65%\n",
      "0.459 77.65%\n",
      "0.46 77.65%\n",
      "0.461 77.65%\n",
      "0.462 77.65%\n",
      "0.463 77.65%\n",
      "0.464 77.65%\n",
      "0.465 77.84%\n",
      "0.466 77.65%\n",
      "0.467 77.47%\n",
      "0.468 77.65%\n",
      "0.46900000000000003 77.65%\n",
      "0.47000000000000003 77.65%\n",
      "0.47100000000000003 77.84%\n",
      "0.47200000000000003 77.84%\n",
      "0.47300000000000003 78.03%\n",
      "0.47400000000000003 78.03%\n",
      "0.47500000000000003 78.03%\n",
      "0.47600000000000003 78.03%\n",
      "0.47700000000000004 78.21%\n",
      "0.47800000000000004 78.21%\n",
      "0.47900000000000004 78.21%\n",
      "0.48 78.21%\n",
      "0.481 78.21%\n",
      "0.482 78.21%\n",
      "0.483 78.03%\n",
      "0.484 78.03%\n",
      "0.485 78.21%\n",
      "0.486 78.21%\n",
      "0.487 78.21%\n",
      "0.488 78.21%\n",
      "0.489 78.21%\n",
      "0.49 78.21%\n",
      "0.491 78.21%\n",
      "0.492 78.21%\n",
      "0.493 78.21%\n",
      "0.494 78.21%\n",
      "0.495 78.03%\n",
      "0.496 78.03%\n",
      "0.497 78.03%\n",
      "0.498 78.40%\n",
      "0.499 78.40%\n",
      "0.5 78.40%\n",
      "0.501 78.40%\n",
      "0.502 78.40%\n",
      "0.503 78.58%\n",
      "0.504 78.58%\n",
      "0.505 78.58%\n",
      "0.506 78.58%\n",
      "0.507 78.58%\n",
      "0.508 78.58%\n",
      "0.509 78.58%\n",
      "0.51 78.77%\n",
      "0.511 78.77%\n",
      "0.512 78.77%\n",
      "0.513 78.77%\n",
      "0.514 78.77%\n",
      "0.515 78.77%\n",
      "0.516 78.58%\n",
      "0.517 78.58%\n",
      "0.518 78.58%\n",
      "0.519 78.58%\n",
      "0.52 78.58%\n",
      "0.521 78.58%\n",
      "0.522 78.58%\n",
      "0.523 78.58%\n",
      "0.524 78.77%\n",
      "0.525 78.58%\n",
      "0.526 78.58%\n",
      "0.527 78.58%\n",
      "0.528 78.58%\n",
      "0.529 78.58%\n",
      "0.53 78.58%\n",
      "0.531 78.58%\n",
      "0.532 78.58%\n",
      "0.533 78.58%\n",
      "0.534 78.58%\n",
      "0.535 78.77%\n",
      "0.536 78.77%\n",
      "0.537 78.77%\n",
      "0.538 78.77%\n",
      "0.539 78.96%\n",
      "0.54 78.77%\n",
      "0.541 78.77%\n",
      "0.542 78.96%\n",
      "0.543 78.96%\n",
      "0.544 78.96%\n",
      "0.545 78.96%\n",
      "0.546 78.96%\n",
      "0.547 78.96%\n",
      "0.548 78.77%\n",
      "0.549 78.77%\n",
      "0.55 78.40%\n",
      "0.551 78.03%\n",
      "0.552 78.03%\n",
      "0.553 78.03%\n",
      "0.554 78.03%\n",
      "0.555 78.21%\n",
      "0.556 78.03%\n",
      "0.557 78.03%\n",
      "0.558 78.03%\n",
      "0.559 78.03%\n",
      "0.56 78.03%\n",
      "0.561 77.84%\n",
      "0.562 77.84%\n",
      "0.5630000000000001 77.84%\n",
      "0.5640000000000001 77.84%\n",
      "0.5650000000000001 77.47%\n",
      "0.5660000000000001 77.47%\n",
      "0.5670000000000001 77.47%\n",
      "0.5680000000000001 77.65%\n",
      "0.5690000000000001 77.65%\n",
      "0.5700000000000001 77.47%\n",
      "0.5710000000000001 77.84%\n",
      "0.5720000000000001 77.84%\n",
      "0.5730000000000001 77.84%\n",
      "0.5740000000000001 77.84%\n",
      "0.5750000000000001 77.84%\n",
      "0.5760000000000001 77.84%\n",
      "0.577 78.03%\n",
      "0.578 77.84%\n",
      "0.579 77.84%\n",
      "0.58 77.84%\n",
      "0.581 77.84%\n",
      "0.582 77.84%\n",
      "0.583 78.03%\n",
      "0.584 78.03%\n",
      "0.585 78.03%\n",
      "0.586 78.03%\n",
      "0.587 78.03%\n",
      "0.588 77.84%\n",
      "0.589 77.84%\n",
      "0.59 77.65%\n",
      "0.591 77.65%\n",
      "0.592 77.47%\n",
      "0.593 77.47%\n",
      "0.594 77.28%\n",
      "0.595 77.28%\n",
      "0.596 77.28%\n",
      "0.597 77.28%\n",
      "0.598 77.28%\n",
      "0.599 77.28%\n"
     ]
    },
    {
     "data": {
      "text/plain": [
       "[<matplotlib.lines.Line2D at 0x7fba5cfd9a10>]"
      ]
     },
     "execution_count": 13,
     "metadata": {},
     "output_type": "execute_result"
    },
    {
     "data": {
      "image/png": "[encoded data removed]",
      "text/plain": [
       "<Figure size 432x288 with 1 Axes>"
      ]
     },
     "metadata": {
      "needs_background": "light"
     },
     "output_type": "display_data"
    }
   ],
   "source": [
    "hypothesis = torch.sigmoid(X_sc.matmul(W) + b)\n",
    "# print(hypothesis[:10])\n",
    "\n",
    "list1 = []\n",
    "list2 = []\n",
    "for i in range(450, 600):\n",
    "\n",
    "    prediction = hypothesis >= torch.FloatTensor([i*0.001])\n",
    "    #print(prediction[prediction == True].sum())\n",
    "\n",
    "    correct_prediction = prediction.squeeze().float() == y\n",
    "    # print(correct_prediction.shape)\n",
    "\n",
    "    accuracy = correct_prediction.sum().item() / len(correct_prediction)\n",
    "    print('{} {:2.2f}%'.format(i*0.001, accuracy*100))\n",
    "    list1.append(i*0.001)\n",
    "    list2.append(accuracy*100)\n",
    "    \n",
    "plt.plot(list1, list2)\n",
    "# print(list2[:10])"
   ]
  },
  {
   "cell_type": "code",
   "execution_count": 14,
   "id": "7c110dab",
   "metadata": {
    "execution": {
     "iopub.execute_input": "2021-09-26T15:58:48.875381Z",
     "iopub.status.busy": "2021-09-26T15:58:48.874687Z",
     "iopub.status.idle": "2021-09-26T15:58:48.888601Z",
     "shell.execute_reply": "2021-09-26T15:58:48.889341Z",
     "shell.execute_reply.started": "2021-09-26T15:57:32.441409Z"
    },
    "papermill": {
     "duration": 0.040721,
     "end_time": "2021-09-26T15:58:48.889574",
     "exception": false,
     "start_time": "2021-09-26T15:58:48.848853",
     "status": "completed"
    },
    "tags": []
   },
   "outputs": [
    {
     "name": "stdout",
     "output_type": "stream",
     "text": [
      "tensor(144)\n",
      "0.599 78.77%\n"
     ]
    }
   ],
   "source": [
    "hypothesis = torch.sigmoid(X_sc.matmul(W) + b)\n",
    "# print(hypothesis[:20])\n",
    "prediction = hypothesis >= torch.FloatTensor([0.54])\n",
    "print(prediction[prediction == True].sum())\n",
    "correct_prediction = prediction.squeeze().float() == y\n",
    "\n",
    "accuracy = correct_prediction.sum().item() / len(correct_prediction)\n",
    "print('{} {:2.2f}%'.format(i*0.001, accuracy*100))"
   ]
  },
  {
   "cell_type": "code",
   "execution_count": 15,
   "id": "c1e23b83",
   "metadata": {
    "execution": {
     "iopub.execute_input": "2021-09-26T15:58:48.940899Z",
     "iopub.status.busy": "2021-09-26T15:58:48.940311Z",
     "iopub.status.idle": "2021-09-26T15:58:48.957375Z",
     "shell.execute_reply": "2021-09-26T15:58:48.957845Z",
     "shell.execute_reply.started": "2021-09-26T15:51:44.265665Z"
    },
    "papermill": {
     "duration": 0.04489,
     "end_time": "2021-09-26T15:58:48.958020",
     "exception": false,
     "start_time": "2021-09-26T15:58:48.913130",
     "status": "completed"
    },
    "tags": []
   },
   "outputs": [
    {
     "data": {
      "text/html": [
       "<div>\n",
       "<style scoped>\n",
       "    .dataframe tbody tr th:only-of-type {\n",
       "        vertical-align: middle;\n",
       "    }\n",
       "\n",
       "    .dataframe tbody tr th {\n",
       "        vertical-align: top;\n",
       "    }\n",
       "\n",
       "    .dataframe thead th {\n",
       "        text-align: right;\n",
       "    }\n",
       "</style>\n",
       "<table border=\"1\" class=\"dataframe\">\n",
       "  <thead>\n",
       "    <tr style=\"text-align: right;\">\n",
       "      <th></th>\n",
       "      <th>ID</th>\n",
       "      <th>Diabetes</th>\n",
       "    </tr>\n",
       "  </thead>\n",
       "  <tbody>\n",
       "    <tr>\n",
       "      <th>0</th>\n",
       "      <td>0</td>\n",
       "      <td>0</td>\n",
       "    </tr>\n",
       "    <tr>\n",
       "      <th>1</th>\n",
       "      <td>1</td>\n",
       "      <td>0</td>\n",
       "    </tr>\n",
       "    <tr>\n",
       "      <th>2</th>\n",
       "      <td>2</td>\n",
       "      <td>0</td>\n",
       "    </tr>\n",
       "    <tr>\n",
       "      <th>3</th>\n",
       "      <td>3</td>\n",
       "      <td>0</td>\n",
       "    </tr>\n",
       "    <tr>\n",
       "      <th>4</th>\n",
       "      <td>4</td>\n",
       "      <td>0</td>\n",
       "    </tr>\n",
       "  </tbody>\n",
       "</table>\n",
       "</div>"
      ],
      "text/plain": [
       "   ID  Diabetes\n",
       "0   0         0\n",
       "1   1         0\n",
       "2   2         0\n",
       "3   3         0\n",
       "4   4         0"
      ]
     },
     "execution_count": 15,
     "metadata": {},
     "output_type": "execute_result"
    }
   ],
   "source": [
    "submit = pd.read_csv('/kaggle/input/2021-ai-w4-p1/submit.csv')\n",
    "submit.head()\n"
   ]
  },
  {
   "cell_type": "code",
   "execution_count": 16,
   "id": "ca800d4b",
   "metadata": {
    "execution": {
     "iopub.execute_input": "2021-09-26T15:58:49.008861Z",
     "iopub.status.busy": "2021-09-26T15:58:49.007930Z",
     "iopub.status.idle": "2021-09-26T15:58:49.025178Z",
     "shell.execute_reply": "2021-09-26T15:58:49.024421Z",
     "shell.execute_reply.started": "2021-09-26T15:51:46.359691Z"
    },
    "papermill": {
     "duration": 0.04401,
     "end_time": "2021-09-26T15:58:49.025364",
     "exception": false,
     "start_time": "2021-09-26T15:58:48.981354",
     "status": "completed"
    },
    "tags": []
   },
   "outputs": [
    {
     "name": "stdout",
     "output_type": "stream",
     "text": [
      "72\n"
     ]
    }
   ],
   "source": [
    "hypothesis = torch.sigmoid(test_sc.matmul(W) + b)\n",
    "prediction = hypothesis >= torch.FloatTensor([0.54])\n",
    "\n",
    "sum = 0\n",
    "for a in range(len(prediction)):\n",
    "    if prediction[a]==1:\n",
    "        sum = sum + 1\n",
    "        \n",
    "print(sum)\n",
    "\n",
    "submit['Diabetes'] = prediction.squeeze().int()"
   ]
  },
  {
   "cell_type": "code",
   "execution_count": 17,
   "id": "dad47360",
   "metadata": {
    "execution": {
     "iopub.execute_input": "2021-09-26T15:58:49.077036Z",
     "iopub.status.busy": "2021-09-26T15:58:49.076110Z",
     "iopub.status.idle": "2021-09-26T15:58:49.087365Z",
     "shell.execute_reply": "2021-09-26T15:58:49.086809Z",
     "shell.execute_reply.started": "2021-09-26T15:28:03.942472Z"
    },
    "papermill": {
     "duration": 0.038006,
     "end_time": "2021-09-26T15:58:49.087495",
     "exception": false,
     "start_time": "2021-09-26T15:58:49.049489",
     "status": "completed"
    },
    "tags": []
   },
   "outputs": [
    {
     "data": {
      "text/html": [
       "<div>\n",
       "<style scoped>\n",
       "    .dataframe tbody tr th:only-of-type {\n",
       "        vertical-align: middle;\n",
       "    }\n",
       "\n",
       "    .dataframe tbody tr th {\n",
       "        vertical-align: top;\n",
       "    }\n",
       "\n",
       "    .dataframe thead th {\n",
       "        text-align: right;\n",
       "    }\n",
       "</style>\n",
       "<table border=\"1\" class=\"dataframe\">\n",
       "  <thead>\n",
       "    <tr style=\"text-align: right;\">\n",
       "      <th></th>\n",
       "      <th>ID</th>\n",
       "      <th>Diabetes</th>\n",
       "    </tr>\n",
       "  </thead>\n",
       "  <tbody>\n",
       "    <tr>\n",
       "      <th>0</th>\n",
       "      <td>0</td>\n",
       "      <td>0</td>\n",
       "    </tr>\n",
       "    <tr>\n",
       "      <th>1</th>\n",
       "      <td>1</td>\n",
       "      <td>0</td>\n",
       "    </tr>\n",
       "    <tr>\n",
       "      <th>2</th>\n",
       "      <td>2</td>\n",
       "      <td>0</td>\n",
       "    </tr>\n",
       "    <tr>\n",
       "      <th>3</th>\n",
       "      <td>3</td>\n",
       "      <td>0</td>\n",
       "    </tr>\n",
       "    <tr>\n",
       "      <th>4</th>\n",
       "      <td>4</td>\n",
       "      <td>0</td>\n",
       "    </tr>\n",
       "    <tr>\n",
       "      <th>...</th>\n",
       "      <td>...</td>\n",
       "      <td>...</td>\n",
       "    </tr>\n",
       "    <tr>\n",
       "      <th>226</th>\n",
       "      <td>226</td>\n",
       "      <td>0</td>\n",
       "    </tr>\n",
       "    <tr>\n",
       "      <th>227</th>\n",
       "      <td>227</td>\n",
       "      <td>0</td>\n",
       "    </tr>\n",
       "    <tr>\n",
       "      <th>228</th>\n",
       "      <td>228</td>\n",
       "      <td>0</td>\n",
       "    </tr>\n",
       "    <tr>\n",
       "      <th>229</th>\n",
       "      <td>229</td>\n",
       "      <td>0</td>\n",
       "    </tr>\n",
       "    <tr>\n",
       "      <th>230</th>\n",
       "      <td>230</td>\n",
       "      <td>0</td>\n",
       "    </tr>\n",
       "  </tbody>\n",
       "</table>\n",
       "<p>231 rows × 2 columns</p>\n",
       "</div>"
      ],
      "text/plain": [
       "      ID  Diabetes\n",
       "0      0         0\n",
       "1      1         0\n",
       "2      2         0\n",
       "3      3         0\n",
       "4      4         0\n",
       "..   ...       ...\n",
       "226  226         0\n",
       "227  227         0\n",
       "228  228         0\n",
       "229  229         0\n",
       "230  230         0\n",
       "\n",
       "[231 rows x 2 columns]"
      ]
     },
     "execution_count": 17,
     "metadata": {},
     "output_type": "execute_result"
    }
   ],
   "source": [
    "submit"
   ]
  },
  {
   "cell_type": "code",
   "execution_count": 18,
   "id": "584efcb9",
   "metadata": {
    "execution": {
     "iopub.execute_input": "2021-09-26T15:58:49.138385Z",
     "iopub.status.busy": "2021-09-26T15:58:49.137749Z",
     "iopub.status.idle": "2021-09-26T15:58:49.145956Z",
     "shell.execute_reply": "2021-09-26T15:58:49.145444Z",
     "shell.execute_reply.started": "2021-09-26T15:28:15.008525Z"
    },
    "papermill": {
     "duration": 0.034866,
     "end_time": "2021-09-26T15:58:49.146085",
     "exception": false,
     "start_time": "2021-09-26T15:58:49.111219",
     "status": "completed"
    },
    "tags": []
   },
   "outputs": [],
   "source": [
    "submit.to_csv('submit.csv', index=False)"
   ]
  },
  {
   "cell_type": "code",
   "execution_count": null,
   "id": "93d84c78",
   "metadata": {
    "papermill": {
     "duration": 0.023405,
     "end_time": "2021-09-26T15:58:49.193505",
     "exception": false,
     "start_time": "2021-09-26T15:58:49.170100",
     "status": "completed"
    },
    "tags": []
   },
   "outputs": [],
   "source": []
  }
 ],
 "metadata": {
  "kernelspec": {
   "display_name": "Python 3",
   "language": "python",
   "name": "python3"
  },
  "language_info": {
   "codemirror_mode": {
    "name": "ipython",
    "version": 3
   },
   "file_extension": ".py",
   "mimetype": "text/x-python",
   "name": "python",
   "nbconvert_exporter": "python",
   "pygments_lexer": "ipython3",
   "version": "3.7.10"
  },
  "papermill": {
   "default_parameters": {},
   "duration": 20.735021,
   "end_time": "2021-09-26T15:58:50.661871",
   "environment_variables": {},
   "exception": null,
   "input_path": "__notebook__.ipynb",
   "output_path": "__notebook__.ipynb",
   "parameters": {},
   "start_time": "2021-09-26T15:58:29.926850",
   "version": "2.3.3"
  }
 },
 "nbformat": 4,
 "nbformat_minor": 5
}

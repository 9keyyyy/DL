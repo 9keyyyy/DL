{
 "cells": [
  {
   "cell_type": "code",
   "execution_count": 1,
   "id": "50054572",
   "metadata": {
    "_cell_guid": "b1076dfc-b9ad-4769-8c92-a6c4dae69d19",
    "_uuid": "8f2839f25d086af736a60e9eeb907d3b93b6e0e5",
    "execution": {
     "iopub.execute_input": "2021-12-04T18:23:03.851048Z",
     "iopub.status.busy": "2021-12-04T18:23:03.849535Z",
     "iopub.status.idle": "2021-12-04T18:23:05.596855Z",
     "shell.execute_reply": "2021-12-04T18:23:05.597613Z",
     "shell.execute_reply.started": "2021-12-04T17:46:12.592252Z"
    },
    "papermill": {
     "duration": 1.781026,
     "end_time": "2021-12-04T18:23:05.597960",
     "exception": false,
     "start_time": "2021-12-04T18:23:03.816934",
     "status": "completed"
    },
    "tags": []
   },
   "outputs": [],
   "source": [
    "# This Python 3 environment comes with many helpful analytics libraries installed\n",
    "# It is defined by the kaggle/python Docker image: https://github.com/kaggle/docker-python\n",
    "# For example, here's several helpful packages to load\n",
    "\n",
    "import numpy as np # linear algebra\n",
    "import pandas as pd # data processing, CSV file I/O (e.g. pd.read_csv)\n",
    "import torch\n",
    "import torch.optim as optim\n",
    "\n",
    "torch.manual_seed(1)\n",
    "\n",
    "import torchvision\n",
    "from torchvision import models\n",
    "import torchvision.transforms as transforms\n",
    "\n",
    "device = 'cuda' if torch.cuda.is_available() else 'cpu'\n",
    "if device == 'cuda':\n",
    "    torch.cuda.manual_seed_all(1)\n",
    "\n",
    "import random\n",
    "random.seed(1)\n",
    "# Input data files are available in the read-only \"../input/\" directory\n",
    "# For example, running this (by clicking run or pressing Shift+Enter) will list all files under the input directory\n",
    "\n",
    "import os\n",
    "# for dirname, _, filenames in os.walk('/kaggle/input'):\n",
    "#     for filename in filenames:\n",
    "#         print(os.path.join(dirname, filename))\n",
    "\n",
    "# You can write up to 20GB to the current directory (/kaggle/working/) that gets preserved as output when you create a version using \"Save & Run All\" \n",
    "# You can also write temporary files to /kaggle/temp/, but they won't be saved outside of the current session"
   ]
  },
  {
   "cell_type": "code",
   "execution_count": 2,
   "id": "ba89e12f",
   "metadata": {
    "execution": {
     "iopub.execute_input": "2021-12-04T18:23:05.642266Z",
     "iopub.status.busy": "2021-12-04T18:23:05.641510Z",
     "iopub.status.idle": "2021-12-04T18:23:07.339356Z",
     "shell.execute_reply": "2021-12-04T18:23:07.338847Z",
     "shell.execute_reply.started": "2021-12-04T17:46:12.617415Z"
    },
    "papermill": {
     "duration": 1.724237,
     "end_time": "2021-12-04T18:23:07.339496",
     "exception": false,
     "start_time": "2021-12-04T18:23:05.615259",
     "status": "completed"
    },
    "tags": []
   },
   "outputs": [],
   "source": [
    "from PIL import Image\n",
    "from glob import glob\n",
    "import os\n",
    "from os.path import join\n",
    "\n",
    "class ImageLoader(torch.utils.data.Dataset):\n",
    "    def __init__(self, path, flag=\"\", transform=None):\n",
    "        self.transform = transform\n",
    "        self.data = path\n",
    "        self.flag = flag\n",
    "#         /kaggle/input/2021-ai-w10-p2/images/images/4/rangifer_tarandus_s_001241.png\n",
    "        if self.flag==\"train\":\n",
    "            self.label = [int(p.split('/')[-2]) for p in path]\n",
    "        self.data_len = len(self.data)\n",
    "        \n",
    "    def __len__(self):\n",
    "        return self.data_len\n",
    "    \n",
    "    def __getitem__(self, index):\n",
    "        image = Image.open(self.data[index], mode='r')\n",
    "        image = image.convert('RGB')\n",
    "        \n",
    "        if self.transform:\n",
    "            image = self.transform(image)\n",
    "        \n",
    "        if self.flag==\"train\":\n",
    "#             self.label[index] = self.label[index].to_numpy()\n",
    "            return image, self.label[index]\n",
    "        elif self.flag=='test':\n",
    "            return image\n",
    "            \n",
    "\n",
    "transform = transforms.Compose([\n",
    "    transforms.Resize((224, 224)),\n",
    "    transforms.ToTensor(),\n",
    "    transforms.Normalize((0.5, 0.5, 0.5), (0.5, 0.5, 0.5))\n",
    "])\n",
    "\n",
    "train_path = '/kaggle/input/2021-ai-w10-p2/images/images/'\n",
    "test_path = '/kaggle/input/2021-ai-w10-p2/test_data/test_data'\n",
    "\n",
    "train_img_path = glob(join(train_path, \"*\", '*'))\n",
    "test_img_path = glob(join(test_path, \"*\"))"
   ]
  },
  {
   "cell_type": "code",
   "execution_count": 3,
   "id": "059776f4",
   "metadata": {
    "execution": {
     "iopub.execute_input": "2021-12-04T18:23:07.371819Z",
     "iopub.status.busy": "2021-12-04T18:23:07.370280Z",
     "iopub.status.idle": "2021-12-04T18:23:07.372453Z",
     "shell.execute_reply": "2021-12-04T18:23:07.372851Z",
     "shell.execute_reply.started": "2021-12-04T17:46:12.994404Z"
    },
    "papermill": {
     "duration": 0.023137,
     "end_time": "2021-12-04T18:23:07.372969",
     "exception": false,
     "start_time": "2021-12-04T18:23:07.349832",
     "status": "completed"
    },
    "tags": []
   },
   "outputs": [],
   "source": [
    "test_paths=[]\n",
    "for i in range(len(test_img_path)):\n",
    "    test_paths.append(test_path+'/'+str(i)+'.png')"
   ]
  },
  {
   "cell_type": "code",
   "execution_count": 4,
   "id": "f80b0cf1",
   "metadata": {
    "execution": {
     "iopub.execute_input": "2021-12-04T18:23:07.423126Z",
     "iopub.status.busy": "2021-12-04T18:23:07.421688Z",
     "iopub.status.idle": "2021-12-04T18:23:07.423736Z",
     "shell.execute_reply": "2021-12-04T18:23:07.424147Z",
     "shell.execute_reply.started": "2021-12-04T17:46:13.036753Z"
    },
    "papermill": {
     "duration": 0.041342,
     "end_time": "2021-12-04T18:23:07.424289",
     "exception": false,
     "start_time": "2021-12-04T18:23:07.382947",
     "status": "completed"
    },
    "tags": []
   },
   "outputs": [],
   "source": [
    "X = ImageLoader(train_img_path, 'train', transform)\n",
    "test = ImageLoader(test_paths, 'test', transform)"
   ]
  },
  {
   "cell_type": "code",
   "execution_count": 5,
   "id": "2bc11c91",
   "metadata": {
    "execution": {
     "iopub.execute_input": "2021-12-04T18:23:07.450116Z",
     "iopub.status.busy": "2021-12-04T18:23:07.448579Z",
     "iopub.status.idle": "2021-12-04T18:23:07.450697Z",
     "shell.execute_reply": "2021-12-04T18:23:07.451071Z",
     "shell.execute_reply.started": "2021-12-04T17:46:13.143767Z"
    },
    "papermill": {
     "duration": 0.016931,
     "end_time": "2021-12-04T18:23:07.451216",
     "exception": false,
     "start_time": "2021-12-04T18:23:07.434285",
     "status": "completed"
    },
    "tags": []
   },
   "outputs": [],
   "source": [
    "trainloader = torch.utils.data.DataLoader(X, batch_size = 100, shuffle=True, drop_last=True)\n",
    "testloader = torch.utils.data.DataLoader(test, batch_size = 100, shuffle=False, drop_last=True)"
   ]
  },
  {
   "cell_type": "code",
   "execution_count": 6,
   "id": "5f581261",
   "metadata": {
    "execution": {
     "iopub.execute_input": "2021-12-04T18:23:07.474960Z",
     "iopub.status.busy": "2021-12-04T18:23:07.474141Z",
     "iopub.status.idle": "2021-12-04T18:23:16.323397Z",
     "shell.execute_reply": "2021-12-04T18:23:16.321693Z"
    },
    "papermill": {
     "duration": 8.862406,
     "end_time": "2021-12-04T18:23:16.323624",
     "exception": false,
     "start_time": "2021-12-04T18:23:07.461218",
     "status": "completed"
    },
    "tags": []
   },
   "outputs": [
    {
     "name": "stdout",
     "output_type": "stream",
     "text": [
      "Collecting timm\r\n",
      "  Downloading timm-0.4.12-py3-none-any.whl (376 kB)\r\n",
      "     |████████████████████████████████| 376 kB 5.0 MB/s            \r\n",
      "\u001b[?25hRequirement already satisfied: torchvision in /opt/conda/lib/python3.7/site-packages (from timm) (0.10.1)\r\n",
      "Requirement already satisfied: torch>=1.4 in /opt/conda/lib/python3.7/site-packages (from timm) (1.9.1)\r\n",
      "Requirement already satisfied: typing-extensions in /opt/conda/lib/python3.7/site-packages (from torch>=1.4->timm) (3.10.0.2)\r\n",
      "Requirement already satisfied: pillow>=5.3.0 in /opt/conda/lib/python3.7/site-packages (from torchvision->timm) (8.2.0)\r\n",
      "Requirement already satisfied: numpy in /opt/conda/lib/python3.7/site-packages (from torchvision->timm) (1.19.5)\r\n",
      "Installing collected packages: timm\r\n",
      "Successfully installed timm-0.4.12\r\n",
      "\u001b[33mWARNING: Running pip as the 'root' user can result in broken permissions and conflicting behaviour with the system package manager. It is recommended to use a virtual environment instead: https://pip.pypa.io/warnings/venv\u001b[0m\r\n"
     ]
    }
   ],
   "source": [
    "!pip install timm"
   ]
  },
  {
   "cell_type": "code",
   "execution_count": 7,
   "id": "9610ba44",
   "metadata": {
    "execution": {
     "iopub.execute_input": "2021-12-04T18:23:16.369783Z",
     "iopub.status.busy": "2021-12-04T18:23:16.368929Z",
     "iopub.status.idle": "2021-12-04T18:23:16.372297Z",
     "shell.execute_reply": "2021-12-04T18:23:16.372899Z",
     "shell.execute_reply.started": "2021-12-04T17:46:13.184575Z"
    },
    "papermill": {
     "duration": 0.028908,
     "end_time": "2021-12-04T18:23:16.373094",
     "exception": false,
     "start_time": "2021-12-04T18:23:16.344186",
     "status": "completed"
    },
    "tags": []
   },
   "outputs": [],
   "source": [
    "# import timm\n",
    "# resnet = timm.create_model(model_name='efficientnet_b0',\n",
    "#                          pretrained=True, num_classes=10)\n",
    "# resnet = resnet.to(device)\n"
   ]
  },
  {
   "cell_type": "code",
   "execution_count": 8,
   "id": "daf0887c",
   "metadata": {
    "execution": {
     "iopub.execute_input": "2021-12-04T18:23:16.421711Z",
     "iopub.status.busy": "2021-12-04T18:23:16.420868Z",
     "iopub.status.idle": "2021-12-04T18:23:20.428160Z",
     "shell.execute_reply": "2021-12-04T18:23:20.427659Z",
     "shell.execute_reply.started": "2021-12-04T17:46:13.200268Z"
    },
    "papermill": {
     "duration": 4.035727,
     "end_time": "2021-12-04T18:23:20.428318",
     "exception": false,
     "start_time": "2021-12-04T18:23:16.392591",
     "status": "completed"
    },
    "tags": []
   },
   "outputs": [
    {
     "name": "stderr",
     "output_type": "stream",
     "text": [
      "Downloading: \"https://download.pytorch.org/models/resnet50-0676ba61.pth\" to /root/.cache/torch/hub/checkpoints/resnet50-0676ba61.pth\n"
     ]
    },
    {
     "data": {
      "application/vnd.jupyter.widget-view+json": {
       "model_id": "1308690612d14ffebbb5468af36f6763",
       "version_major": 2,
       "version_minor": 0
      },
      "text/plain": [
       "  0%|          | 0.00/97.8M [00:00<?, ?B/s]"
      ]
     },
     "metadata": {},
     "output_type": "display_data"
    }
   ],
   "source": [
    "resnet = models.resnet50(pretrained=True)\n",
    "\n",
    "# resnet.fc.out_features=10\n",
    "\n",
    "resnet.layer1.requires_grad=False\n",
    "resnet.layer2.requires_grad=False\n",
    "resnet.layer3.requires_grad=False\n",
    "resnet.layer4.requires_grad=False\n",
    "\n",
    "linear1 = torch.nn.Linear(1000, 512)\n",
    "linear2 = torch.nn.Linear(512, 256)\n",
    "linear3 = torch.nn.Linear(256, 10)\n",
    "\n",
    "torch.nn.init.xavier_normal_(linear1.weight)\n",
    "torch.nn.init.xavier_normal_(linear2.weight)\n",
    "torch.nn.init.xavier_normal_(linear2.weight)\n",
    "\n",
    "dropout = torch.nn.Dropout(0.2)\n",
    "relu = torch.nn.ReLU()\n",
    "\n",
    "resnet = torch.nn.Sequential(resnet, relu, dropout,\n",
    "                            linear1, relu, dropout,\n",
    "                            linear2)"
   ]
  },
  {
   "cell_type": "code",
   "execution_count": 9,
   "id": "150945cc",
   "metadata": {
    "execution": {
     "iopub.execute_input": "2021-12-04T18:23:20.463398Z",
     "iopub.status.busy": "2021-12-04T18:23:20.462766Z",
     "iopub.status.idle": "2021-12-04T18:55:44.357464Z",
     "shell.execute_reply": "2021-12-04T18:55:44.358066Z",
     "shell.execute_reply.started": "2021-12-04T17:46:13.955367Z"
    },
    "papermill": {
     "duration": 1943.917034,
     "end_time": "2021-12-04T18:55:44.358283",
     "exception": false,
     "start_time": "2021-12-04T18:23:20.441249",
     "status": "completed"
    },
    "tags": []
   },
   "outputs": [
    {
     "name": "stdout",
     "output_type": "stream",
     "text": [
      "0 tensor(0.5231, device='cuda:0', grad_fn=<AddBackward0>) 0.8463199999999996\n",
      "1 tensor(0.1220, device='cuda:0', grad_fn=<AddBackward0>) 0.9605200000000015\n",
      "2 tensor(0.0601, device='cuda:0', grad_fn=<AddBackward0>) 0.9804399999999989\n",
      "3 tensor(0.0278, device='cuda:0', grad_fn=<AddBackward0>) 0.9913399999999974\n",
      "4 tensor(0.0159, device='cuda:0', grad_fn=<AddBackward0>) 0.9949999999999977\n"
     ]
    }
   ],
   "source": [
    "resnet = resnet.to(device)\n",
    "loss = torch.nn.CrossEntropyLoss()\n",
    "optimizer = optim.SGD(resnet.parameters(), lr=1e-3, momentum=0.9)\n",
    "total = len(trainloader)\n",
    "\n",
    "resnet.train()\n",
    "for epoch in range(5):\n",
    "    avgcost = 0\n",
    "    avgacc = 0\n",
    "    for X, Y in trainloader:\n",
    "        X = X.to(device)\n",
    "        Y = Y.to(device)\n",
    "        \n",
    "        optimizer.zero_grad()\n",
    "        hypothesis = resnet(X)\n",
    "        cost = loss(hypothesis, Y)\n",
    "        cost.backward()\n",
    "        optimizer.step()\n",
    "        \n",
    "        predict = torch.argmax(hypothesis, dim=1).cpu()\n",
    "        cor = predict == Y.cpu()\n",
    "        acc = cor.sum().item()/len(cor)\n",
    "        \n",
    "        avgcost += cost/total\n",
    "        avgacc += acc/total\n",
    "    print(epoch, avgcost, avgacc)\n",
    "        "
   ]
  },
  {
   "cell_type": "code",
   "execution_count": 10,
   "id": "5815d786",
   "metadata": {
    "execution": {
     "iopub.execute_input": "2021-12-04T18:55:44.390607Z",
     "iopub.status.busy": "2021-12-04T18:55:44.390059Z",
     "iopub.status.idle": "2021-12-04T18:55:44.406758Z",
     "shell.execute_reply": "2021-12-04T18:55:44.406343Z",
     "shell.execute_reply.started": "2021-12-04T18:13:23.066910Z"
    },
    "papermill": {
     "duration": 0.034083,
     "end_time": "2021-12-04T18:55:44.406863",
     "exception": false,
     "start_time": "2021-12-04T18:55:44.372780",
     "status": "completed"
    },
    "tags": []
   },
   "outputs": [],
   "source": [
    "sample = pd.read_csv('/kaggle/input/2021-ai-w10-p2/format.csv')"
   ]
  },
  {
   "cell_type": "code",
   "execution_count": 11,
   "id": "e6247bf5",
   "metadata": {
    "execution": {
     "iopub.execute_input": "2021-12-04T18:55:44.440155Z",
     "iopub.status.busy": "2021-12-04T18:55:44.439665Z",
     "iopub.status.idle": "2021-12-04T18:57:02.267640Z",
     "shell.execute_reply": "2021-12-04T18:57:02.266676Z",
     "shell.execute_reply.started": "2021-12-04T18:13:23.088335Z"
    },
    "papermill": {
     "duration": 77.847288,
     "end_time": "2021-12-04T18:57:02.267800",
     "exception": false,
     "start_time": "2021-12-04T18:55:44.420512",
     "status": "completed"
    },
    "tags": []
   },
   "outputs": [],
   "source": [
    "resnet.eval()\n",
    "idx = 0\n",
    "\n",
    "with torch.no_grad():\n",
    "    for X in testloader:\n",
    "        X = X.to(device)\n",
    "        predict = torch.argmax(resnet(X), dim=1).cpu().detach().numpy()\n",
    "        for i in range(predict.shape[0]):\n",
    "            sample['label'][idx] = predict[i]\n",
    "            idx += 1\n"
   ]
  },
  {
   "cell_type": "code",
   "execution_count": 12,
   "id": "3e939e4c",
   "metadata": {
    "execution": {
     "iopub.execute_input": "2021-12-04T18:57:02.302360Z",
     "iopub.status.busy": "2021-12-04T18:57:02.301528Z",
     "iopub.status.idle": "2021-12-04T18:57:02.312152Z",
     "shell.execute_reply": "2021-12-04T18:57:02.311697Z",
     "shell.execute_reply.started": "2021-12-04T18:14:10.758473Z"
    },
    "papermill": {
     "duration": 0.030501,
     "end_time": "2021-12-04T18:57:02.312291",
     "exception": false,
     "start_time": "2021-12-04T18:57:02.281790",
     "status": "completed"
    },
    "tags": []
   },
   "outputs": [
    {
     "data": {
      "text/html": [
       "<div>\n",
       "<style scoped>\n",
       "    .dataframe tbody tr th:only-of-type {\n",
       "        vertical-align: middle;\n",
       "    }\n",
       "\n",
       "    .dataframe tbody tr th {\n",
       "        vertical-align: top;\n",
       "    }\n",
       "\n",
       "    .dataframe thead th {\n",
       "        text-align: right;\n",
       "    }\n",
       "</style>\n",
       "<table border=\"1\" class=\"dataframe\">\n",
       "  <thead>\n",
       "    <tr style=\"text-align: right;\">\n",
       "      <th></th>\n",
       "      <th>id</th>\n",
       "      <th>label</th>\n",
       "    </tr>\n",
       "  </thead>\n",
       "  <tbody>\n",
       "    <tr>\n",
       "      <th>0</th>\n",
       "      <td>1</td>\n",
       "      <td>3</td>\n",
       "    </tr>\n",
       "    <tr>\n",
       "      <th>1</th>\n",
       "      <td>2</td>\n",
       "      <td>8</td>\n",
       "    </tr>\n",
       "    <tr>\n",
       "      <th>2</th>\n",
       "      <td>3</td>\n",
       "      <td>8</td>\n",
       "    </tr>\n",
       "    <tr>\n",
       "      <th>3</th>\n",
       "      <td>4</td>\n",
       "      <td>0</td>\n",
       "    </tr>\n",
       "    <tr>\n",
       "      <th>4</th>\n",
       "      <td>5</td>\n",
       "      <td>6</td>\n",
       "    </tr>\n",
       "    <tr>\n",
       "      <th>...</th>\n",
       "      <td>...</td>\n",
       "      <td>...</td>\n",
       "    </tr>\n",
       "    <tr>\n",
       "      <th>9995</th>\n",
       "      <td>9996</td>\n",
       "      <td>8</td>\n",
       "    </tr>\n",
       "    <tr>\n",
       "      <th>9996</th>\n",
       "      <td>9997</td>\n",
       "      <td>3</td>\n",
       "    </tr>\n",
       "    <tr>\n",
       "      <th>9997</th>\n",
       "      <td>9998</td>\n",
       "      <td>5</td>\n",
       "    </tr>\n",
       "    <tr>\n",
       "      <th>9998</th>\n",
       "      <td>9999</td>\n",
       "      <td>1</td>\n",
       "    </tr>\n",
       "    <tr>\n",
       "      <th>9999</th>\n",
       "      <td>10000</td>\n",
       "      <td>7</td>\n",
       "    </tr>\n",
       "  </tbody>\n",
       "</table>\n",
       "<p>10000 rows × 2 columns</p>\n",
       "</div>"
      ],
      "text/plain": [
       "         id  label\n",
       "0         1      3\n",
       "1         2      8\n",
       "2         3      8\n",
       "3         4      0\n",
       "4         5      6\n",
       "...     ...    ...\n",
       "9995   9996      8\n",
       "9996   9997      3\n",
       "9997   9998      5\n",
       "9998   9999      1\n",
       "9999  10000      7\n",
       "\n",
       "[10000 rows x 2 columns]"
      ]
     },
     "execution_count": 12,
     "metadata": {},
     "output_type": "execute_result"
    }
   ],
   "source": [
    "sample"
   ]
  },
  {
   "cell_type": "code",
   "execution_count": 13,
   "id": "b97d7519",
   "metadata": {
    "execution": {
     "iopub.execute_input": "2021-12-04T18:57:02.344836Z",
     "iopub.status.busy": "2021-12-04T18:57:02.344150Z",
     "iopub.status.idle": "2021-12-04T18:57:02.363773Z",
     "shell.execute_reply": "2021-12-04T18:57:02.363362Z",
     "shell.execute_reply.started": "2021-12-04T18:14:10.794064Z"
    },
    "papermill": {
     "duration": 0.037314,
     "end_time": "2021-12-04T18:57:02.363878",
     "exception": false,
     "start_time": "2021-12-04T18:57:02.326564",
     "status": "completed"
    },
    "tags": []
   },
   "outputs": [],
   "source": [
    "sample.to_csv('submit.csv', index=False)"
   ]
  },
  {
   "cell_type": "code",
   "execution_count": null,
   "id": "88cbf26f",
   "metadata": {
    "papermill": {
     "duration": 0.013705,
     "end_time": "2021-12-04T18:57:02.391597",
     "exception": false,
     "start_time": "2021-12-04T18:57:02.377892",
     "status": "completed"
    },
    "tags": []
   },
   "outputs": [],
   "source": []
  }
 ],
 "metadata": {
  "kernelspec": {
   "display_name": "Python 3",
   "language": "python",
   "name": "python3"
  },
  "language_info": {
   "codemirror_mode": {
    "name": "ipython",
    "version": 3
   },
   "file_extension": ".py",
   "mimetype": "text/x-python",
   "name": "python",
   "nbconvert_exporter": "python",
   "pygments_lexer": "ipython3",
   "version": "3.7.12"
  },
  "papermill": {
   "default_parameters": {},
   "duration": 2047.969203,
   "end_time": "2021-12-04T18:57:03.819272",
   "environment_variables": {},
   "exception": null,
   "input_path": "__notebook__.ipynb",
   "output_path": "__notebook__.ipynb",
   "parameters": {},
   "start_time": "2021-12-04T18:22:55.850069",
   "version": "2.3.3"
  },
  "widgets": {
   "application/vnd.jupyter.widget-state+json": {
    "state": {
     "1308690612d14ffebbb5468af36f6763": {
      "model_module": "@jupyter-widgets/controls",
      "model_module_version": "1.5.0",
      "model_name": "HBoxModel",
      "state": {
       "_dom_classes": [],
       "_model_module": "@jupyter-widgets/controls",
       "_model_module_version": "1.5.0",
       "_model_name": "HBoxModel",
       "_view_count": null,
       "_view_module": "@jupyter-widgets/controls",
       "_view_module_version": "1.5.0",
       "_view_name": "HBoxView",
       "box_style": "",
       "children": [
        "IPY_MODEL_8d3a2d018805478ca82ef0fa9609c9b3",
        "IPY_MODEL_7750b7950d6d45c6b9f87defb92d007f",
        "IPY_MODEL_8d0a1fb278c345f8bcf57696f6177bdd"
       ],
       "layout": "IPY_MODEL_2a0f9fc2849e4fbcb46507ebd82aca5c"
      }
     },
     "2a0f9fc2849e4fbcb46507ebd82aca5c": {
      "model_module": "@jupyter-widgets/base",
      "model_module_version": "1.2.0",
      "model_name": "LayoutModel",
      "state": {
       "_model_module": "@jupyter-widgets/base",
       "_model_module_version": "1.2.0",
       "_model_name": "LayoutModel",
       "_view_count": null,
       "_view_module": "@jupyter-widgets/base",
       "_view_module_version": "1.2.0",
       "_view_name": "LayoutView",
       "align_content": null,
       "align_items": null,
       "align_self": null,
       "border": null,
       "bottom": null,
       "display": null,
       "flex": null,
       "flex_flow": null,
       "grid_area": null,
       "grid_auto_columns": null,
       "grid_auto_flow": null,
       "grid_auto_rows": null,
       "grid_column": null,
       "grid_gap": null,
       "grid_row": null,
       "grid_template_areas": null,
       "grid_template_columns": null,
       "grid_template_rows": null,
       "height": null,
       "justify_content": null,
       "justify_items": null,
       "left": null,
       "margin": null,
       "max_height": null,
       "max_width": null,
       "min_height": null,
       "min_width": null,
       "object_fit": null,
       "object_position": null,
       "order": null,
       "overflow": null,
       "overflow_x": null,
       "overflow_y": null,
       "padding": null,
       "right": null,
       "top": null,
       "visibility": null,
       "width": null
      }
     },
     "7750b7950d6d45c6b9f87defb92d007f": {
      "model_module": "@jupyter-widgets/controls",
      "model_module_version": "1.5.0",
      "model_name": "FloatProgressModel",
      "state": {
       "_dom_classes": [],
       "_model_module": "@jupyter-widgets/controls",
       "_model_module_version": "1.5.0",
       "_model_name": "FloatProgressModel",
       "_view_count": null,
       "_view_module": "@jupyter-widgets/controls",
       "_view_module_version": "1.5.0",
       "_view_name": "ProgressView",
       "bar_style": "success",
       "description": "",
       "description_tooltip": null,
       "layout": "IPY_MODEL_a7a43cc4415a4276b603e5f90ddf2eb6",
       "max": 102530333.0,
       "min": 0.0,
       "orientation": "horizontal",
       "style": "IPY_MODEL_e32482b54bf54cd3bb478f0810ee9eeb",
       "value": 102530333.0
      }
     },
     "7f59128a9055477b884d97e2c301408a": {
      "model_module": "@jupyter-widgets/base",
      "model_module_version": "1.2.0",
      "model_name": "LayoutModel",
      "state": {
       "_model_module": "@jupyter-widgets/base",
       "_model_module_version": "1.2.0",
       "_model_name": "LayoutModel",
       "_view_count": null,
       "_view_module": "@jupyter-widgets/base",
       "_view_module_version": "1.2.0",
       "_view_name": "LayoutView",
       "align_content": null,
       "align_items": null,
       "align_self": null,
       "border": null,
       "bottom": null,
       "display": null,
       "flex": null,
       "flex_flow": null,
       "grid_area": null,
       "grid_auto_columns": null,
       "grid_auto_flow": null,
       "grid_auto_rows": null,
       "grid_column": null,
       "grid_gap": null,
       "grid_row": null,
       "grid_template_areas": null,
       "grid_template_columns": null,
       "grid_template_rows": null,
       "height": null,
       "justify_content": null,
       "justify_items": null,
       "left": null,
       "margin": null,
       "max_height": null,
       "max_width": null,
       "min_height": null,
       "min_width": null,
       "object_fit": null,
       "object_position": null,
       "order": null,
       "overflow": null,
       "overflow_x": null,
       "overflow_y": null,
       "padding": null,
       "right": null,
       "top": null,
       "visibility": null,
       "width": null
      }
     },
     "8d0a1fb278c345f8bcf57696f6177bdd": {
      "model_module": "@jupyter-widgets/controls",
      "model_module_version": "1.5.0",
      "model_name": "HTMLModel",
      "state": {
       "_dom_classes": [],
       "_model_module": "@jupyter-widgets/controls",
       "_model_module_version": "1.5.0",
       "_model_name": "HTMLModel",
       "_view_count": null,
       "_view_module": "@jupyter-widgets/controls",
       "_view_module_version": "1.5.0",
       "_view_name": "HTMLView",
       "description": "",
       "description_tooltip": null,
       "layout": "IPY_MODEL_e81456a594b049049594f6cafeaf09d6",
       "placeholder": "​",
       "style": "IPY_MODEL_b2813ae6379f4f8bbf850068fdeb13dd",
       "value": " 97.8M/97.8M [00:01&lt;00:00, 61.9MB/s]"
      }
     },
     "8d3a2d018805478ca82ef0fa9609c9b3": {
      "model_module": "@jupyter-widgets/controls",
      "model_module_version": "1.5.0",
      "model_name": "HTMLModel",
      "state": {
       "_dom_classes": [],
       "_model_module": "@jupyter-widgets/controls",
       "_model_module_version": "1.5.0",
       "_model_name": "HTMLModel",
       "_view_count": null,
       "_view_module": "@jupyter-widgets/controls",
       "_view_module_version": "1.5.0",
       "_view_name": "HTMLView",
       "description": "",
       "description_tooltip": null,
       "layout": "IPY_MODEL_7f59128a9055477b884d97e2c301408a",
       "placeholder": "​",
       "style": "IPY_MODEL_f320aeb077c740d8a7188c75f0e6b081",
       "value": "100%"
      }
     },
     "a7a43cc4415a4276b603e5f90ddf2eb6": {
      "model_module": "@jupyter-widgets/base",
      "model_module_version": "1.2.0",
      "model_name": "LayoutModel",
      "state": {
       "_model_module": "@jupyter-widgets/base",
       "_model_module_version": "1.2.0",
       "_model_name": "LayoutModel",
       "_view_count": null,
       "_view_module": "@jupyter-widgets/base",
       "_view_module_version": "1.2.0",
       "_view_name": "LayoutView",
       "align_content": null,
       "align_items": null,
       "align_self": null,
       "border": null,
       "bottom": null,
       "display": null,
       "flex": null,
       "flex_flow": null,
       "grid_area": null,
       "grid_auto_columns": null,
       "grid_auto_flow": null,
       "grid_auto_rows": null,
       "grid_column": null,
       "grid_gap": null,
       "grid_row": null,
       "grid_template_areas": null,
       "grid_template_columns": null,
       "grid_template_rows": null,
       "height": null,
       "justify_content": null,
       "justify_items": null,
       "left": null,
       "margin": null,
       "max_height": null,
       "max_width": null,
       "min_height": null,
       "min_width": null,
       "object_fit": null,
       "object_position": null,
       "order": null,
       "overflow": null,
       "overflow_x": null,
       "overflow_y": null,
       "padding": null,
       "right": null,
       "top": null,
       "visibility": null,
       "width": null
      }
     },
     "b2813ae6379f4f8bbf850068fdeb13dd": {
      "model_module": "@jupyter-widgets/controls",
      "model_module_version": "1.5.0",
      "model_name": "DescriptionStyleModel",
      "state": {
       "_model_module": "@jupyter-widgets/controls",
       "_model_module_version": "1.5.0",
       "_model_name": "DescriptionStyleModel",
       "_view_count": null,
       "_view_module": "@jupyter-widgets/base",
       "_view_module_version": "1.2.0",
       "_view_name": "StyleView",
       "description_width": ""
      }
     },
     "e32482b54bf54cd3bb478f0810ee9eeb": {
      "model_module": "@jupyter-widgets/controls",
      "model_module_version": "1.5.0",
      "model_name": "ProgressStyleModel",
      "state": {
       "_model_module": "@jupyter-widgets/controls",
       "_model_module_version": "1.5.0",
       "_model_name": "ProgressStyleModel",
       "_view_count": null,
       "_view_module": "@jupyter-widgets/base",
       "_view_module_version": "1.2.0",
       "_view_name": "StyleView",
       "bar_color": null,
       "description_width": ""
      }
     },
     "e81456a594b049049594f6cafeaf09d6": {
      "model_module": "@jupyter-widgets/base",
      "model_module_version": "1.2.0",
      "model_name": "LayoutModel",
      "state": {
       "_model_module": "@jupyter-widgets/base",
       "_model_module_version": "1.2.0",
       "_model_name": "LayoutModel",
       "_view_count": null,
       "_view_module": "@jupyter-widgets/base",
       "_view_module_version": "1.2.0",
       "_view_name": "LayoutView",
       "align_content": null,
       "align_items": null,
       "align_self": null,
       "border": null,
       "bottom": null,
       "display": null,
       "flex": null,
       "flex_flow": null,
       "grid_area": null,
       "grid_auto_columns": null,
       "grid_auto_flow": null,
       "grid_auto_rows": null,
       "grid_column": null,
       "grid_gap": null,
       "grid_row": null,
       "grid_template_areas": null,
       "grid_template_columns": null,
       "grid_template_rows": null,
       "height": null,
       "justify_content": null,
       "justify_items": null,
       "left": null,
       "margin": null,
       "max_height": null,
       "max_width": null,
       "min_height": null,
       "min_width": null,
       "object_fit": null,
       "object_position": null,
       "order": null,
       "overflow": null,
       "overflow_x": null,
       "overflow_y": null,
       "padding": null,
       "right": null,
       "top": null,
       "visibility": null,
       "width": null
      }
     },
     "f320aeb077c740d8a7188c75f0e6b081": {
      "model_module": "@jupyter-widgets/controls",
      "model_module_version": "1.5.0",
      "model_name": "DescriptionStyleModel",
      "state": {
       "_model_module": "@jupyter-widgets/controls",
       "_model_module_version": "1.5.0",
       "_model_name": "DescriptionStyleModel",
       "_view_count": null,
       "_view_module": "@jupyter-widgets/base",
       "_view_module_version": "1.2.0",
       "_view_name": "StyleView",
       "description_width": ""
      }
     }
    },
    "version_major": 2,
    "version_minor": 0
   }
  }
 },
 "nbformat": 4,
 "nbformat_minor": 5
}

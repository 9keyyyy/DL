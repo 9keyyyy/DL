{
 "cells": [
  {
   "cell_type": "code",
   "execution_count": 1,
   "id": "38ad7e9b",
   "metadata": {
    "_cell_guid": "b1076dfc-b9ad-4769-8c92-a6c4dae69d19",
    "_uuid": "8f2839f25d086af736a60e9eeb907d3b93b6e0e5",
    "execution": {
     "iopub.execute_input": "2021-12-04T17:07:57.203723Z",
     "iopub.status.busy": "2021-12-04T17:07:57.202896Z",
     "iopub.status.idle": "2021-12-04T17:07:58.885681Z",
     "shell.execute_reply": "2021-12-04T17:07:58.886384Z",
     "shell.execute_reply.started": "2021-12-04T17:06:30.068776Z"
    },
    "papermill": {
     "duration": 1.711298,
     "end_time": "2021-12-04T17:07:58.886651",
     "exception": false,
     "start_time": "2021-12-04T17:07:57.175353",
     "status": "completed"
    },
    "tags": []
   },
   "outputs": [
    {
     "name": "stdout",
     "output_type": "stream",
     "text": [
      "/kaggle/input/2021-ai-w10-p1/2021-ai-w10-p1/train.csv\n",
      "/kaggle/input/2021-ai-w10-p1/2021-ai-w10-p1/test.csv\n",
      "/kaggle/input/2021-ai-w10-p1/2021-ai-w10-p1/sample_submit.csv\n"
     ]
    }
   ],
   "source": [
    "# This Python 3 environment comes with many helpful analytics libraries installed\n",
    "# It is defined by the kaggle/python Docker image: https://github.com/kaggle/docker-python\n",
    "# For example, here's several helpful packages to load\n",
    "\n",
    "import numpy as np # linear algebra\n",
    "import pandas as pd # data processing, CSV file I/O (e.g. pd.read_csv)\n",
    "import torch\n",
    "import torchvision\n",
    "import torchvision.transforms as transforms\n",
    "from torchvision import models\n",
    "import torch.optim as optim\n",
    "torch.manual_seed(1)\n",
    "\n",
    "import random\n",
    "random.seed(1)\n",
    "\n",
    "device = 'cuda' if torch.cuda.is_available() else 'cpu'\n",
    "if device == 'cuda':\n",
    "    torch.cuda.manual_seed_all(1)\n",
    "\n",
    "\n",
    "# Input data files are available in the read-only \"../input/\" directory\n",
    "# For example, running this (by clicking run or pressing Shift+Enter) will list all files under the input directory\n",
    "\n",
    "import os\n",
    "for dirname, _, filenames in os.walk('/kaggle/input'):\n",
    "    for filename in filenames:\n",
    "        print(os.path.join(dirname, filename))\n",
    "\n",
    "# You can write up to 20GB to the current directory (/kaggle/working/) that gets preserved as output when you create a version using \"Save & Run All\" \n",
    "# You can also write temporary files to /kaggle/temp/, but they won't be saved outside of the current session"
   ]
  },
  {
   "cell_type": "code",
   "execution_count": 2,
   "id": "164bf417",
   "metadata": {
    "execution": {
     "iopub.execute_input": "2021-12-04T17:07:58.917128Z",
     "iopub.status.busy": "2021-12-04T17:07:58.916577Z",
     "iopub.status.idle": "2021-12-04T17:08:04.374937Z",
     "shell.execute_reply": "2021-12-04T17:08:04.374412Z",
     "shell.execute_reply.started": "2021-12-04T17:06:31.766109Z"
    },
    "papermill": {
     "duration": 5.474074,
     "end_time": "2021-12-04T17:08:04.375086",
     "exception": false,
     "start_time": "2021-12-04T17:07:58.901012",
     "status": "completed"
    },
    "tags": []
   },
   "outputs": [],
   "source": [
    "X = pd.read_csv('/kaggle/input/2021-ai-w10-p1/2021-ai-w10-p1/train.csv')\n",
    "y = X['Category']\n",
    "X = X.drop(['Category'], axis = 1)\n",
    "X = X.to_numpy().reshape(-1, 1, 28, 28)"
   ]
  },
  {
   "cell_type": "code",
   "execution_count": 3,
   "id": "b69fb5da",
   "metadata": {
    "execution": {
     "iopub.execute_input": "2021-12-04T17:08:04.404931Z",
     "iopub.status.busy": "2021-12-04T17:08:04.404322Z",
     "iopub.status.idle": "2021-12-04T17:08:07.204073Z",
     "shell.execute_reply": "2021-12-04T17:08:07.203499Z",
     "shell.execute_reply.started": "2021-12-04T17:06:36.880883Z"
    },
    "papermill": {
     "duration": 2.817055,
     "end_time": "2021-12-04T17:08:07.204221",
     "exception": false,
     "start_time": "2021-12-04T17:08:04.387166",
     "status": "completed"
    },
    "tags": []
   },
   "outputs": [],
   "source": [
    "X = torch.FloatTensor(X).to(device)\n",
    "y = torch.LongTensor(y.to_numpy()).to(device)"
   ]
  },
  {
   "cell_type": "code",
   "execution_count": 4,
   "id": "771d1d24",
   "metadata": {
    "execution": {
     "iopub.execute_input": "2021-12-04T17:08:07.235069Z",
     "iopub.status.busy": "2021-12-04T17:08:07.233244Z",
     "iopub.status.idle": "2021-12-04T17:08:07.235725Z",
     "shell.execute_reply": "2021-12-04T17:08:07.236231Z",
     "shell.execute_reply.started": "2021-12-04T17:06:39.814069Z"
    },
    "papermill": {
     "duration": 0.019314,
     "end_time": "2021-12-04T17:08:07.236360",
     "exception": false,
     "start_time": "2021-12-04T17:08:07.217046",
     "status": "completed"
    },
    "tags": []
   },
   "outputs": [],
   "source": [
    "# parameters\n",
    "training_epochs = 10\n",
    "batch_size = 100"
   ]
  },
  {
   "cell_type": "code",
   "execution_count": 5,
   "id": "2bb80da4",
   "metadata": {
    "execution": {
     "iopub.execute_input": "2021-12-04T17:08:07.265917Z",
     "iopub.status.busy": "2021-12-04T17:08:07.265150Z",
     "iopub.status.idle": "2021-12-04T17:08:07.267710Z",
     "shell.execute_reply": "2021-12-04T17:08:07.267270Z",
     "shell.execute_reply.started": "2021-12-04T17:06:39.820085Z"
    },
    "papermill": {
     "duration": 0.019156,
     "end_time": "2021-12-04T17:08:07.267830",
     "exception": false,
     "start_time": "2021-12-04T17:08:07.248674",
     "status": "completed"
    },
    "tags": []
   },
   "outputs": [],
   "source": [
    "from torch.utils.data import  TensorDataset\n",
    "# dataset loader\n",
    "data_loader = torch.utils.data.DataLoader(dataset=TensorDataset(X, y),\n",
    "                                          batch_size=batch_size,\n",
    "                                          shuffle=True,\n",
    "                                          drop_last=True)"
   ]
  },
  {
   "cell_type": "code",
   "execution_count": 6,
   "id": "b702c59c",
   "metadata": {
    "execution": {
     "iopub.execute_input": "2021-12-04T17:08:07.300134Z",
     "iopub.status.busy": "2021-12-04T17:08:07.299586Z",
     "iopub.status.idle": "2021-12-04T17:08:09.003623Z",
     "shell.execute_reply": "2021-12-04T17:08:09.004134Z",
     "shell.execute_reply.started": "2021-12-04T17:06:39.834330Z"
    },
    "papermill": {
     "duration": 1.72438,
     "end_time": "2021-12-04T17:08:09.004305",
     "exception": false,
     "start_time": "2021-12-04T17:08:07.279925",
     "status": "completed"
    },
    "tags": []
   },
   "outputs": [
    {
     "name": "stderr",
     "output_type": "stream",
     "text": [
      "Downloading: \"https://download.pytorch.org/models/resnet18-f37072fd.pth\" to /root/.cache/torch/hub/checkpoints/resnet18-f37072fd.pth\n"
     ]
    },
    {
     "data": {
      "application/vnd.jupyter.widget-view+json": {
       "model_id": "403632c9750f4ac884a6c3e5bfcb8e8a",
       "version_major": 2,
       "version_minor": 0
      },
      "text/plain": [
       "  0%|          | 0.00/44.7M [00:00<?, ?B/s]"
      ]
     },
     "metadata": {},
     "output_type": "display_data"
    },
    {
     "data": {
      "text/plain": [
       "Sequential(\n",
       "  (0): ResNet(\n",
       "    (conv1): Conv2d(3, 64, kernel_size=(7, 7), stride=(2, 2), padding=(3, 3), bias=False)\n",
       "    (bn1): BatchNorm2d(64, eps=1e-05, momentum=0.1, affine=True, track_running_stats=True)\n",
       "    (relu): ReLU(inplace=True)\n",
       "    (maxpool): MaxPool2d(kernel_size=3, stride=2, padding=1, dilation=1, ceil_mode=False)\n",
       "    (layer1): Sequential(\n",
       "      (0): BasicBlock(\n",
       "        (conv1): Conv2d(64, 64, kernel_size=(3, 3), stride=(1, 1), padding=(1, 1), bias=False)\n",
       "        (bn1): BatchNorm2d(64, eps=1e-05, momentum=0.1, affine=True, track_running_stats=True)\n",
       "        (relu): ReLU(inplace=True)\n",
       "        (conv2): Conv2d(64, 64, kernel_size=(3, 3), stride=(1, 1), padding=(1, 1), bias=False)\n",
       "        (bn2): BatchNorm2d(64, eps=1e-05, momentum=0.1, affine=True, track_running_stats=True)\n",
       "      )\n",
       "      (1): BasicBlock(\n",
       "        (conv1): Conv2d(64, 64, kernel_size=(3, 3), stride=(1, 1), padding=(1, 1), bias=False)\n",
       "        (bn1): BatchNorm2d(64, eps=1e-05, momentum=0.1, affine=True, track_running_stats=True)\n",
       "        (relu): ReLU(inplace=True)\n",
       "        (conv2): Conv2d(64, 64, kernel_size=(3, 3), stride=(1, 1), padding=(1, 1), bias=False)\n",
       "        (bn2): BatchNorm2d(64, eps=1e-05, momentum=0.1, affine=True, track_running_stats=True)\n",
       "      )\n",
       "    )\n",
       "    (layer2): Sequential(\n",
       "      (0): BasicBlock(\n",
       "        (conv1): Conv2d(64, 128, kernel_size=(3, 3), stride=(2, 2), padding=(1, 1), bias=False)\n",
       "        (bn1): BatchNorm2d(128, eps=1e-05, momentum=0.1, affine=True, track_running_stats=True)\n",
       "        (relu): ReLU(inplace=True)\n",
       "        (conv2): Conv2d(128, 128, kernel_size=(3, 3), stride=(1, 1), padding=(1, 1), bias=False)\n",
       "        (bn2): BatchNorm2d(128, eps=1e-05, momentum=0.1, affine=True, track_running_stats=True)\n",
       "        (downsample): Sequential(\n",
       "          (0): Conv2d(64, 128, kernel_size=(1, 1), stride=(2, 2), bias=False)\n",
       "          (1): BatchNorm2d(128, eps=1e-05, momentum=0.1, affine=True, track_running_stats=True)\n",
       "        )\n",
       "      )\n",
       "      (1): BasicBlock(\n",
       "        (conv1): Conv2d(128, 128, kernel_size=(3, 3), stride=(1, 1), padding=(1, 1), bias=False)\n",
       "        (bn1): BatchNorm2d(128, eps=1e-05, momentum=0.1, affine=True, track_running_stats=True)\n",
       "        (relu): ReLU(inplace=True)\n",
       "        (conv2): Conv2d(128, 128, kernel_size=(3, 3), stride=(1, 1), padding=(1, 1), bias=False)\n",
       "        (bn2): BatchNorm2d(128, eps=1e-05, momentum=0.1, affine=True, track_running_stats=True)\n",
       "      )\n",
       "    )\n",
       "    (layer3): Sequential(\n",
       "      (0): BasicBlock(\n",
       "        (conv1): Conv2d(128, 256, kernel_size=(3, 3), stride=(2, 2), padding=(1, 1), bias=False)\n",
       "        (bn1): BatchNorm2d(256, eps=1e-05, momentum=0.1, affine=True, track_running_stats=True)\n",
       "        (relu): ReLU(inplace=True)\n",
       "        (conv2): Conv2d(256, 256, kernel_size=(3, 3), stride=(1, 1), padding=(1, 1), bias=False)\n",
       "        (bn2): BatchNorm2d(256, eps=1e-05, momentum=0.1, affine=True, track_running_stats=True)\n",
       "        (downsample): Sequential(\n",
       "          (0): Conv2d(128, 256, kernel_size=(1, 1), stride=(2, 2), bias=False)\n",
       "          (1): BatchNorm2d(256, eps=1e-05, momentum=0.1, affine=True, track_running_stats=True)\n",
       "        )\n",
       "      )\n",
       "      (1): BasicBlock(\n",
       "        (conv1): Conv2d(256, 256, kernel_size=(3, 3), stride=(1, 1), padding=(1, 1), bias=False)\n",
       "        (bn1): BatchNorm2d(256, eps=1e-05, momentum=0.1, affine=True, track_running_stats=True)\n",
       "        (relu): ReLU(inplace=True)\n",
       "        (conv2): Conv2d(256, 256, kernel_size=(3, 3), stride=(1, 1), padding=(1, 1), bias=False)\n",
       "        (bn2): BatchNorm2d(256, eps=1e-05, momentum=0.1, affine=True, track_running_stats=True)\n",
       "      )\n",
       "    )\n",
       "    (layer4): Sequential(\n",
       "      (0): BasicBlock(\n",
       "        (conv1): Conv2d(256, 512, kernel_size=(3, 3), stride=(2, 2), padding=(1, 1), bias=False)\n",
       "        (bn1): BatchNorm2d(512, eps=1e-05, momentum=0.1, affine=True, track_running_stats=True)\n",
       "        (relu): ReLU(inplace=True)\n",
       "        (conv2): Conv2d(512, 512, kernel_size=(3, 3), stride=(1, 1), padding=(1, 1), bias=False)\n",
       "        (bn2): BatchNorm2d(512, eps=1e-05, momentum=0.1, affine=True, track_running_stats=True)\n",
       "        (downsample): Sequential(\n",
       "          (0): Conv2d(256, 512, kernel_size=(1, 1), stride=(2, 2), bias=False)\n",
       "          (1): BatchNorm2d(512, eps=1e-05, momentum=0.1, affine=True, track_running_stats=True)\n",
       "        )\n",
       "      )\n",
       "      (1): BasicBlock(\n",
       "        (conv1): Conv2d(512, 512, kernel_size=(3, 3), stride=(1, 1), padding=(1, 1), bias=False)\n",
       "        (bn1): BatchNorm2d(512, eps=1e-05, momentum=0.1, affine=True, track_running_stats=True)\n",
       "        (relu): ReLU(inplace=True)\n",
       "        (conv2): Conv2d(512, 512, kernel_size=(3, 3), stride=(1, 1), padding=(1, 1), bias=False)\n",
       "        (bn2): BatchNorm2d(512, eps=1e-05, momentum=0.1, affine=True, track_running_stats=True)\n",
       "      )\n",
       "    )\n",
       "    (avgpool): AdaptiveAvgPool2d(output_size=(1, 1))\n",
       "    (fc): Linear(in_features=512, out_features=10, bias=True)\n",
       "  )\n",
       "  (1): ReLU()\n",
       "  (2): Dropout(p=0.3, inplace=False)\n",
       "  (3): Linear(in_features=256, out_features=128, bias=True)\n",
       "  (4): ReLU()\n",
       "  (5): Dropout(p=0.3, inplace=False)\n",
       "  (6): Linear(in_features=128, out_features=10, bias=True)\n",
       ")"
      ]
     },
     "execution_count": 6,
     "metadata": {},
     "output_type": "execute_result"
    }
   ],
   "source": [
    "resnet = models.resnet18(pretrained=True)\n",
    "\n",
    "# change the number of classes \n",
    "resnet.fc.out_features = 10\n",
    "    \n",
    "# for param in resnet.parameters(): \n",
    "#     param.requires_grad = False\n",
    "resnet.layer1.requires_grad=False\n",
    "resnet.layer2.requires_grad=False\n",
    "resnet.layer3.requires_grad=False\n",
    "resnet.layer4.requires_grad=False\n",
    "    \n",
    "def resnetplus(model):\n",
    "    linear1 = torch.nn.Linear(256, 128)\n",
    "    linear2 = torch.nn.Linear(128, 10)\n",
    "\n",
    "    torch.nn.init.xavier_normal_(linear1.weight)\n",
    "    torch.nn.init.xavier_normal_(linear2.weight)\n",
    "\n",
    "    relu = torch.nn.ReLU()\n",
    "    dropout = torch.nn.Dropout(0.3)\n",
    "    res_model = torch.nn.Sequential(model, relu, dropout,\n",
    "                                    linear1,relu, dropout,\n",
    "                                   linear2).to(device)\n",
    "    return res_model\n",
    "    \n",
    "resnetplus(resnet)\n",
    "# .99470"
   ]
  },
  {
   "cell_type": "code",
   "execution_count": 7,
   "id": "24eebabb",
   "metadata": {
    "execution": {
     "iopub.execute_input": "2021-12-04T17:08:09.041603Z",
     "iopub.status.busy": "2021-12-04T17:08:09.039828Z",
     "iopub.status.idle": "2021-12-04T17:08:09.042286Z",
     "shell.execute_reply": "2021-12-04T17:08:09.042744Z",
     "shell.execute_reply.started": "2021-12-04T17:06:40.767081Z"
    },
    "papermill": {
     "duration": 0.022433,
     "end_time": "2021-12-04T17:08:09.042910",
     "exception": false,
     "start_time": "2021-12-04T17:08:09.020477",
     "status": "completed"
    },
    "tags": []
   },
   "outputs": [],
   "source": [
    "# resnet = models.resnet18(pretrained=True)\n",
    "\n",
    "\n",
    "# # change the number of classes \n",
    "# # resnet.fc.out_features = 256\n",
    "    \n",
    "# # for param in resnet.parameters(): \n",
    "# #     param.requires_grad = False\n",
    "\n",
    "# resnet.layer1.requires_grad=False\n",
    "# resnet.layer2.requires_grad=False\n",
    "# resnet.layer3.requires_grad=False\n",
    "# resnet.layer4.requires_grad=False\n",
    "    \n",
    "# def resnetplus(model):\n",
    "#     linear1 = torch.nn.Linear(1000, 256)\n",
    "#     linear2 = torch.nn.Linear(256, 128)\n",
    "#     linear3 = torch.nn.Linear(128, 10)\n",
    "\n",
    "#     torch.nn.init.xavier_normal_(linear1.weight)\n",
    "#     torch.nn.init.xavier_normal_(linear2.weight)\n",
    "#     torch.nn.init.xavier_normal_(linear3.weight)\n",
    "\n",
    "#     relu = torch.nn.ReLU()\n",
    "#     dropout = torch.nn.Dropout(0.3)\n",
    "#     res_model = torch.nn.Sequential(model, \n",
    "#                                     linear1, relu, dropout,\n",
    "#                                    linear2, relu, dropout,\n",
    "#                                    linear3 ).to(device)\n",
    "#     return res_model\n",
    "    \n",
    "# resnetplus(resnet)\n",
    "# # .99550"
   ]
  },
  {
   "cell_type": "code",
   "execution_count": 8,
   "id": "cbf2373f",
   "metadata": {
    "execution": {
     "iopub.execute_input": "2021-12-04T17:08:09.075954Z",
     "iopub.status.busy": "2021-12-04T17:08:09.072713Z",
     "iopub.status.idle": "2021-12-04T17:08:09.078891Z",
     "shell.execute_reply": "2021-12-04T17:08:09.079286Z",
     "shell.execute_reply.started": "2021-12-04T17:06:40.773458Z"
    },
    "papermill": {
     "duration": 0.022285,
     "end_time": "2021-12-04T17:08:09.079411",
     "exception": false,
     "start_time": "2021-12-04T17:08:09.057126",
     "status": "completed"
    },
    "tags": []
   },
   "outputs": [
    {
     "data": {
      "text/plain": [
       "ResNet(\n",
       "  (conv1): Conv2d(3, 64, kernel_size=(7, 7), stride=(2, 2), padding=(3, 3), bias=False)\n",
       "  (bn1): BatchNorm2d(64, eps=1e-05, momentum=0.1, affine=True, track_running_stats=True)\n",
       "  (relu): ReLU(inplace=True)\n",
       "  (maxpool): MaxPool2d(kernel_size=3, stride=2, padding=1, dilation=1, ceil_mode=False)\n",
       "  (layer1): Sequential(\n",
       "    (0): BasicBlock(\n",
       "      (conv1): Conv2d(64, 64, kernel_size=(3, 3), stride=(1, 1), padding=(1, 1), bias=False)\n",
       "      (bn1): BatchNorm2d(64, eps=1e-05, momentum=0.1, affine=True, track_running_stats=True)\n",
       "      (relu): ReLU(inplace=True)\n",
       "      (conv2): Conv2d(64, 64, kernel_size=(3, 3), stride=(1, 1), padding=(1, 1), bias=False)\n",
       "      (bn2): BatchNorm2d(64, eps=1e-05, momentum=0.1, affine=True, track_running_stats=True)\n",
       "    )\n",
       "    (1): BasicBlock(\n",
       "      (conv1): Conv2d(64, 64, kernel_size=(3, 3), stride=(1, 1), padding=(1, 1), bias=False)\n",
       "      (bn1): BatchNorm2d(64, eps=1e-05, momentum=0.1, affine=True, track_running_stats=True)\n",
       "      (relu): ReLU(inplace=True)\n",
       "      (conv2): Conv2d(64, 64, kernel_size=(3, 3), stride=(1, 1), padding=(1, 1), bias=False)\n",
       "      (bn2): BatchNorm2d(64, eps=1e-05, momentum=0.1, affine=True, track_running_stats=True)\n",
       "    )\n",
       "  )\n",
       "  (layer2): Sequential(\n",
       "    (0): BasicBlock(\n",
       "      (conv1): Conv2d(64, 128, kernel_size=(3, 3), stride=(2, 2), padding=(1, 1), bias=False)\n",
       "      (bn1): BatchNorm2d(128, eps=1e-05, momentum=0.1, affine=True, track_running_stats=True)\n",
       "      (relu): ReLU(inplace=True)\n",
       "      (conv2): Conv2d(128, 128, kernel_size=(3, 3), stride=(1, 1), padding=(1, 1), bias=False)\n",
       "      (bn2): BatchNorm2d(128, eps=1e-05, momentum=0.1, affine=True, track_running_stats=True)\n",
       "      (downsample): Sequential(\n",
       "        (0): Conv2d(64, 128, kernel_size=(1, 1), stride=(2, 2), bias=False)\n",
       "        (1): BatchNorm2d(128, eps=1e-05, momentum=0.1, affine=True, track_running_stats=True)\n",
       "      )\n",
       "    )\n",
       "    (1): BasicBlock(\n",
       "      (conv1): Conv2d(128, 128, kernel_size=(3, 3), stride=(1, 1), padding=(1, 1), bias=False)\n",
       "      (bn1): BatchNorm2d(128, eps=1e-05, momentum=0.1, affine=True, track_running_stats=True)\n",
       "      (relu): ReLU(inplace=True)\n",
       "      (conv2): Conv2d(128, 128, kernel_size=(3, 3), stride=(1, 1), padding=(1, 1), bias=False)\n",
       "      (bn2): BatchNorm2d(128, eps=1e-05, momentum=0.1, affine=True, track_running_stats=True)\n",
       "    )\n",
       "  )\n",
       "  (layer3): Sequential(\n",
       "    (0): BasicBlock(\n",
       "      (conv1): Conv2d(128, 256, kernel_size=(3, 3), stride=(2, 2), padding=(1, 1), bias=False)\n",
       "      (bn1): BatchNorm2d(256, eps=1e-05, momentum=0.1, affine=True, track_running_stats=True)\n",
       "      (relu): ReLU(inplace=True)\n",
       "      (conv2): Conv2d(256, 256, kernel_size=(3, 3), stride=(1, 1), padding=(1, 1), bias=False)\n",
       "      (bn2): BatchNorm2d(256, eps=1e-05, momentum=0.1, affine=True, track_running_stats=True)\n",
       "      (downsample): Sequential(\n",
       "        (0): Conv2d(128, 256, kernel_size=(1, 1), stride=(2, 2), bias=False)\n",
       "        (1): BatchNorm2d(256, eps=1e-05, momentum=0.1, affine=True, track_running_stats=True)\n",
       "      )\n",
       "    )\n",
       "    (1): BasicBlock(\n",
       "      (conv1): Conv2d(256, 256, kernel_size=(3, 3), stride=(1, 1), padding=(1, 1), bias=False)\n",
       "      (bn1): BatchNorm2d(256, eps=1e-05, momentum=0.1, affine=True, track_running_stats=True)\n",
       "      (relu): ReLU(inplace=True)\n",
       "      (conv2): Conv2d(256, 256, kernel_size=(3, 3), stride=(1, 1), padding=(1, 1), bias=False)\n",
       "      (bn2): BatchNorm2d(256, eps=1e-05, momentum=0.1, affine=True, track_running_stats=True)\n",
       "    )\n",
       "  )\n",
       "  (layer4): Sequential(\n",
       "    (0): BasicBlock(\n",
       "      (conv1): Conv2d(256, 512, kernel_size=(3, 3), stride=(2, 2), padding=(1, 1), bias=False)\n",
       "      (bn1): BatchNorm2d(512, eps=1e-05, momentum=0.1, affine=True, track_running_stats=True)\n",
       "      (relu): ReLU(inplace=True)\n",
       "      (conv2): Conv2d(512, 512, kernel_size=(3, 3), stride=(1, 1), padding=(1, 1), bias=False)\n",
       "      (bn2): BatchNorm2d(512, eps=1e-05, momentum=0.1, affine=True, track_running_stats=True)\n",
       "      (downsample): Sequential(\n",
       "        (0): Conv2d(256, 512, kernel_size=(1, 1), stride=(2, 2), bias=False)\n",
       "        (1): BatchNorm2d(512, eps=1e-05, momentum=0.1, affine=True, track_running_stats=True)\n",
       "      )\n",
       "    )\n",
       "    (1): BasicBlock(\n",
       "      (conv1): Conv2d(512, 512, kernel_size=(3, 3), stride=(1, 1), padding=(1, 1), bias=False)\n",
       "      (bn1): BatchNorm2d(512, eps=1e-05, momentum=0.1, affine=True, track_running_stats=True)\n",
       "      (relu): ReLU(inplace=True)\n",
       "      (conv2): Conv2d(512, 512, kernel_size=(3, 3), stride=(1, 1), padding=(1, 1), bias=False)\n",
       "      (bn2): BatchNorm2d(512, eps=1e-05, momentum=0.1, affine=True, track_running_stats=True)\n",
       "    )\n",
       "  )\n",
       "  (avgpool): AdaptiveAvgPool2d(output_size=(1, 1))\n",
       "  (fc): Linear(in_features=512, out_features=10, bias=True)\n",
       ")"
      ]
     },
     "execution_count": 8,
     "metadata": {},
     "output_type": "execute_result"
    }
   ],
   "source": [
    "resnet"
   ]
  },
  {
   "cell_type": "code",
   "execution_count": 9,
   "id": "d392e001",
   "metadata": {
    "execution": {
     "iopub.execute_input": "2021-12-04T17:08:09.110554Z",
     "iopub.status.busy": "2021-12-04T17:08:09.109816Z",
     "iopub.status.idle": "2021-12-04T17:08:09.112231Z",
     "shell.execute_reply": "2021-12-04T17:08:09.111765Z",
     "shell.execute_reply.started": "2021-12-04T17:06:40.787753Z"
    },
    "papermill": {
     "duration": 0.019774,
     "end_time": "2021-12-04T17:08:09.112334",
     "exception": false,
     "start_time": "2021-12-04T17:08:09.092560",
     "status": "completed"
    },
    "tags": []
   },
   "outputs": [],
   "source": [
    "criterion = torch.nn.CrossEntropyLoss().to(device)   \n",
    "optimizer = torch.optim.Adam(resnet.parameters(), lr=1e-4)"
   ]
  },
  {
   "cell_type": "code",
   "execution_count": 10,
   "id": "d6526477",
   "metadata": {
    "execution": {
     "iopub.execute_input": "2021-12-04T17:08:09.148566Z",
     "iopub.status.busy": "2021-12-04T17:08:09.148031Z",
     "iopub.status.idle": "2021-12-04T17:24:00.207378Z",
     "shell.execute_reply": "2021-12-04T17:24:00.207997Z",
     "shell.execute_reply.started": "2021-12-04T17:06:40.794444Z"
    },
    "papermill": {
     "duration": 951.08159,
     "end_time": "2021-12-04T17:24:00.208212",
     "exception": false,
     "start_time": "2021-12-04T17:08:09.126622",
     "status": "completed"
    },
    "tags": []
   },
   "outputs": [
    {
     "name": "stdout",
     "output_type": "stream",
     "text": [
      "[Epoch:    1] cost = 0.117140181\n",
      "[Epoch:    2] cost = 0.0185586158\n",
      "[Epoch:    3] cost = 0.0117252143\n",
      "[Epoch:    4] cost = 0.00987461396\n",
      "[Epoch:    5] cost = 0.00851773191\n",
      "[Epoch:    6] cost = 0.00543667004\n",
      "[Epoch:    7] cost = 0.00786158163\n",
      "[Epoch:    8] cost = 0.00818952173\n",
      "[Epoch:    9] cost = 0.00509762717\n",
      "[Epoch:   10] cost = 0.00297881337\n"
     ]
    }
   ],
   "source": [
    "resnet.train()\n",
    "total_batch = len(data_loader)      \n",
    "\n",
    "for epoch in range(training_epochs):\n",
    "    avg_cost = 0\n",
    "    for X, Y in data_loader:\n",
    "        X = transforms.Resize(224)(X)\n",
    "        X = X.repeat(1, 3, 1, 1)\n",
    "        X = transforms.Normalize((0.5, 0.5, 0.5), (0.5, 0.5, 0.5))(X)\n",
    "        X = X.to(device)\n",
    "        Y = Y.to(device)\n",
    "\n",
    "        optimizer.zero_grad()\n",
    "        hypothesis = resnet(X)\n",
    "        cost = criterion(hypothesis, Y)\n",
    "        cost.backward()\n",
    "        optimizer.step()\n",
    "        avg_cost += cost / total_batch\n",
    "        \n",
    "    print('[Epoch: {:>4}] cost = {:>.9}'.format(epoch + 1, avg_cost))\n"
   ]
  },
  {
   "cell_type": "code",
   "execution_count": 11,
   "id": "6b973824",
   "metadata": {
    "execution": {
     "iopub.execute_input": "2021-12-04T17:24:00.245898Z",
     "iopub.status.busy": "2021-12-04T17:24:00.245341Z",
     "iopub.status.idle": "2021-12-04T17:24:00.263746Z",
     "shell.execute_reply": "2021-12-04T17:24:00.263342Z",
     "shell.execute_reply.started": "2021-12-04T17:07:23.099436Z"
    },
    "papermill": {
     "duration": 0.038683,
     "end_time": "2021-12-04T17:24:00.263907",
     "exception": false,
     "start_time": "2021-12-04T17:24:00.225224",
     "status": "completed"
    },
    "tags": []
   },
   "outputs": [],
   "source": [
    "sample =pd.read_csv('/kaggle/input/2021-ai-w10-p1/2021-ai-w10-p1/sample_submit.csv')"
   ]
  },
  {
   "cell_type": "code",
   "execution_count": 12,
   "id": "9237a309",
   "metadata": {
    "execution": {
     "iopub.execute_input": "2021-12-04T17:24:00.301510Z",
     "iopub.status.busy": "2021-12-04T17:24:00.301023Z",
     "iopub.status.idle": "2021-12-04T17:24:01.189986Z",
     "shell.execute_reply": "2021-12-04T17:24:01.189412Z",
     "shell.execute_reply.started": "2021-12-04T17:07:23.101769Z"
    },
    "papermill": {
     "duration": 0.909011,
     "end_time": "2021-12-04T17:24:01.190141",
     "exception": false,
     "start_time": "2021-12-04T17:24:00.281130",
     "status": "completed"
    },
    "tags": []
   },
   "outputs": [],
   "source": [
    "test=pd.read_csv('/kaggle/input/2021-ai-w10-p1/2021-ai-w10-p1/test.csv')\n",
    "test = test.to_numpy().reshape(-1, 1, 28, 28)\n",
    "test = torch.FloatTensor(test).to(device)"
   ]
  },
  {
   "cell_type": "code",
   "execution_count": 13,
   "id": "df8f4aef",
   "metadata": {
    "execution": {
     "iopub.execute_input": "2021-12-04T17:24:01.228557Z",
     "iopub.status.busy": "2021-12-04T17:24:01.224727Z",
     "iopub.status.idle": "2021-12-04T17:24:38.813652Z",
     "shell.execute_reply": "2021-12-04T17:24:38.812667Z",
     "shell.execute_reply.started": "2021-12-04T17:07:23.104650Z"
    },
    "papermill": {
     "duration": 37.607525,
     "end_time": "2021-12-04T17:24:38.813837",
     "exception": false,
     "start_time": "2021-12-04T17:24:01.206312",
     "status": "completed"
    },
    "tags": []
   },
   "outputs": [],
   "source": [
    "resnet.eval()\n",
    "i = 0\n",
    "with torch.no_grad():\n",
    "    for t in test:\n",
    "        t = transforms.Resize(224)(t)\n",
    "        t = t.repeat(1, 3, 1, 1)\n",
    "        t = transforms.Normalize((0.5, 0.5, 0.5), (0.5, 0.5, 0.5))(t)\n",
    "        p = torch.argmax(resnet(t), 1).cpu()\n",
    "        p = p.detach().numpy()\n",
    "        sample['Category'][i] = p\n",
    "        i = i + 1   \n"
   ]
  },
  {
   "cell_type": "code",
   "execution_count": 14,
   "id": "e855ba6a",
   "metadata": {
    "execution": {
     "iopub.execute_input": "2021-12-04T17:24:38.851025Z",
     "iopub.status.busy": "2021-12-04T17:24:38.850208Z",
     "iopub.status.idle": "2021-12-04T17:24:38.858821Z",
     "shell.execute_reply": "2021-12-04T17:24:38.858368Z",
     "shell.execute_reply.started": "2021-12-04T17:07:23.106470Z"
    },
    "papermill": {
     "duration": 0.028795,
     "end_time": "2021-12-04T17:24:38.858932",
     "exception": false,
     "start_time": "2021-12-04T17:24:38.830137",
     "status": "completed"
    },
    "tags": []
   },
   "outputs": [
    {
     "data": {
      "text/html": [
       "<div>\n",
       "<style scoped>\n",
       "    .dataframe tbody tr th:only-of-type {\n",
       "        vertical-align: middle;\n",
       "    }\n",
       "\n",
       "    .dataframe tbody tr th {\n",
       "        vertical-align: top;\n",
       "    }\n",
       "\n",
       "    .dataframe thead th {\n",
       "        text-align: right;\n",
       "    }\n",
       "</style>\n",
       "<table border=\"1\" class=\"dataframe\">\n",
       "  <thead>\n",
       "    <tr style=\"text-align: right;\">\n",
       "      <th></th>\n",
       "      <th>Id</th>\n",
       "      <th>Category</th>\n",
       "    </tr>\n",
       "  </thead>\n",
       "  <tbody>\n",
       "    <tr>\n",
       "      <th>0</th>\n",
       "      <td>0</td>\n",
       "      <td>6</td>\n",
       "    </tr>\n",
       "    <tr>\n",
       "      <th>1</th>\n",
       "      <td>1</td>\n",
       "      <td>1</td>\n",
       "    </tr>\n",
       "    <tr>\n",
       "      <th>2</th>\n",
       "      <td>2</td>\n",
       "      <td>0</td>\n",
       "    </tr>\n",
       "    <tr>\n",
       "      <th>3</th>\n",
       "      <td>3</td>\n",
       "      <td>0</td>\n",
       "    </tr>\n",
       "    <tr>\n",
       "      <th>4</th>\n",
       "      <td>4</td>\n",
       "      <td>9</td>\n",
       "    </tr>\n",
       "  </tbody>\n",
       "</table>\n",
       "</div>"
      ],
      "text/plain": [
       "   Id  Category\n",
       "0   0         6\n",
       "1   1         1\n",
       "2   2         0\n",
       "3   3         0\n",
       "4   4         9"
      ]
     },
     "execution_count": 14,
     "metadata": {},
     "output_type": "execute_result"
    }
   ],
   "source": [
    "sample.head()"
   ]
  },
  {
   "cell_type": "code",
   "execution_count": 15,
   "id": "329d37f0",
   "metadata": {
    "execution": {
     "iopub.execute_input": "2021-12-04T17:24:38.895434Z",
     "iopub.status.busy": "2021-12-04T17:24:38.894599Z",
     "iopub.status.idle": "2021-12-04T17:24:38.913616Z",
     "shell.execute_reply": "2021-12-04T17:24:38.913207Z",
     "shell.execute_reply.started": "2021-12-04T17:07:23.108295Z"
    },
    "papermill": {
     "duration": 0.038553,
     "end_time": "2021-12-04T17:24:38.913720",
     "exception": false,
     "start_time": "2021-12-04T17:24:38.875167",
     "status": "completed"
    },
    "tags": []
   },
   "outputs": [],
   "source": [
    "sample.to_csv('submit.csv', index=False)"
   ]
  },
  {
   "cell_type": "code",
   "execution_count": null,
   "id": "3484d935",
   "metadata": {
    "papermill": {
     "duration": 0.017381,
     "end_time": "2021-12-04T17:24:38.947225",
     "exception": false,
     "start_time": "2021-12-04T17:24:38.929844",
     "status": "completed"
    },
    "tags": []
   },
   "outputs": [],
   "source": []
  }
 ],
 "metadata": {
  "kernelspec": {
   "display_name": "Python 3",
   "language": "python",
   "name": "python3"
  },
  "language_info": {
   "codemirror_mode": {
    "name": "ipython",
    "version": 3
   },
   "file_extension": ".py",
   "mimetype": "text/x-python",
   "name": "python",
   "nbconvert_exporter": "python",
   "pygments_lexer": "ipython3",
   "version": "3.7.10"
  },
  "papermill": {
   "default_parameters": {},
   "duration": 1010.455774,
   "end_time": "2021-12-04T17:24:40.276257",
   "environment_variables": {},
   "exception": null,
   "input_path": "__notebook__.ipynb",
   "output_path": "__notebook__.ipynb",
   "parameters": {},
   "start_time": "2021-12-04T17:07:49.820483",
   "version": "2.3.3"
  },
  "widgets": {
   "application/vnd.jupyter.widget-state+json": {
    "state": {
     "1f4b31afb5804b2c9e78f6c9835b72ca": {
      "model_module": "@jupyter-widgets/controls",
      "model_module_version": "1.5.0",
      "model_name": "HTMLModel",
      "state": {
       "_dom_classes": [],
       "_model_module": "@jupyter-widgets/controls",
       "_model_module_version": "1.5.0",
       "_model_name": "HTMLModel",
       "_view_count": null,
       "_view_module": "@jupyter-widgets/controls",
       "_view_module_version": "1.5.0",
       "_view_name": "HTMLView",
       "description": "",
       "description_tooltip": null,
       "layout": "IPY_MODEL_fa08dfb2b4374b6abe2c06c329697b38",
       "placeholder": "​",
       "style": "IPY_MODEL_36a8c3daba2e40f590ff46a2fdea9498",
       "value": "100%"
      }
     },
     "281f9376959046b293944d35bc6bdfc3": {
      "model_module": "@jupyter-widgets/base",
      "model_module_version": "1.2.0",
      "model_name": "LayoutModel",
      "state": {
       "_model_module": "@jupyter-widgets/base",
       "_model_module_version": "1.2.0",
       "_model_name": "LayoutModel",
       "_view_count": null,
       "_view_module": "@jupyter-widgets/base",
       "_view_module_version": "1.2.0",
       "_view_name": "LayoutView",
       "align_content": null,
       "align_items": null,
       "align_self": null,
       "border": null,
       "bottom": null,
       "display": null,
       "flex": null,
       "flex_flow": null,
       "grid_area": null,
       "grid_auto_columns": null,
       "grid_auto_flow": null,
       "grid_auto_rows": null,
       "grid_column": null,
       "grid_gap": null,
       "grid_row": null,
       "grid_template_areas": null,
       "grid_template_columns": null,
       "grid_template_rows": null,
       "height": null,
       "justify_content": null,
       "justify_items": null,
       "left": null,
       "margin": null,
       "max_height": null,
       "max_width": null,
       "min_height": null,
       "min_width": null,
       "object_fit": null,
       "object_position": null,
       "order": null,
       "overflow": null,
       "overflow_x": null,
       "overflow_y": null,
       "padding": null,
       "right": null,
       "top": null,
       "visibility": null,
       "width": null
      }
     },
     "2d68b21c88de49ddb37fa55f1eaf79e4": {
      "model_module": "@jupyter-widgets/base",
      "model_module_version": "1.2.0",
      "model_name": "LayoutModel",
      "state": {
       "_model_module": "@jupyter-widgets/base",
       "_model_module_version": "1.2.0",
       "_model_name": "LayoutModel",
       "_view_count": null,
       "_view_module": "@jupyter-widgets/base",
       "_view_module_version": "1.2.0",
       "_view_name": "LayoutView",
       "align_content": null,
       "align_items": null,
       "align_self": null,
       "border": null,
       "bottom": null,
       "display": null,
       "flex": null,
       "flex_flow": null,
       "grid_area": null,
       "grid_auto_columns": null,
       "grid_auto_flow": null,
       "grid_auto_rows": null,
       "grid_column": null,
       "grid_gap": null,
       "grid_row": null,
       "grid_template_areas": null,
       "grid_template_columns": null,
       "grid_template_rows": null,
       "height": null,
       "justify_content": null,
       "justify_items": null,
       "left": null,
       "margin": null,
       "max_height": null,
       "max_width": null,
       "min_height": null,
       "min_width": null,
       "object_fit": null,
       "object_position": null,
       "order": null,
       "overflow": null,
       "overflow_x": null,
       "overflow_y": null,
       "padding": null,
       "right": null,
       "top": null,
       "visibility": null,
       "width": null
      }
     },
     "360438f3b9ba4be89ca6fd56bcc553b5": {
      "model_module": "@jupyter-widgets/controls",
      "model_module_version": "1.5.0",
      "model_name": "DescriptionStyleModel",
      "state": {
       "_model_module": "@jupyter-widgets/controls",
       "_model_module_version": "1.5.0",
       "_model_name": "DescriptionStyleModel",
       "_view_count": null,
       "_view_module": "@jupyter-widgets/base",
       "_view_module_version": "1.2.0",
       "_view_name": "StyleView",
       "description_width": ""
      }
     },
     "36a8c3daba2e40f590ff46a2fdea9498": {
      "model_module": "@jupyter-widgets/controls",
      "model_module_version": "1.5.0",
      "model_name": "DescriptionStyleModel",
      "state": {
       "_model_module": "@jupyter-widgets/controls",
       "_model_module_version": "1.5.0",
       "_model_name": "DescriptionStyleModel",
       "_view_count": null,
       "_view_module": "@jupyter-widgets/base",
       "_view_module_version": "1.2.0",
       "_view_name": "StyleView",
       "description_width": ""
      }
     },
     "403632c9750f4ac884a6c3e5bfcb8e8a": {
      "model_module": "@jupyter-widgets/controls",
      "model_module_version": "1.5.0",
      "model_name": "HBoxModel",
      "state": {
       "_dom_classes": [],
       "_model_module": "@jupyter-widgets/controls",
       "_model_module_version": "1.5.0",
       "_model_name": "HBoxModel",
       "_view_count": null,
       "_view_module": "@jupyter-widgets/controls",
       "_view_module_version": "1.5.0",
       "_view_name": "HBoxView",
       "box_style": "",
       "children": [
        "IPY_MODEL_1f4b31afb5804b2c9e78f6c9835b72ca",
        "IPY_MODEL_6364bd69e19b444d948dab42b890e3bf",
        "IPY_MODEL_e34f91183a964cfe8c7f3b43645817fd"
       ],
       "layout": "IPY_MODEL_281f9376959046b293944d35bc6bdfc3"
      }
     },
     "467c82165b0d4cf582dcbfd98dd30ade": {
      "model_module": "@jupyter-widgets/controls",
      "model_module_version": "1.5.0",
      "model_name": "ProgressStyleModel",
      "state": {
       "_model_module": "@jupyter-widgets/controls",
       "_model_module_version": "1.5.0",
       "_model_name": "ProgressStyleModel",
       "_view_count": null,
       "_view_module": "@jupyter-widgets/base",
       "_view_module_version": "1.2.0",
       "_view_name": "StyleView",
       "bar_color": null,
       "description_width": ""
      }
     },
     "6364bd69e19b444d948dab42b890e3bf": {
      "model_module": "@jupyter-widgets/controls",
      "model_module_version": "1.5.0",
      "model_name": "FloatProgressModel",
      "state": {
       "_dom_classes": [],
       "_model_module": "@jupyter-widgets/controls",
       "_model_module_version": "1.5.0",
       "_model_name": "FloatProgressModel",
       "_view_count": null,
       "_view_module": "@jupyter-widgets/controls",
       "_view_module_version": "1.5.0",
       "_view_name": "ProgressView",
       "bar_style": "success",
       "description": "",
       "description_tooltip": null,
       "layout": "IPY_MODEL_95488546f440407097a2ead9764e4159",
       "max": 46830571.0,
       "min": 0.0,
       "orientation": "horizontal",
       "style": "IPY_MODEL_467c82165b0d4cf582dcbfd98dd30ade",
       "value": 46830571.0
      }
     },
     "95488546f440407097a2ead9764e4159": {
      "model_module": "@jupyter-widgets/base",
      "model_module_version": "1.2.0",
      "model_name": "LayoutModel",
      "state": {
       "_model_module": "@jupyter-widgets/base",
       "_model_module_version": "1.2.0",
       "_model_name": "LayoutModel",
       "_view_count": null,
       "_view_module": "@jupyter-widgets/base",
       "_view_module_version": "1.2.0",
       "_view_name": "LayoutView",
       "align_content": null,
       "align_items": null,
       "align_self": null,
       "border": null,
       "bottom": null,
       "display": null,
       "flex": null,
       "flex_flow": null,
       "grid_area": null,
       "grid_auto_columns": null,
       "grid_auto_flow": null,
       "grid_auto_rows": null,
       "grid_column": null,
       "grid_gap": null,
       "grid_row": null,
       "grid_template_areas": null,
       "grid_template_columns": null,
       "grid_template_rows": null,
       "height": null,
       "justify_content": null,
       "justify_items": null,
       "left": null,
       "margin": null,
       "max_height": null,
       "max_width": null,
       "min_height": null,
       "min_width": null,
       "object_fit": null,
       "object_position": null,
       "order": null,
       "overflow": null,
       "overflow_x": null,
       "overflow_y": null,
       "padding": null,
       "right": null,
       "top": null,
       "visibility": null,
       "width": null
      }
     },
     "e34f91183a964cfe8c7f3b43645817fd": {
      "model_module": "@jupyter-widgets/controls",
      "model_module_version": "1.5.0",
      "model_name": "HTMLModel",
      "state": {
       "_dom_classes": [],
       "_model_module": "@jupyter-widgets/controls",
       "_model_module_version": "1.5.0",
       "_model_name": "HTMLModel",
       "_view_count": null,
       "_view_module": "@jupyter-widgets/controls",
       "_view_module_version": "1.5.0",
       "_view_name": "HTMLView",
       "description": "",
       "description_tooltip": null,
       "layout": "IPY_MODEL_2d68b21c88de49ddb37fa55f1eaf79e4",
       "placeholder": "​",
       "style": "IPY_MODEL_360438f3b9ba4be89ca6fd56bcc553b5",
       "value": " 44.7M/44.7M [00:01&lt;00:00, 53.4MB/s]"
      }
     },
     "fa08dfb2b4374b6abe2c06c329697b38": {
      "model_module": "@jupyter-widgets/base",
      "model_module_version": "1.2.0",
      "model_name": "LayoutModel",
      "state": {
       "_model_module": "@jupyter-widgets/base",
       "_model_module_version": "1.2.0",
       "_model_name": "LayoutModel",
       "_view_count": null,
       "_view_module": "@jupyter-widgets/base",
       "_view_module_version": "1.2.0",
       "_view_name": "LayoutView",
       "align_content": null,
       "align_items": null,
       "align_self": null,
       "border": null,
       "bottom": null,
       "display": null,
       "flex": null,
       "flex_flow": null,
       "grid_area": null,
       "grid_auto_columns": null,
       "grid_auto_flow": null,
       "grid_auto_rows": null,
       "grid_column": null,
       "grid_gap": null,
       "grid_row": null,
       "grid_template_areas": null,
       "grid_template_columns": null,
       "grid_template_rows": null,
       "height": null,
       "justify_content": null,
       "justify_items": null,
       "left": null,
       "margin": null,
       "max_height": null,
       "max_width": null,
       "min_height": null,
       "min_width": null,
       "object_fit": null,
       "object_position": null,
       "order": null,
       "overflow": null,
       "overflow_x": null,
       "overflow_y": null,
       "padding": null,
       "right": null,
       "top": null,
       "visibility": null,
       "width": null
      }
     }
    },
    "version_major": 2,
    "version_minor": 0
   }
  }
 },
 "nbformat": 4,
 "nbformat_minor": 5
}
